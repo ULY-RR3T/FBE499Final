{
 "cells": [
  {
   "cell_type": "code",
   "execution_count": 12,
   "metadata": {
    "pycharm": {
     "name": "#%%\n"
    }
   },
   "outputs": [],
   "source": [
    "import numpy as np\n",
    "import pandas as pd\n",
    "import matplotlib.pyplot as plt\n",
    "import seaborn as sns\n",
    "from pandas.tseries.offsets import MonthEnd\n",
    "import statsmodels.formula.api as smf\n",
    "import seaborn as sns\n",
    "import yfinance as yf\n",
    "from scipy.stats.mstats import winsorize"
   ]
  },
  {
   "cell_type": "markdown",
   "metadata": {
    "pycharm": {
     "name": "#%% md\n"
    }
   },
   "source": [
    "## 1. Preprocess"
   ]
  },
  {
   "cell_type": "markdown",
   "metadata": {
    "pycharm": {
     "name": "#%% md\n"
    }
   },
   "source": [
    "### 1.1 COMPUSTAT Data"
   ]
  },
  {
   "cell_type": "markdown",
   "metadata": {
    "pycharm": {
     "name": "#%% md\n"
    }
   },
   "source": [
    "#### 1.1.1 Load Data"
   ]
  },
  {
   "cell_type": "code",
   "execution_count": 13,
   "metadata": {
    "pycharm": {
     "name": "#%%\n"
    }
   },
   "outputs": [
    {
     "data": {
      "text/plain": "         index  PERMNO       DATE CURCDQ       ACTQ       CEQQ  EPSPXQ  \\\n0            0   10001 2000-06-30    USD     16.287     13.961   -0.06   \n1            1   10001 2000-09-30    USD     20.527     13.635   -0.24   \n2            2   10001 2000-12-31    USD     30.677     14.330    0.54   \n3            3   10001 2001-03-31    USD     32.211     16.759    1.04   \n4            4   10001 2001-06-30    USD     26.622     15.613   -0.22   \n...        ...     ...        ...    ...        ...        ...     ...   \n536577  538602   93436 2021-09-30    USD  25002.000  27053.000    1.62   \n536578  538603   93436 2021-12-31    USD  27100.000  30189.000    2.29   \n536579  538604   93436 2022-03-31    USD  29050.000  34085.000    3.20   \n536580  538605   93436 2022-06-30    USD  31222.000  36376.000    2.18   \n536581  538606   93436 2022-09-30    USD  35990.000  39851.000    1.05   \n\n          OIADPQ  IVCHY      REVTY COSTAT     MKVALTQ  NAICS  \n0         -0.145    NaN     72.196      I         NaN     22  \n1          0.184    0.0     16.419      I         NaN     22  \n2          1.976    0.0     44.947      I         NaN     22  \n3          4.634    0.0     84.935      I         NaN     22  \n4         -0.571    0.0    120.161      I         NaN     22  \n...          ...    ...        ...    ...         ...    ...  \n536577  2055.000    0.0  36104.000      A   778581.92     33  \n536578  2613.000    0.0  53823.000      A  1091653.74     33  \n536579  3603.000    0.0  18756.000      A  1116393.60     33  \n536580  2606.000    0.0  35690.000      A   701030.22     33  \n536581  3688.000    0.0  57144.000      A   837659.50     33  \n\n[536582 rows x 13 columns]",
      "text/html": "<div>\n<style scoped>\n    .dataframe tbody tr th:only-of-type {\n        vertical-align: middle;\n    }\n\n    .dataframe tbody tr th {\n        vertical-align: top;\n    }\n\n    .dataframe thead th {\n        text-align: right;\n    }\n</style>\n<table border=\"1\" class=\"dataframe\">\n  <thead>\n    <tr style=\"text-align: right;\">\n      <th></th>\n      <th>index</th>\n      <th>PERMNO</th>\n      <th>DATE</th>\n      <th>CURCDQ</th>\n      <th>ACTQ</th>\n      <th>CEQQ</th>\n      <th>EPSPXQ</th>\n      <th>OIADPQ</th>\n      <th>IVCHY</th>\n      <th>REVTY</th>\n      <th>COSTAT</th>\n      <th>MKVALTQ</th>\n      <th>NAICS</th>\n    </tr>\n  </thead>\n  <tbody>\n    <tr>\n      <th>0</th>\n      <td>0</td>\n      <td>10001</td>\n      <td>2000-06-30</td>\n      <td>USD</td>\n      <td>16.287</td>\n      <td>13.961</td>\n      <td>-0.06</td>\n      <td>-0.145</td>\n      <td>NaN</td>\n      <td>72.196</td>\n      <td>I</td>\n      <td>NaN</td>\n      <td>22</td>\n    </tr>\n    <tr>\n      <th>1</th>\n      <td>1</td>\n      <td>10001</td>\n      <td>2000-09-30</td>\n      <td>USD</td>\n      <td>20.527</td>\n      <td>13.635</td>\n      <td>-0.24</td>\n      <td>0.184</td>\n      <td>0.0</td>\n      <td>16.419</td>\n      <td>I</td>\n      <td>NaN</td>\n      <td>22</td>\n    </tr>\n    <tr>\n      <th>2</th>\n      <td>2</td>\n      <td>10001</td>\n      <td>2000-12-31</td>\n      <td>USD</td>\n      <td>30.677</td>\n      <td>14.330</td>\n      <td>0.54</td>\n      <td>1.976</td>\n      <td>0.0</td>\n      <td>44.947</td>\n      <td>I</td>\n      <td>NaN</td>\n      <td>22</td>\n    </tr>\n    <tr>\n      <th>3</th>\n      <td>3</td>\n      <td>10001</td>\n      <td>2001-03-31</td>\n      <td>USD</td>\n      <td>32.211</td>\n      <td>16.759</td>\n      <td>1.04</td>\n      <td>4.634</td>\n      <td>0.0</td>\n      <td>84.935</td>\n      <td>I</td>\n      <td>NaN</td>\n      <td>22</td>\n    </tr>\n    <tr>\n      <th>4</th>\n      <td>4</td>\n      <td>10001</td>\n      <td>2001-06-30</td>\n      <td>USD</td>\n      <td>26.622</td>\n      <td>15.613</td>\n      <td>-0.22</td>\n      <td>-0.571</td>\n      <td>0.0</td>\n      <td>120.161</td>\n      <td>I</td>\n      <td>NaN</td>\n      <td>22</td>\n    </tr>\n    <tr>\n      <th>...</th>\n      <td>...</td>\n      <td>...</td>\n      <td>...</td>\n      <td>...</td>\n      <td>...</td>\n      <td>...</td>\n      <td>...</td>\n      <td>...</td>\n      <td>...</td>\n      <td>...</td>\n      <td>...</td>\n      <td>...</td>\n      <td>...</td>\n    </tr>\n    <tr>\n      <th>536577</th>\n      <td>538602</td>\n      <td>93436</td>\n      <td>2021-09-30</td>\n      <td>USD</td>\n      <td>25002.000</td>\n      <td>27053.000</td>\n      <td>1.62</td>\n      <td>2055.000</td>\n      <td>0.0</td>\n      <td>36104.000</td>\n      <td>A</td>\n      <td>778581.92</td>\n      <td>33</td>\n    </tr>\n    <tr>\n      <th>536578</th>\n      <td>538603</td>\n      <td>93436</td>\n      <td>2021-12-31</td>\n      <td>USD</td>\n      <td>27100.000</td>\n      <td>30189.000</td>\n      <td>2.29</td>\n      <td>2613.000</td>\n      <td>0.0</td>\n      <td>53823.000</td>\n      <td>A</td>\n      <td>1091653.74</td>\n      <td>33</td>\n    </tr>\n    <tr>\n      <th>536579</th>\n      <td>538604</td>\n      <td>93436</td>\n      <td>2022-03-31</td>\n      <td>USD</td>\n      <td>29050.000</td>\n      <td>34085.000</td>\n      <td>3.20</td>\n      <td>3603.000</td>\n      <td>0.0</td>\n      <td>18756.000</td>\n      <td>A</td>\n      <td>1116393.60</td>\n      <td>33</td>\n    </tr>\n    <tr>\n      <th>536580</th>\n      <td>538605</td>\n      <td>93436</td>\n      <td>2022-06-30</td>\n      <td>USD</td>\n      <td>31222.000</td>\n      <td>36376.000</td>\n      <td>2.18</td>\n      <td>2606.000</td>\n      <td>0.0</td>\n      <td>35690.000</td>\n      <td>A</td>\n      <td>701030.22</td>\n      <td>33</td>\n    </tr>\n    <tr>\n      <th>536581</th>\n      <td>538606</td>\n      <td>93436</td>\n      <td>2022-09-30</td>\n      <td>USD</td>\n      <td>35990.000</td>\n      <td>39851.000</td>\n      <td>1.05</td>\n      <td>3688.000</td>\n      <td>0.0</td>\n      <td>57144.000</td>\n      <td>A</td>\n      <td>837659.50</td>\n      <td>33</td>\n    </tr>\n  </tbody>\n</table>\n<p>536582 rows × 13 columns</p>\n</div>"
     },
     "execution_count": 13,
     "metadata": {},
     "output_type": "execute_result"
    }
   ],
   "source": [
    "cstat = pd.read_feather('cstat.feather')\n",
    "cstat"
   ]
  },
  {
   "cell_type": "markdown",
   "metadata": {
    "pycharm": {
     "name": "#%% md\n"
    }
   },
   "source": [
    "COMPUSTAT Reference Table:\n",
    "1. CURCDQ: Currency of the financial report.\n",
    "2. ACTQ: Total current assets.\n",
    "3. CEQQ: Total common equity.\n",
    "4. EPSPXQ: Earnings per share.\n",
    "5. OIADPQ: Operating income after depreciation.\n",
    "6. IVCHY: Increase in investments.\n",
    "7. REVTY: Total revenue.\n",
    "8. COSTAT: Active/Inactive company status.\n",
    "9. MKVALTQ: Total market value.\n",
    "10. NAICS: North American Industry Classification Code."
   ]
  },
  {
   "cell_type": "markdown",
   "metadata": {
    "pycharm": {
     "name": "#%% md\n"
    }
   },
   "source": [
    "#### 1.1.2 Clean Dataset"
   ]
  },
  {
   "cell_type": "code",
   "execution_count": 14,
   "metadata": {
    "pycharm": {
     "name": "#%%\n"
    }
   },
   "outputs": [
    {
     "data": {
      "text/plain": "A    324201\nI    212381\nName: COSTAT, dtype: int64"
     },
     "execution_count": 14,
     "metadata": {},
     "output_type": "execute_result"
    }
   ],
   "source": [
    "cstat['COSTAT'].value_counts()"
   ]
  },
  {
   "cell_type": "code",
   "execution_count": 15,
   "metadata": {
    "pycharm": {
     "name": "#%%\n"
    }
   },
   "outputs": [],
   "source": [
    "cstat = cstat[cstat['COSTAT'] == 'A']"
   ]
  },
  {
   "cell_type": "markdown",
   "metadata": {
    "pycharm": {
     "name": "#%% md\n"
    }
   },
   "source": [
    "As we can see here, there are more than 200,000 entries of inactive company reports. Naturally, we expect inactive companies to have different behaviors comparing to active companies. Thus, we will only look at companies whoose status is active."
   ]
  },
  {
   "cell_type": "code",
   "execution_count": 16,
   "metadata": {
    "pycharm": {
     "name": "#%%\n"
    }
   },
   "outputs": [
    {
     "data": {
      "text/plain": "USD    318969\nCAD      5232\nName: CURCDQ, dtype: int64"
     },
     "execution_count": 16,
     "metadata": {},
     "output_type": "execute_result"
    }
   ],
   "source": [
    "cstat['CURCDQ'].value_counts()"
   ]
  },
  {
   "cell_type": "code",
   "execution_count": 17,
   "metadata": {
    "pycharm": {
     "name": "#%%\n"
    }
   },
   "outputs": [],
   "source": [
    "cstat = cstat[cstat['CURCDQ'] == 'USD']"
   ]
  },
  {
   "cell_type": "code",
   "execution_count": 18,
   "metadata": {
    "pycharm": {
     "name": "#%%\n"
    }
   },
   "outputs": [
    {
     "data": {
      "text/plain": "(318969, 13)"
     },
     "execution_count": 18,
     "metadata": {},
     "output_type": "execute_result"
    }
   ],
   "source": [
    "cstat.shape"
   ]
  },
  {
   "cell_type": "markdown",
   "metadata": {
    "pycharm": {
     "name": "#%% md\n"
    }
   },
   "source": [
    "Similarly, to make our dataset more homogeneous, we will also remove the companies reporting in CAD instead of US dollars."
   ]
  },
  {
   "cell_type": "markdown",
   "metadata": {
    "pycharm": {
     "name": "#%% md\n"
    }
   },
   "source": [
    "#### 1.1.3 Handling Missing Values\n",
    "Since we would like to be rigorous in our treatment of values. We will choose to drop data if imputation is not resonable / feasible"
   ]
  },
  {
   "cell_type": "code",
   "execution_count": 19,
   "metadata": {
    "pycharm": {
     "name": "#%%\n"
    }
   },
   "outputs": [
    {
     "name": "stdout",
     "output_type": "stream",
     "text": [
      "---Percentage of nan values---\n"
     ]
    },
    {
     "data": {
      "text/plain": "MKVALTQ    0.334384\nACTQ       0.297499\nIVCHY      0.187485\nREVTY      0.186626\nOIADPQ     0.115726\nCEQQ       0.109186\nEPSPXQ     0.104327\nindex      0.000000\nPERMNO     0.000000\nDATE       0.000000\nCURCDQ     0.000000\nCOSTAT     0.000000\nNAICS      0.000000\ndtype: float64"
     },
     "execution_count": 19,
     "metadata": {},
     "output_type": "execute_result"
    }
   ],
   "source": [
    "print('---Percentage of nan values---')\n",
    "(cstat.isna().sum() / len(cstat)).sort_values(ascending=False)"
   ]
  },
  {
   "cell_type": "markdown",
   "metadata": {
    "pycharm": {
     "name": "#%% md\n"
    }
   },
   "source": [
    "As we see, the majority of missing values are from the columns MKVALTQ and ACTQ. For market value, we can easily fill in the nan value from the CRSP shares outstanding multiplied by price of the shares. For ACTQ and all other ones, however, we have to drop those."
   ]
  },
  {
   "cell_type": "code",
   "execution_count": 20,
   "metadata": {
    "pycharm": {
     "name": "#%%\n"
    }
   },
   "outputs": [
    {
     "name": "stdout",
     "output_type": "stream",
     "text": [
      "---Cstat length after removing missing entries: 206221---\n"
     ]
    }
   ],
   "source": [
    "cstat = cstat[~cstat[cstat.columns.drop('MKVALTQ')].isna().any(axis=1)]\n",
    "print(f'---Cstat length after removing missing entries: {len(cstat)}---')"
   ]
  },
  {
   "cell_type": "markdown",
   "metadata": {
    "pycharm": {
     "name": "#%% md\n"
    }
   },
   "source": [
    "### 1.2 CRSP Stock Data"
   ]
  },
  {
   "cell_type": "markdown",
   "metadata": {
    "pycharm": {
     "name": "#%% md\n"
    }
   },
   "source": [
    "#### 1.2.1 Load Data"
   ]
  },
  {
   "cell_type": "code",
   "execution_count": 21,
   "metadata": {
    "pycharm": {
     "name": "#%%\n"
    }
   },
   "outputs": [
    {
     "data": {
      "text/plain": "          PERMNO Ticker       DATE    DlyPrc  DlyClose     ShrOut\n0          10001   EGAS 2000-01-03    8.5625    8.5625     2450.0\n1          10001   EGAS 2000-01-04    8.4375    8.4375     2450.0\n2          10001   EGAS 2000-01-05    8.5625    8.5625     2450.0\n3          10001   EGAS 2000-01-06    8.5000    8.5000     2450.0\n4          10001   EGAS 2000-01-07    8.4375    8.4375     2450.0\n...          ...    ...        ...       ...       ...        ...\n40543147   93436   TSLA 2022-02-23  764.0400  764.0400  1033508.0\n40543148   93436   TSLA 2022-02-24  800.7700  800.7700  1033508.0\n40543149   93436   TSLA 2022-02-25  809.8700  809.8700  1033508.0\n40543150   93436   TSLA 2022-02-28  870.4300  870.4300  1033508.0\n40543151   93436   TSLA 2022-03-01  864.3700  864.3700  1033508.0\n\n[40543152 rows x 6 columns]",
      "text/html": "<div>\n<style scoped>\n    .dataframe tbody tr th:only-of-type {\n        vertical-align: middle;\n    }\n\n    .dataframe tbody tr th {\n        vertical-align: top;\n    }\n\n    .dataframe thead th {\n        text-align: right;\n    }\n</style>\n<table border=\"1\" class=\"dataframe\">\n  <thead>\n    <tr style=\"text-align: right;\">\n      <th></th>\n      <th>PERMNO</th>\n      <th>Ticker</th>\n      <th>DATE</th>\n      <th>DlyPrc</th>\n      <th>DlyClose</th>\n      <th>ShrOut</th>\n    </tr>\n  </thead>\n  <tbody>\n    <tr>\n      <th>0</th>\n      <td>10001</td>\n      <td>EGAS</td>\n      <td>2000-01-03</td>\n      <td>8.5625</td>\n      <td>8.5625</td>\n      <td>2450.0</td>\n    </tr>\n    <tr>\n      <th>1</th>\n      <td>10001</td>\n      <td>EGAS</td>\n      <td>2000-01-04</td>\n      <td>8.4375</td>\n      <td>8.4375</td>\n      <td>2450.0</td>\n    </tr>\n    <tr>\n      <th>2</th>\n      <td>10001</td>\n      <td>EGAS</td>\n      <td>2000-01-05</td>\n      <td>8.5625</td>\n      <td>8.5625</td>\n      <td>2450.0</td>\n    </tr>\n    <tr>\n      <th>3</th>\n      <td>10001</td>\n      <td>EGAS</td>\n      <td>2000-01-06</td>\n      <td>8.5000</td>\n      <td>8.5000</td>\n      <td>2450.0</td>\n    </tr>\n    <tr>\n      <th>4</th>\n      <td>10001</td>\n      <td>EGAS</td>\n      <td>2000-01-07</td>\n      <td>8.4375</td>\n      <td>8.4375</td>\n      <td>2450.0</td>\n    </tr>\n    <tr>\n      <th>...</th>\n      <td>...</td>\n      <td>...</td>\n      <td>...</td>\n      <td>...</td>\n      <td>...</td>\n      <td>...</td>\n    </tr>\n    <tr>\n      <th>40543147</th>\n      <td>93436</td>\n      <td>TSLA</td>\n      <td>2022-02-23</td>\n      <td>764.0400</td>\n      <td>764.0400</td>\n      <td>1033508.0</td>\n    </tr>\n    <tr>\n      <th>40543148</th>\n      <td>93436</td>\n      <td>TSLA</td>\n      <td>2022-02-24</td>\n      <td>800.7700</td>\n      <td>800.7700</td>\n      <td>1033508.0</td>\n    </tr>\n    <tr>\n      <th>40543149</th>\n      <td>93436</td>\n      <td>TSLA</td>\n      <td>2022-02-25</td>\n      <td>809.8700</td>\n      <td>809.8700</td>\n      <td>1033508.0</td>\n    </tr>\n    <tr>\n      <th>40543150</th>\n      <td>93436</td>\n      <td>TSLA</td>\n      <td>2022-02-28</td>\n      <td>870.4300</td>\n      <td>870.4300</td>\n      <td>1033508.0</td>\n    </tr>\n    <tr>\n      <th>40543151</th>\n      <td>93436</td>\n      <td>TSLA</td>\n      <td>2022-03-01</td>\n      <td>864.3700</td>\n      <td>864.3700</td>\n      <td>1033508.0</td>\n    </tr>\n  </tbody>\n</table>\n<p>40543152 rows × 6 columns</p>\n</div>"
     },
     "execution_count": 21,
     "metadata": {},
     "output_type": "execute_result"
    }
   ],
   "source": [
    "stocks = pd.read_feather('crsp.feather')\n",
    "stocks"
   ]
  },
  {
   "cell_type": "code",
   "execution_count": 22,
   "metadata": {
    "pycharm": {
     "name": "#%%\n"
    }
   },
   "outputs": [
    {
     "data": {
      "text/plain": "True     39940121\nFalse      603031\nName: DlyPrc, dtype: int64"
     },
     "execution_count": 22,
     "metadata": {},
     "output_type": "execute_result"
    }
   ],
   "source": [
    "(stocks['DlyPrc'] > 0).value_counts()"
   ]
  },
  {
   "cell_type": "code",
   "execution_count": 23,
   "metadata": {
    "pycharm": {
     "name": "#%%\n"
    }
   },
   "outputs": [],
   "source": [
    "stocks['DlyPrc'] = np.abs(stocks['DlyPrc'])"
   ]
  },
  {
   "cell_type": "markdown",
   "metadata": {
    "pycharm": {
     "name": "#%% md\n"
    }
   },
   "source": [
    "Now, observe that some of our prices are negative. According to CRSP's documentation, negative prices indicates they are not the realized prices at closing, but rather the middle of the bid-ask spread at close. Hence, we can safely convert all these values to positive numbers."
   ]
  },
  {
   "cell_type": "markdown",
   "metadata": {
    "pycharm": {
     "name": "#%% md\n"
    }
   },
   "source": [
    "#### 1.2.2 Stock Missing Values"
   ]
  },
  {
   "cell_type": "code",
   "execution_count": 24,
   "metadata": {
    "pycharm": {
     "name": "#%%\n"
    }
   },
   "outputs": [
    {
     "data": {
      "text/plain": "PERMNO            0\nTicker          240\nDATE              0\nDlyPrc       594105\nDlyClose    1972179\nShrOut        12697\ndtype: int64"
     },
     "execution_count": 24,
     "metadata": {},
     "output_type": "execute_result"
    }
   ],
   "source": [
    "stocks.isna().sum(axis=0)"
   ]
  },
  {
   "cell_type": "markdown",
   "metadata": {
    "pycharm": {
     "name": "#%% md\n"
    }
   },
   "source": [
    "It seems like there are a lot more missing values for daily closing prices, so we will use DlyPrc only and drop those closing prices. Also, all other missing entries are subsequently dropped."
   ]
  },
  {
   "cell_type": "code",
   "execution_count": 25,
   "metadata": {
    "pycharm": {
     "name": "#%%\n"
    }
   },
   "outputs": [],
   "source": [
    "stocks = stocks.dropna().drop(['Ticker','DlyClose'],axis=1)"
   ]
  },
  {
   "cell_type": "markdown",
   "metadata": {
    "pycharm": {
     "name": "#%% md\n"
    }
   },
   "source": [
    "### 1.3 Merge CRSP and COMPUSTAT"
   ]
  },
  {
   "cell_type": "code",
   "execution_count": 26,
   "metadata": {
    "pycharm": {
     "name": "#%%\n"
    }
   },
   "outputs": [],
   "source": [
    "cstat = pd.merge(stocks,cstat,how='inner',on=['PERMNO','DATE'])"
   ]
  },
  {
   "cell_type": "code",
   "execution_count": 27,
   "metadata": {
    "pycharm": {
     "name": "#%%\n"
    }
   },
   "outputs": [
    {
     "data": {
      "text/plain": "        PERMNO       DATE    DlyPrc     ShrOut   index CURCDQ       ACTQ  \\\n0        10026 2000-06-30    17.875     8542.0     215    USD     61.009   \n1        10026 2001-12-31    24.450     8654.0     221    USD     60.182   \n2        10026 2002-09-30    36.850     8903.0     224    USD     75.367   \n3        10026 2002-12-31    35.710     8905.0     225    USD     74.749   \n4        10026 2003-03-31    30.320     8742.0     226    USD     80.996   \n...        ...        ...       ...        ...     ...    ...        ...   \n134877   93436 2020-12-31   705.670   959854.0  538599    USD  26717.000   \n134878   93436 2021-03-31   667.930   963000.0  538600    USD  24705.000   \n134879   93436 2021-06-30   679.700   984003.0  538601    USD  24693.000   \n134880   93436 2021-09-30   775.480  1004000.0  538602    USD  25002.000   \n134881   93436 2021-12-31  1056.780  1033508.0  538603    USD  27100.000   \n\n             CEQQ  EPSPXQ    OIADPQ  IVCHY      REVTY COSTAT    MKVALTQ  NAICS  \n0         129.923    0.57     8.620    0.0    222.207      A      153.0     31  \n1         147.584    0.10     1.480    0.0     74.797      A      212.0     31  \n2         168.709    0.84    11.539    0.0    353.187      A      328.0     31  \n3         169.881    0.14     1.810    0.0     77.244      A      318.0     31  \n4         167.484    0.34     4.623    0.0    158.652      A      265.0     31  \n...           ...     ...       ...    ...        ...    ...        ...    ...  \n134877  22225.000    0.28   575.000    0.0  31536.000      A   677443.0     33  \n134878  23017.000    0.46   493.000    0.0  10389.000      A   643217.0     33  \n134879  24804.000    1.18  1335.000    0.0  22347.000      A   668825.0     33  \n134880  27053.000    1.62  2055.000    0.0  36104.000      A   778582.0     33  \n134881  30189.000    2.29  2613.000    0.0  53823.000      A  1091654.0     33  \n\n[134882 rows x 15 columns]",
      "text/html": "<div>\n<style scoped>\n    .dataframe tbody tr th:only-of-type {\n        vertical-align: middle;\n    }\n\n    .dataframe tbody tr th {\n        vertical-align: top;\n    }\n\n    .dataframe thead th {\n        text-align: right;\n    }\n</style>\n<table border=\"1\" class=\"dataframe\">\n  <thead>\n    <tr style=\"text-align: right;\">\n      <th></th>\n      <th>PERMNO</th>\n      <th>DATE</th>\n      <th>DlyPrc</th>\n      <th>ShrOut</th>\n      <th>index</th>\n      <th>CURCDQ</th>\n      <th>ACTQ</th>\n      <th>CEQQ</th>\n      <th>EPSPXQ</th>\n      <th>OIADPQ</th>\n      <th>IVCHY</th>\n      <th>REVTY</th>\n      <th>COSTAT</th>\n      <th>MKVALTQ</th>\n      <th>NAICS</th>\n    </tr>\n  </thead>\n  <tbody>\n    <tr>\n      <th>0</th>\n      <td>10026</td>\n      <td>2000-06-30</td>\n      <td>17.875</td>\n      <td>8542.0</td>\n      <td>215</td>\n      <td>USD</td>\n      <td>61.009</td>\n      <td>129.923</td>\n      <td>0.57</td>\n      <td>8.620</td>\n      <td>0.0</td>\n      <td>222.207</td>\n      <td>A</td>\n      <td>153.0</td>\n      <td>31</td>\n    </tr>\n    <tr>\n      <th>1</th>\n      <td>10026</td>\n      <td>2001-12-31</td>\n      <td>24.450</td>\n      <td>8654.0</td>\n      <td>221</td>\n      <td>USD</td>\n      <td>60.182</td>\n      <td>147.584</td>\n      <td>0.10</td>\n      <td>1.480</td>\n      <td>0.0</td>\n      <td>74.797</td>\n      <td>A</td>\n      <td>212.0</td>\n      <td>31</td>\n    </tr>\n    <tr>\n      <th>2</th>\n      <td>10026</td>\n      <td>2002-09-30</td>\n      <td>36.850</td>\n      <td>8903.0</td>\n      <td>224</td>\n      <td>USD</td>\n      <td>75.367</td>\n      <td>168.709</td>\n      <td>0.84</td>\n      <td>11.539</td>\n      <td>0.0</td>\n      <td>353.187</td>\n      <td>A</td>\n      <td>328.0</td>\n      <td>31</td>\n    </tr>\n    <tr>\n      <th>3</th>\n      <td>10026</td>\n      <td>2002-12-31</td>\n      <td>35.710</td>\n      <td>8905.0</td>\n      <td>225</td>\n      <td>USD</td>\n      <td>74.749</td>\n      <td>169.881</td>\n      <td>0.14</td>\n      <td>1.810</td>\n      <td>0.0</td>\n      <td>77.244</td>\n      <td>A</td>\n      <td>318.0</td>\n      <td>31</td>\n    </tr>\n    <tr>\n      <th>4</th>\n      <td>10026</td>\n      <td>2003-03-31</td>\n      <td>30.320</td>\n      <td>8742.0</td>\n      <td>226</td>\n      <td>USD</td>\n      <td>80.996</td>\n      <td>167.484</td>\n      <td>0.34</td>\n      <td>4.623</td>\n      <td>0.0</td>\n      <td>158.652</td>\n      <td>A</td>\n      <td>265.0</td>\n      <td>31</td>\n    </tr>\n    <tr>\n      <th>...</th>\n      <td>...</td>\n      <td>...</td>\n      <td>...</td>\n      <td>...</td>\n      <td>...</td>\n      <td>...</td>\n      <td>...</td>\n      <td>...</td>\n      <td>...</td>\n      <td>...</td>\n      <td>...</td>\n      <td>...</td>\n      <td>...</td>\n      <td>...</td>\n      <td>...</td>\n    </tr>\n    <tr>\n      <th>134877</th>\n      <td>93436</td>\n      <td>2020-12-31</td>\n      <td>705.670</td>\n      <td>959854.0</td>\n      <td>538599</td>\n      <td>USD</td>\n      <td>26717.000</td>\n      <td>22225.000</td>\n      <td>0.28</td>\n      <td>575.000</td>\n      <td>0.0</td>\n      <td>31536.000</td>\n      <td>A</td>\n      <td>677443.0</td>\n      <td>33</td>\n    </tr>\n    <tr>\n      <th>134878</th>\n      <td>93436</td>\n      <td>2021-03-31</td>\n      <td>667.930</td>\n      <td>963000.0</td>\n      <td>538600</td>\n      <td>USD</td>\n      <td>24705.000</td>\n      <td>23017.000</td>\n      <td>0.46</td>\n      <td>493.000</td>\n      <td>0.0</td>\n      <td>10389.000</td>\n      <td>A</td>\n      <td>643217.0</td>\n      <td>33</td>\n    </tr>\n    <tr>\n      <th>134879</th>\n      <td>93436</td>\n      <td>2021-06-30</td>\n      <td>679.700</td>\n      <td>984003.0</td>\n      <td>538601</td>\n      <td>USD</td>\n      <td>24693.000</td>\n      <td>24804.000</td>\n      <td>1.18</td>\n      <td>1335.000</td>\n      <td>0.0</td>\n      <td>22347.000</td>\n      <td>A</td>\n      <td>668825.0</td>\n      <td>33</td>\n    </tr>\n    <tr>\n      <th>134880</th>\n      <td>93436</td>\n      <td>2021-09-30</td>\n      <td>775.480</td>\n      <td>1004000.0</td>\n      <td>538602</td>\n      <td>USD</td>\n      <td>25002.000</td>\n      <td>27053.000</td>\n      <td>1.62</td>\n      <td>2055.000</td>\n      <td>0.0</td>\n      <td>36104.000</td>\n      <td>A</td>\n      <td>778582.0</td>\n      <td>33</td>\n    </tr>\n    <tr>\n      <th>134881</th>\n      <td>93436</td>\n      <td>2021-12-31</td>\n      <td>1056.780</td>\n      <td>1033508.0</td>\n      <td>538603</td>\n      <td>USD</td>\n      <td>27100.000</td>\n      <td>30189.000</td>\n      <td>2.29</td>\n      <td>2613.000</td>\n      <td>0.0</td>\n      <td>53823.000</td>\n      <td>A</td>\n      <td>1091654.0</td>\n      <td>33</td>\n    </tr>\n  </tbody>\n</table>\n<p>134882 rows × 15 columns</p>\n</div>"
     },
     "execution_count": 27,
     "metadata": {},
     "output_type": "execute_result"
    }
   ],
   "source": [
    "mv = cstat['ShrOut'] * cstat['DlyPrc']\n",
    "cstat['MKVALTQ'] = round(cstat['MKVALTQ'].fillna(mv/1000))\n",
    "cstat = cstat.dropna()\n",
    "cstat"
   ]
  },
  {
   "cell_type": "markdown",
   "metadata": {
    "pycharm": {
     "name": "#%% md\n"
    }
   },
   "source": [
    "Filled in the previoulsy mentioned missing features of market cap data with the data avaliable in CRSP."
   ]
  },
  {
   "cell_type": "markdown",
   "metadata": {
    "pycharm": {
     "name": "#%% md\n"
    }
   },
   "source": [
    "#### 1.3.1 Computing Required Factors\n",
    "\n",
    "We will add the following factors (Note that all generated factors are lower case while the original columns are in upper case).\n",
    "1. actqg: Asset growth rate. atg = current period ACTQ / previous period actq\n",
    "2. pb: Price to Book ratio. pb = market value / total common equity\n",
    "3. roe: Return on Equity. roe = Income (We use opearting income) / total common equity\n",
    "4. beta: the market beta of the period from our previous observation to the next observation.\n",
    "5. ret_1: The lead return on the stock from the current time stamp to the next time stamp.\n",
    "\n",
    "* Now, we have every component of the Fama-French 5 factor model in our dataset. SMB is proxied by market cap, HML is proxied by PB ratio, RMW is proxied by roe, CMA is proxied by increase in investments (IVCHY)"
   ]
  },
  {
   "cell_type": "code",
   "execution_count": 28,
   "metadata": {
    "pycharm": {
     "name": "#%%\n"
    }
   },
   "outputs": [],
   "source": [
    "cstat = cstat.set_index(['PERMNO','DATE'])"
   ]
  },
  {
   "cell_type": "code",
   "execution_count": 29,
   "metadata": {
    "pycharm": {
     "name": "#%%\n"
    }
   },
   "outputs": [
    {
     "data": {
      "text/plain": "                    DlyPrc    ShrOut   index CURCDQ       ACTQ       CEQQ  \\\nPERMNO DATE                                                                 \n10026  2001-12-31    24.45    8654.0     221    USD     60.182    147.584   \n       2002-09-30    36.85    8903.0     224    USD     75.367    168.709   \n       2002-12-31    35.71    8905.0     225    USD     74.749    169.881   \n       2003-03-31    30.32    8742.0     226    USD     80.996    167.484   \n       2003-06-30    31.40    8868.0     227    USD     90.863    173.262   \n...                    ...       ...     ...    ...        ...        ...   \n93436  2020-06-30  1079.81  186000.0  538597    USD  15336.000   9855.000   \n       2020-09-30   429.01  948000.0  538598    USD  21744.000  16031.000   \n       2020-12-31   705.67  959854.0  538599    USD  26717.000  22225.000   \n       2021-03-31   667.93  963000.0  538600    USD  24705.000  23017.000   \n       2021-06-30   679.70  984003.0  538601    USD  24693.000  24804.000   \n\n                   EPSPXQ    OIADPQ  IVCHY      REVTY COSTAT   MKVALTQ NAICS  \\\nPERMNO DATE                                                                    \n10026  2001-12-31    0.10     1.480    0.0     74.797      A     212.0    31   \n       2002-09-30    0.84    11.539    0.0    353.187      A     328.0    31   \n       2002-12-31    0.14     1.810    0.0     77.244      A     318.0    31   \n       2003-03-31    0.34     4.623    0.0    158.652      A     265.0    31   \n       2003-06-30    0.91    12.157    0.0    261.181      A     278.0    31   \n...                   ...       ...    ...        ...    ...       ...   ...   \n93436  2020-06-30    0.56   536.000    0.0  12021.000      A  200845.0    33   \n       2020-09-30    0.32   766.000    0.0  20792.000      A  406701.0    33   \n       2020-12-31    0.28   575.000    0.0  31536.000      A  677443.0    33   \n       2021-03-31    0.46   493.000    0.0  10389.000      A  643217.0    33   \n       2021-06-30    1.18  1335.000    0.0  22347.000      A  668825.0    33   \n\n                      actqg       pb       roe     ret_1  quarters  \nPERMNO DATE                                                         \n10026  2001-12-31 -0.013555     2.12   0.01480 -0.030936       6.0  \n       2002-09-30  0.252318     3.28   0.11539 -0.150938       3.0  \n       2002-12-31 -0.008200     3.18   0.01810  0.035620       1.0  \n       2003-03-31  0.083573     2.65   0.04623  0.139490       1.0  \n       2003-06-30  0.121821     2.78   0.12157  0.055338       1.0  \n...                     ...      ...       ...       ...       ...  \n93436  2020-06-30  0.029746  2008.45   5.36000  0.644880       1.0  \n       2020-09-30  0.417840  4067.01   7.66000 -0.053481       1.0  \n       2020-12-31  0.228707  6774.43   5.75000  0.017622       1.0  \n       2021-03-31 -0.075308  6432.17   4.93000  0.140915       1.0  \n       2021-06-30 -0.000486  6688.25  13.35000  0.362743       1.0  \n\n[124607 rows x 18 columns]",
      "text/html": "<div>\n<style scoped>\n    .dataframe tbody tr th:only-of-type {\n        vertical-align: middle;\n    }\n\n    .dataframe tbody tr th {\n        vertical-align: top;\n    }\n\n    .dataframe thead th {\n        text-align: right;\n    }\n</style>\n<table border=\"1\" class=\"dataframe\">\n  <thead>\n    <tr style=\"text-align: right;\">\n      <th></th>\n      <th></th>\n      <th>DlyPrc</th>\n      <th>ShrOut</th>\n      <th>index</th>\n      <th>CURCDQ</th>\n      <th>ACTQ</th>\n      <th>CEQQ</th>\n      <th>EPSPXQ</th>\n      <th>OIADPQ</th>\n      <th>IVCHY</th>\n      <th>REVTY</th>\n      <th>COSTAT</th>\n      <th>MKVALTQ</th>\n      <th>NAICS</th>\n      <th>actqg</th>\n      <th>pb</th>\n      <th>roe</th>\n      <th>ret_1</th>\n      <th>quarters</th>\n    </tr>\n    <tr>\n      <th>PERMNO</th>\n      <th>DATE</th>\n      <th></th>\n      <th></th>\n      <th></th>\n      <th></th>\n      <th></th>\n      <th></th>\n      <th></th>\n      <th></th>\n      <th></th>\n      <th></th>\n      <th></th>\n      <th></th>\n      <th></th>\n      <th></th>\n      <th></th>\n      <th></th>\n      <th></th>\n      <th></th>\n    </tr>\n  </thead>\n  <tbody>\n    <tr>\n      <th rowspan=\"5\" valign=\"top\">10026</th>\n      <th>2001-12-31</th>\n      <td>24.45</td>\n      <td>8654.0</td>\n      <td>221</td>\n      <td>USD</td>\n      <td>60.182</td>\n      <td>147.584</td>\n      <td>0.10</td>\n      <td>1.480</td>\n      <td>0.0</td>\n      <td>74.797</td>\n      <td>A</td>\n      <td>212.0</td>\n      <td>31</td>\n      <td>-0.013555</td>\n      <td>2.12</td>\n      <td>0.01480</td>\n      <td>-0.030936</td>\n      <td>6.0</td>\n    </tr>\n    <tr>\n      <th>2002-09-30</th>\n      <td>36.85</td>\n      <td>8903.0</td>\n      <td>224</td>\n      <td>USD</td>\n      <td>75.367</td>\n      <td>168.709</td>\n      <td>0.84</td>\n      <td>11.539</td>\n      <td>0.0</td>\n      <td>353.187</td>\n      <td>A</td>\n      <td>328.0</td>\n      <td>31</td>\n      <td>0.252318</td>\n      <td>3.28</td>\n      <td>0.11539</td>\n      <td>-0.150938</td>\n      <td>3.0</td>\n    </tr>\n    <tr>\n      <th>2002-12-31</th>\n      <td>35.71</td>\n      <td>8905.0</td>\n      <td>225</td>\n      <td>USD</td>\n      <td>74.749</td>\n      <td>169.881</td>\n      <td>0.14</td>\n      <td>1.810</td>\n      <td>0.0</td>\n      <td>77.244</td>\n      <td>A</td>\n      <td>318.0</td>\n      <td>31</td>\n      <td>-0.008200</td>\n      <td>3.18</td>\n      <td>0.01810</td>\n      <td>0.035620</td>\n      <td>1.0</td>\n    </tr>\n    <tr>\n      <th>2003-03-31</th>\n      <td>30.32</td>\n      <td>8742.0</td>\n      <td>226</td>\n      <td>USD</td>\n      <td>80.996</td>\n      <td>167.484</td>\n      <td>0.34</td>\n      <td>4.623</td>\n      <td>0.0</td>\n      <td>158.652</td>\n      <td>A</td>\n      <td>265.0</td>\n      <td>31</td>\n      <td>0.083573</td>\n      <td>2.65</td>\n      <td>0.04623</td>\n      <td>0.139490</td>\n      <td>1.0</td>\n    </tr>\n    <tr>\n      <th>2003-06-30</th>\n      <td>31.40</td>\n      <td>8868.0</td>\n      <td>227</td>\n      <td>USD</td>\n      <td>90.863</td>\n      <td>173.262</td>\n      <td>0.91</td>\n      <td>12.157</td>\n      <td>0.0</td>\n      <td>261.181</td>\n      <td>A</td>\n      <td>278.0</td>\n      <td>31</td>\n      <td>0.121821</td>\n      <td>2.78</td>\n      <td>0.12157</td>\n      <td>0.055338</td>\n      <td>1.0</td>\n    </tr>\n    <tr>\n      <th>...</th>\n      <th>...</th>\n      <td>...</td>\n      <td>...</td>\n      <td>...</td>\n      <td>...</td>\n      <td>...</td>\n      <td>...</td>\n      <td>...</td>\n      <td>...</td>\n      <td>...</td>\n      <td>...</td>\n      <td>...</td>\n      <td>...</td>\n      <td>...</td>\n      <td>...</td>\n      <td>...</td>\n      <td>...</td>\n      <td>...</td>\n      <td>...</td>\n    </tr>\n    <tr>\n      <th rowspan=\"5\" valign=\"top\">93436</th>\n      <th>2020-06-30</th>\n      <td>1079.81</td>\n      <td>186000.0</td>\n      <td>538597</td>\n      <td>USD</td>\n      <td>15336.000</td>\n      <td>9855.000</td>\n      <td>0.56</td>\n      <td>536.000</td>\n      <td>0.0</td>\n      <td>12021.000</td>\n      <td>A</td>\n      <td>200845.0</td>\n      <td>33</td>\n      <td>0.029746</td>\n      <td>2008.45</td>\n      <td>5.36000</td>\n      <td>0.644880</td>\n      <td>1.0</td>\n    </tr>\n    <tr>\n      <th>2020-09-30</th>\n      <td>429.01</td>\n      <td>948000.0</td>\n      <td>538598</td>\n      <td>USD</td>\n      <td>21744.000</td>\n      <td>16031.000</td>\n      <td>0.32</td>\n      <td>766.000</td>\n      <td>0.0</td>\n      <td>20792.000</td>\n      <td>A</td>\n      <td>406701.0</td>\n      <td>33</td>\n      <td>0.417840</td>\n      <td>4067.01</td>\n      <td>7.66000</td>\n      <td>-0.053481</td>\n      <td>1.0</td>\n    </tr>\n    <tr>\n      <th>2020-12-31</th>\n      <td>705.67</td>\n      <td>959854.0</td>\n      <td>538599</td>\n      <td>USD</td>\n      <td>26717.000</td>\n      <td>22225.000</td>\n      <td>0.28</td>\n      <td>575.000</td>\n      <td>0.0</td>\n      <td>31536.000</td>\n      <td>A</td>\n      <td>677443.0</td>\n      <td>33</td>\n      <td>0.228707</td>\n      <td>6774.43</td>\n      <td>5.75000</td>\n      <td>0.017622</td>\n      <td>1.0</td>\n    </tr>\n    <tr>\n      <th>2021-03-31</th>\n      <td>667.93</td>\n      <td>963000.0</td>\n      <td>538600</td>\n      <td>USD</td>\n      <td>24705.000</td>\n      <td>23017.000</td>\n      <td>0.46</td>\n      <td>493.000</td>\n      <td>0.0</td>\n      <td>10389.000</td>\n      <td>A</td>\n      <td>643217.0</td>\n      <td>33</td>\n      <td>-0.075308</td>\n      <td>6432.17</td>\n      <td>4.93000</td>\n      <td>0.140915</td>\n      <td>1.0</td>\n    </tr>\n    <tr>\n      <th>2021-06-30</th>\n      <td>679.70</td>\n      <td>984003.0</td>\n      <td>538601</td>\n      <td>USD</td>\n      <td>24693.000</td>\n      <td>24804.000</td>\n      <td>1.18</td>\n      <td>1335.000</td>\n      <td>0.0</td>\n      <td>22347.000</td>\n      <td>A</td>\n      <td>668825.0</td>\n      <td>33</td>\n      <td>-0.000486</td>\n      <td>6688.25</td>\n      <td>13.35000</td>\n      <td>0.362743</td>\n      <td>1.0</td>\n    </tr>\n  </tbody>\n</table>\n<p>124607 rows × 18 columns</p>\n</div>"
     },
     "execution_count": 29,
     "metadata": {},
     "output_type": "execute_result"
    }
   ],
   "source": [
    "grouped = cstat.groupby(['PERMNO'])\n",
    "cstat['actqg'] = grouped['ACTQ'].pct_change().clip(-10,10)\n",
    "# cstat['actqg'] = grouped['ACTQ'].pct_change().clip(-10,10)\n",
    "cstat['pb'] = cstat['MKVALTQ']/cstat['CEQQ'].clip(-100,100)\n",
    "cstat['roe'] = cstat['OIADPQ']/cstat['CEQQ'].clip(-100,100)\n",
    "cstat['ret_1'] = grouped['DlyPrc'].pct_change().shift(-2)\n",
    "\n",
    "cstat['NAICS'] = cstat['NAICS'].astype('category')\n",
    "cstat['quarters'] = np.floor(cstat.reset_index().groupby(['PERMNO'])['DATE'].diff().dt.days / 90).values\n",
    "# cstat = cstat.drop(['DlyPrc','ShrOut','index','CURCDQ','COSTAT'],axis=1).dropna()\n",
    "\n",
    "cstat.dropna(inplace=True)\n",
    "cstat"
   ]
  },
  {
   "cell_type": "markdown",
   "metadata": {
    "pycharm": {
     "name": "#%% md\n"
    }
   },
   "source": [
    "#### 1.3.2 Load Stock Beta"
   ]
  },
  {
   "cell_type": "code",
   "execution_count": 30,
   "metadata": {
    "pycharm": {
     "name": "#%%\n"
    }
   },
   "outputs": [
    {
     "data": {
      "text/plain": "        PERMNO       DATE   DlyPrc    ShrOut   index CURCDQ       ACTQ  \\\n0        10026 2001-12-31    24.45    8654.0     221    USD     60.182   \n1        10026 2002-09-30    36.85    8903.0     224    USD     75.367   \n2        10026 2002-12-31    35.71    8905.0     225    USD     74.749   \n3        10026 2003-03-31    30.32    8742.0     226    USD     80.996   \n4        10026 2003-06-30    31.40    8868.0     227    USD     90.863   \n...        ...        ...      ...       ...     ...    ...        ...   \n101324   93436 2020-06-30  1079.81  186000.0  538597    USD  15336.000   \n101325   93436 2020-09-30   429.01  948000.0  538598    USD  21744.000   \n101326   93436 2020-12-31   705.67  959854.0  538599    USD  26717.000   \n101327   93436 2021-03-31   667.93  963000.0  538600    USD  24705.000   \n101328   93436 2021-06-30   679.70  984003.0  538601    USD  24693.000   \n\n             CEQQ  EPSPXQ    OIADPQ  ...      REVTY  COSTAT   MKVALTQ  NAICS  \\\n0         147.584    0.10     1.480  ...     74.797       A     212.0     31   \n1         168.709    0.84    11.539  ...    353.187       A     328.0     31   \n2         169.881    0.14     1.810  ...     77.244       A     318.0     31   \n3         167.484    0.34     4.623  ...    158.652       A     265.0     31   \n4         173.262    0.91    12.157  ...    261.181       A     278.0     31   \n...           ...     ...       ...  ...        ...     ...       ...    ...   \n101324   9855.000    0.56   536.000  ...  12021.000       A  200845.0     33   \n101325  16031.000    0.32   766.000  ...  20792.000       A  406701.0     33   \n101326  22225.000    0.28   575.000  ...  31536.000       A  677443.0     33   \n101327  23017.000    0.46   493.000  ...  10389.000       A  643217.0     33   \n101328  24804.000    1.18  1335.000  ...  22347.000       A  668825.0     33   \n\n           actqg       pb       roe     ret_1  quarters   B_MKT  \n0      -0.013555     2.12   0.01480 -0.030936       6.0  0.9372  \n1       0.252318     3.28   0.11539 -0.150938       3.0  0.7866  \n2      -0.008200     3.18   0.01810  0.035620       1.0  0.6919  \n3       0.083573     2.65   0.04623  0.139490       1.0  0.7413  \n4       0.121821     2.78   0.12157  0.055338       1.0  0.7071  \n...          ...      ...       ...       ...       ...     ...  \n101324  0.029746  2008.45   5.36000  0.644880       1.0  1.2631  \n101325  0.417840  4067.01   7.66000 -0.053481       1.0  1.6488  \n101326  0.228707  6774.43   5.75000  0.017622       1.0  1.7767  \n101327 -0.075308  6432.17   4.93000  0.140915       1.0  1.7609  \n101328 -0.000486  6688.25  13.35000  0.362743       1.0  1.8350  \n\n[101329 rows x 21 columns]",
      "text/html": "<div>\n<style scoped>\n    .dataframe tbody tr th:only-of-type {\n        vertical-align: middle;\n    }\n\n    .dataframe tbody tr th {\n        vertical-align: top;\n    }\n\n    .dataframe thead th {\n        text-align: right;\n    }\n</style>\n<table border=\"1\" class=\"dataframe\">\n  <thead>\n    <tr style=\"text-align: right;\">\n      <th></th>\n      <th>PERMNO</th>\n      <th>DATE</th>\n      <th>DlyPrc</th>\n      <th>ShrOut</th>\n      <th>index</th>\n      <th>CURCDQ</th>\n      <th>ACTQ</th>\n      <th>CEQQ</th>\n      <th>EPSPXQ</th>\n      <th>OIADPQ</th>\n      <th>...</th>\n      <th>REVTY</th>\n      <th>COSTAT</th>\n      <th>MKVALTQ</th>\n      <th>NAICS</th>\n      <th>actqg</th>\n      <th>pb</th>\n      <th>roe</th>\n      <th>ret_1</th>\n      <th>quarters</th>\n      <th>B_MKT</th>\n    </tr>\n  </thead>\n  <tbody>\n    <tr>\n      <th>0</th>\n      <td>10026</td>\n      <td>2001-12-31</td>\n      <td>24.45</td>\n      <td>8654.0</td>\n      <td>221</td>\n      <td>USD</td>\n      <td>60.182</td>\n      <td>147.584</td>\n      <td>0.10</td>\n      <td>1.480</td>\n      <td>...</td>\n      <td>74.797</td>\n      <td>A</td>\n      <td>212.0</td>\n      <td>31</td>\n      <td>-0.013555</td>\n      <td>2.12</td>\n      <td>0.01480</td>\n      <td>-0.030936</td>\n      <td>6.0</td>\n      <td>0.9372</td>\n    </tr>\n    <tr>\n      <th>1</th>\n      <td>10026</td>\n      <td>2002-09-30</td>\n      <td>36.85</td>\n      <td>8903.0</td>\n      <td>224</td>\n      <td>USD</td>\n      <td>75.367</td>\n      <td>168.709</td>\n      <td>0.84</td>\n      <td>11.539</td>\n      <td>...</td>\n      <td>353.187</td>\n      <td>A</td>\n      <td>328.0</td>\n      <td>31</td>\n      <td>0.252318</td>\n      <td>3.28</td>\n      <td>0.11539</td>\n      <td>-0.150938</td>\n      <td>3.0</td>\n      <td>0.7866</td>\n    </tr>\n    <tr>\n      <th>2</th>\n      <td>10026</td>\n      <td>2002-12-31</td>\n      <td>35.71</td>\n      <td>8905.0</td>\n      <td>225</td>\n      <td>USD</td>\n      <td>74.749</td>\n      <td>169.881</td>\n      <td>0.14</td>\n      <td>1.810</td>\n      <td>...</td>\n      <td>77.244</td>\n      <td>A</td>\n      <td>318.0</td>\n      <td>31</td>\n      <td>-0.008200</td>\n      <td>3.18</td>\n      <td>0.01810</td>\n      <td>0.035620</td>\n      <td>1.0</td>\n      <td>0.6919</td>\n    </tr>\n    <tr>\n      <th>3</th>\n      <td>10026</td>\n      <td>2003-03-31</td>\n      <td>30.32</td>\n      <td>8742.0</td>\n      <td>226</td>\n      <td>USD</td>\n      <td>80.996</td>\n      <td>167.484</td>\n      <td>0.34</td>\n      <td>4.623</td>\n      <td>...</td>\n      <td>158.652</td>\n      <td>A</td>\n      <td>265.0</td>\n      <td>31</td>\n      <td>0.083573</td>\n      <td>2.65</td>\n      <td>0.04623</td>\n      <td>0.139490</td>\n      <td>1.0</td>\n      <td>0.7413</td>\n    </tr>\n    <tr>\n      <th>4</th>\n      <td>10026</td>\n      <td>2003-06-30</td>\n      <td>31.40</td>\n      <td>8868.0</td>\n      <td>227</td>\n      <td>USD</td>\n      <td>90.863</td>\n      <td>173.262</td>\n      <td>0.91</td>\n      <td>12.157</td>\n      <td>...</td>\n      <td>261.181</td>\n      <td>A</td>\n      <td>278.0</td>\n      <td>31</td>\n      <td>0.121821</td>\n      <td>2.78</td>\n      <td>0.12157</td>\n      <td>0.055338</td>\n      <td>1.0</td>\n      <td>0.7071</td>\n    </tr>\n    <tr>\n      <th>...</th>\n      <td>...</td>\n      <td>...</td>\n      <td>...</td>\n      <td>...</td>\n      <td>...</td>\n      <td>...</td>\n      <td>...</td>\n      <td>...</td>\n      <td>...</td>\n      <td>...</td>\n      <td>...</td>\n      <td>...</td>\n      <td>...</td>\n      <td>...</td>\n      <td>...</td>\n      <td>...</td>\n      <td>...</td>\n      <td>...</td>\n      <td>...</td>\n      <td>...</td>\n      <td>...</td>\n    </tr>\n    <tr>\n      <th>101324</th>\n      <td>93436</td>\n      <td>2020-06-30</td>\n      <td>1079.81</td>\n      <td>186000.0</td>\n      <td>538597</td>\n      <td>USD</td>\n      <td>15336.000</td>\n      <td>9855.000</td>\n      <td>0.56</td>\n      <td>536.000</td>\n      <td>...</td>\n      <td>12021.000</td>\n      <td>A</td>\n      <td>200845.0</td>\n      <td>33</td>\n      <td>0.029746</td>\n      <td>2008.45</td>\n      <td>5.36000</td>\n      <td>0.644880</td>\n      <td>1.0</td>\n      <td>1.2631</td>\n    </tr>\n    <tr>\n      <th>101325</th>\n      <td>93436</td>\n      <td>2020-09-30</td>\n      <td>429.01</td>\n      <td>948000.0</td>\n      <td>538598</td>\n      <td>USD</td>\n      <td>21744.000</td>\n      <td>16031.000</td>\n      <td>0.32</td>\n      <td>766.000</td>\n      <td>...</td>\n      <td>20792.000</td>\n      <td>A</td>\n      <td>406701.0</td>\n      <td>33</td>\n      <td>0.417840</td>\n      <td>4067.01</td>\n      <td>7.66000</td>\n      <td>-0.053481</td>\n      <td>1.0</td>\n      <td>1.6488</td>\n    </tr>\n    <tr>\n      <th>101326</th>\n      <td>93436</td>\n      <td>2020-12-31</td>\n      <td>705.67</td>\n      <td>959854.0</td>\n      <td>538599</td>\n      <td>USD</td>\n      <td>26717.000</td>\n      <td>22225.000</td>\n      <td>0.28</td>\n      <td>575.000</td>\n      <td>...</td>\n      <td>31536.000</td>\n      <td>A</td>\n      <td>677443.0</td>\n      <td>33</td>\n      <td>0.228707</td>\n      <td>6774.43</td>\n      <td>5.75000</td>\n      <td>0.017622</td>\n      <td>1.0</td>\n      <td>1.7767</td>\n    </tr>\n    <tr>\n      <th>101327</th>\n      <td>93436</td>\n      <td>2021-03-31</td>\n      <td>667.93</td>\n      <td>963000.0</td>\n      <td>538600</td>\n      <td>USD</td>\n      <td>24705.000</td>\n      <td>23017.000</td>\n      <td>0.46</td>\n      <td>493.000</td>\n      <td>...</td>\n      <td>10389.000</td>\n      <td>A</td>\n      <td>643217.0</td>\n      <td>33</td>\n      <td>-0.075308</td>\n      <td>6432.17</td>\n      <td>4.93000</td>\n      <td>0.140915</td>\n      <td>1.0</td>\n      <td>1.7609</td>\n    </tr>\n    <tr>\n      <th>101328</th>\n      <td>93436</td>\n      <td>2021-06-30</td>\n      <td>679.70</td>\n      <td>984003.0</td>\n      <td>538601</td>\n      <td>USD</td>\n      <td>24693.000</td>\n      <td>24804.000</td>\n      <td>1.18</td>\n      <td>1335.000</td>\n      <td>...</td>\n      <td>22347.000</td>\n      <td>A</td>\n      <td>668825.0</td>\n      <td>33</td>\n      <td>-0.000486</td>\n      <td>6688.25</td>\n      <td>13.35000</td>\n      <td>0.362743</td>\n      <td>1.0</td>\n      <td>1.8350</td>\n    </tr>\n  </tbody>\n</table>\n<p>101329 rows × 21 columns</p>\n</div>"
     },
     "execution_count": 30,
     "metadata": {},
     "output_type": "execute_result"
    }
   ],
   "source": [
    "beta = pd.read_feather('beta.feather')[['PERMNO','DATE','B_MKT']]\n",
    "cstat = pd.merge(cstat,beta,how='inner',on=['PERMNO','DATE'])\n",
    "cstat"
   ]
  },
  {
   "cell_type": "markdown",
   "metadata": {},
   "source": [
    "These beta values are ex-ante beta computed monthly using an estimation window of 90 previous days, with the minimum window set to 45 days. These betas are CAPM single factor betas."
   ]
  },
  {
   "cell_type": "markdown",
   "metadata": {
    "pycharm": {
     "name": "#%% md\n"
    }
   },
   "source": [
    "## 2. Analysis"
   ]
  },
  {
   "cell_type": "markdown",
   "metadata": {
    "pycharm": {
     "name": "#%% md\n"
    }
   },
   "source": [
    "### 2.1 Visualization & Exporation of Data"
   ]
  },
  {
   "cell_type": "markdown",
   "metadata": {
    "pycharm": {
     "name": "#%% md\n"
    }
   },
   "source": [
    "#### 2.1.1 Visualizing Correlation\n",
    "Since we would like to prove the growth of asset is a completely new factor independent of the previously explored factors, we will plot the correlationship between every factor and see if growth of asset is highly correlated to the other factors."
   ]
  },
  {
   "cell_type": "code",
   "execution_count": 31,
   "metadata": {
    "pycharm": {
     "name": "#%%\n"
    }
   },
   "outputs": [
    {
     "data": {
      "text/plain": "<AxesSubplot:>"
     },
     "execution_count": 31,
     "metadata": {},
     "output_type": "execute_result"
    },
    {
     "data": {
      "text/plain": "<Figure size 432x288 with 2 Axes>",
      "image/png": "[encoded data removed]"
     },
     "metadata": {
      "needs_background": "light"
     },
     "output_type": "display_data"
    }
   ],
   "source": [
    "import seaborn as sns\n",
    "sns.heatmap(cstat.corr())"
   ]
  },
  {
   "cell_type": "markdown",
   "metadata": {
    "pycharm": {
     "name": "#%% md\n"
    }
   },
   "source": [
    "According to this heatmap, We see that the actqg row is nearly orthogonal to every other variables! Although the ACTQ itself has a lot of correlationship with other number in the financial reports, we do not observe the same effect for the growth in asset. It seems like the growth of asset behaves independently! Another interesting not is return is also almost completely orthogonal to asset growth. Just for fun, we will find the correlation between future and future asset growth."
   ]
  },
  {
   "cell_type": "markdown",
   "metadata": {
    "pycharm": {
     "name": "#%% md\n"
    }
   },
   "source": [
    "#### 2.1.2 Further Exploring Correlations"
   ]
  },
  {
   "cell_type": "code",
   "execution_count": 32,
   "metadata": {
    "pycharm": {
     "name": "#%%\n"
    }
   },
   "outputs": [
    {
     "data": {
      "text/plain": "          0         1\n0  1.000000  0.033873\n1  0.033873  1.000000",
      "text/html": "<div>\n<style scoped>\n    .dataframe tbody tr th:only-of-type {\n        vertical-align: middle;\n    }\n\n    .dataframe tbody tr th {\n        vertical-align: top;\n    }\n\n    .dataframe thead th {\n        text-align: right;\n    }\n</style>\n<table border=\"1\" class=\"dataframe\">\n  <thead>\n    <tr style=\"text-align: right;\">\n      <th></th>\n      <th>0</th>\n      <th>1</th>\n    </tr>\n  </thead>\n  <tbody>\n    <tr>\n      <th>0</th>\n      <td>1.000000</td>\n      <td>0.033873</td>\n    </tr>\n    <tr>\n      <th>1</th>\n      <td>0.033873</td>\n      <td>1.000000</td>\n    </tr>\n  </tbody>\n</table>\n</div>"
     },
     "execution_count": 32,
     "metadata": {},
     "output_type": "execute_result"
    }
   ],
   "source": [
    "pd.DataFrame(data=[cstat['ret_1'].values,cstat['B_MKT'].shift(-1).values]).T.corr()"
   ]
  },
  {
   "cell_type": "markdown",
   "metadata": {
    "pycharm": {
     "name": "#%% md\n"
    }
   },
   "source": [
    "This is odd. For cross-sectional data, it seems like ex-ante market beta only explains 3 percent of the variations in returns."
   ]
  },
  {
   "cell_type": "code",
   "execution_count": 33,
   "metadata": {
    "pycharm": {
     "name": "#%%\n"
    }
   },
   "outputs": [
    {
     "data": {
      "text/plain": "          0         1\n0  1.000000 -0.006165\n1 -0.006165  1.000000",
      "text/html": "<div>\n<style scoped>\n    .dataframe tbody tr th:only-of-type {\n        vertical-align: middle;\n    }\n\n    .dataframe tbody tr th {\n        vertical-align: top;\n    }\n\n    .dataframe thead th {\n        text-align: right;\n    }\n</style>\n<table border=\"1\" class=\"dataframe\">\n  <thead>\n    <tr style=\"text-align: right;\">\n      <th></th>\n      <th>0</th>\n      <th>1</th>\n    </tr>\n  </thead>\n  <tbody>\n    <tr>\n      <th>0</th>\n      <td>1.000000</td>\n      <td>-0.006165</td>\n    </tr>\n    <tr>\n      <th>1</th>\n      <td>-0.006165</td>\n      <td>1.000000</td>\n    </tr>\n  </tbody>\n</table>\n</div>"
     },
     "execution_count": 33,
     "metadata": {},
     "output_type": "execute_result"
    }
   ],
   "source": [
    "pd.DataFrame(data=[cstat['ret_1'].values,cstat['actqg'].values]).T.corr()"
   ]
  },
  {
   "cell_type": "markdown",
   "metadata": {
    "pycharm": {
     "name": "#%% md\n"
    }
   },
   "source": [
    "It seems like there is only a little correlation between future asset returns and future returns on the stocks. Is this true for common equity as well?"
   ]
  },
  {
   "cell_type": "code",
   "execution_count": 34,
   "metadata": {
    "pycharm": {
     "name": "#%%\n"
    }
   },
   "outputs": [
    {
     "data": {
      "text/plain": "          0         1\n0  1.000000 -0.000344\n1 -0.000344  1.000000",
      "text/html": "<div>\n<style scoped>\n    .dataframe tbody tr th:only-of-type {\n        vertical-align: middle;\n    }\n\n    .dataframe tbody tr th {\n        vertical-align: top;\n    }\n\n    .dataframe thead th {\n        text-align: right;\n    }\n</style>\n<table border=\"1\" class=\"dataframe\">\n  <thead>\n    <tr style=\"text-align: right;\">\n      <th></th>\n      <th>0</th>\n      <th>1</th>\n    </tr>\n  </thead>\n  <tbody>\n    <tr>\n      <th>0</th>\n      <td>1.000000</td>\n      <td>-0.000344</td>\n    </tr>\n    <tr>\n      <th>1</th>\n      <td>-0.000344</td>\n      <td>1.000000</td>\n    </tr>\n  </tbody>\n</table>\n</div>"
     },
     "execution_count": 34,
     "metadata": {},
     "output_type": "execute_result"
    }
   ],
   "source": [
    "pd.DataFrame(data=[cstat['ret_1'].values,cstat['CEQQ'].pct_change().shift(-1).values]).T.corr()"
   ]
  },
  {
   "cell_type": "markdown",
   "metadata": {
    "pycharm": {
     "name": "#%% md\n"
    }
   },
   "source": [
    "This relationship becomes even smaller (almost non existant) for the growth in common equtiy of the company."
   ]
  },
  {
   "cell_type": "markdown",
   "metadata": {
    "pycharm": {
     "name": "#%% md\n"
    }
   },
   "source": [
    "#### 2.1.3 Exploring Asset Growth"
   ]
  },
  {
   "cell_type": "code",
   "execution_count": 35,
   "metadata": {
    "pycharm": {
     "name": "#%%\n"
    }
   },
   "outputs": [
    {
     "data": {
      "text/plain": "count    101329.000000\nmean          0.065838\nstd           0.444674\nmin          -1.000000\n25%          -0.061638\n50%           0.013019\n75%           0.091637\nmax          10.000000\nName: actqg, dtype: float64"
     },
     "execution_count": 35,
     "metadata": {},
     "output_type": "execute_result"
    }
   ],
   "source": [
    "cstat['actqg'].describe()"
   ]
  },
  {
   "cell_type": "markdown",
   "metadata": {
    "pycharm": {
     "name": "#%% md\n"
    }
   },
   "source": [
    "From this column, we see the mean growth in asset for each company is around 0.06 quarterly, which exceeds the average risk premium! Of course, this result is highly influenced by the outliers (new, rising companies). The median provides a much more reasonable result: 1.3% quarterly growth, which becomes 5.3% annual growth, higher than the risk-free rate but lower than the market risk premium."
   ]
  },
  {
   "cell_type": "markdown",
   "metadata": {
    "pycharm": {
     "name": "#%% md\n"
    }
   },
   "source": [
    "### 2.2 Cross-Sectional Regression"
   ]
  },
  {
   "cell_type": "markdown",
   "metadata": {
    "pycharm": {
     "name": "#%% md\n"
    }
   },
   "source": [
    "After preprocessing, let's explore how well does our proposed variables explains the cross-sectional returns. Intuitively, since after dropping for nan values, we have some consecutive reports that are more than one quarter apart, we will use these observation to evaluate the long-term predictability of returns.\n",
    "\n",
    "Intuitively, since shorter time horizon results are a lot more prone to short-term price actions and is highly subjected to noise, we expect to have longer-term regression performing better. Let's explore if that is really the case.\n",
    "\n",
    "Also, since different industries will behave differently, we expect return predictability to be higher for some industries and lower for others."
   ]
  },
  {
   "cell_type": "markdown",
   "metadata": {
    "pycharm": {
     "name": "#%% md\n"
    }
   },
   "source": [
    "#### 2.2.1 Unconditional Regressions"
   ]
  },
  {
   "cell_type": "code",
   "execution_count": 36,
   "metadata": {
    "pycharm": {
     "name": "#%%\n"
    }
   },
   "outputs": [
    {
     "name": "stdout",
     "output_type": "stream",
     "text": [
      "                            OLS Regression Results                            \n",
      "==============================================================================\n",
      "Dep. Variable:                  ret_1   R-squared:                       0.001\n",
      "Model:                            OLS   Adj. R-squared:                  0.001\n",
      "Method:                 Least Squares   F-statistic:                     12.13\n",
      "Date:                Sun, 04 Dec 2022   Prob (F-statistic):           3.63e-23\n",
      "Time:                        20:14:47   Log-Likelihood:            -1.8026e+05\n",
      "No. Observations:              101329   AIC:                         3.605e+05\n",
      "Df Residuals:                  101317   BIC:                         3.607e+05\n",
      "Df Model:                          11                                         \n",
      "Covariance Type:            nonrobust                                         \n",
      "==============================================================================\n",
      "                 coef    std err          t      P>|t|      [0.025      0.975]\n",
      "------------------------------------------------------------------------------\n",
      "Intercept      0.0361      0.009      4.042      0.000       0.019       0.054\n",
      "ACTQ       -3.774e-07   1.12e-06     -0.336      0.737   -2.58e-06    1.83e-06\n",
      "CEQQ       -8.594e-07   7.42e-07     -1.158      0.247   -2.31e-06    5.95e-07\n",
      "EPSPXQ        -0.0003      0.000     -0.931      0.352      -0.001       0.000\n",
      "OIADPQ     -1.381e-05   9.44e-06     -1.462      0.144   -3.23e-05     4.7e-06\n",
      "IVCHY       1.284e-06   1.59e-06      0.806      0.420   -1.84e-06    4.41e-06\n",
      "REVTY       1.554e-07   4.28e-07      0.363      0.716   -6.83e-07    9.94e-07\n",
      "MKVALTQ     4.323e-08    1.8e-07      0.240      0.811    -3.1e-07    3.97e-07\n",
      "actqg         -0.0216      0.010     -2.137      0.033      -0.042      -0.002\n",
      "pb         -4.074e-07   7.31e-06     -0.056      0.956   -1.47e-05    1.39e-05\n",
      "roe         9.277e-08   3.07e-06      0.030      0.976   -5.92e-06    6.11e-06\n",
      "B_MKT          0.0625      0.006     10.249      0.000       0.051       0.075\n",
      "==============================================================================\n",
      "Omnibus:                   343750.477   Durbin-Watson:                   2.023\n",
      "Prob(Omnibus):                  0.000   Jarque-Bera (JB):     147404470347.724\n",
      "Skew:                          61.979   Prob(JB):                         0.00\n",
      "Kurtosis:                    5910.429   Cond. No.                     9.70e+04\n",
      "==============================================================================\n",
      "\n",
      "Notes:\n",
      "[1] Standard Errors assume that the covariance matrix of the errors is correctly specified.\n",
      "[2] The condition number is large, 9.7e+04. This might indicate that there are\n",
      "strong multicollinearity or other numerical problems.\n"
     ]
    }
   ],
   "source": [
    "reg1_params = ['ACTQ','CEQQ','EPSPXQ','OIADPQ','IVCHY','REVTY','MKVALTQ','actqg','pb','roe','B_MKT']\n",
    "target = 'ret_1'\n",
    "reg1_formula = f\"{target}~\" + \"+\".join(reg1_params)\n",
    "print(smf.ols(reg1_formula,data=cstat).fit().summary())"
   ]
  },
  {
   "cell_type": "markdown",
   "metadata": {},
   "source": [
    "Although the R^2 is extremely low for this regression, this serves as our sanity check that the rate of growth of assets play a negative role in future returns. This value is significant at alpha = 0.05 and it seems like it's effects are considerably large comparing to the other factors. Now, also observe that the coefficient on market beta is around 6%, which serves as a sanity check that the beta loadings should earn the average stock premium rate."
   ]
  },
  {
   "cell_type": "markdown",
   "metadata": {
    "pycharm": {
     "name": "#%% md\n"
    }
   },
   "source": [
    "#### 2.2.2 Regression Conditioned on Industry\n",
    "\n",
    "To explore the differences and find sectors with potential higher predictability of returns, we condition these regressions on industry via the NAICS code. Note that these codes are preprocessed such that we do not care about the detailed category (dropping the sub-code after the first two digits)."
   ]
  },
  {
   "cell_type": "code",
   "execution_count": 37,
   "metadata": {
    "pycharm": {
     "name": "#%%\n"
    }
   },
   "outputs": [
    {
     "data": {
      "text/plain": "         R^2  Coef_actqg   t_actqg        N\n99  0.133471   -0.003585 -0.072095    371.0\n49  0.131504   -0.385057 -2.068458    162.0\n11  0.027699   -0.053589 -1.611313    309.0\n61  0.019773    0.071075  1.579794    672.0\n23  0.013340   -0.039743 -0.812501   1003.0\n45  0.011805    0.038220  0.841614   2124.0\n81  0.009601   -0.066363 -0.729788    359.0\n44  0.009155   -0.058699 -0.866075   3446.0\n31  0.009049   -0.014411 -0.718986   5026.0\n72  0.008812    0.053167  1.182324   1922.0\n53  0.007438   -0.020935 -0.940590   2373.0\n56  0.006794   -0.022429 -0.471768   2347.0\n48  0.006098    0.211244  2.500050   3829.0\n71  0.005642   -0.021679 -0.265745    554.0\n21  0.005436   -0.003429 -0.075964   5961.0\n22  0.005276    0.031724  1.229185   3990.0\n62  0.005157   -0.038608 -0.494457   1544.0\n54  0.005081    0.040478  0.510837   3881.0\n42  0.004780   -0.041749 -1.060194   3905.0\n52  0.003401   -0.016449 -0.768248   2099.0\n51  0.002062   -0.011189 -0.475492  10142.0\n32  0.001892   -0.063895 -2.739186  15971.0\n33  0.001393   -0.060539 -2.351366  29339.0",
      "text/html": "<div>\n<style scoped>\n    .dataframe tbody tr th:only-of-type {\n        vertical-align: middle;\n    }\n\n    .dataframe tbody tr th {\n        vertical-align: top;\n    }\n\n    .dataframe thead th {\n        text-align: right;\n    }\n</style>\n<table border=\"1\" class=\"dataframe\">\n  <thead>\n    <tr style=\"text-align: right;\">\n      <th></th>\n      <th>R^2</th>\n      <th>Coef_actqg</th>\n      <th>t_actqg</th>\n      <th>N</th>\n    </tr>\n  </thead>\n  <tbody>\n    <tr>\n      <th>99</th>\n      <td>0.133471</td>\n      <td>-0.003585</td>\n      <td>-0.072095</td>\n      <td>371.0</td>\n    </tr>\n    <tr>\n      <th>49</th>\n      <td>0.131504</td>\n      <td>-0.385057</td>\n      <td>-2.068458</td>\n      <td>162.0</td>\n    </tr>\n    <tr>\n      <th>11</th>\n      <td>0.027699</td>\n      <td>-0.053589</td>\n      <td>-1.611313</td>\n      <td>309.0</td>\n    </tr>\n    <tr>\n      <th>61</th>\n      <td>0.019773</td>\n      <td>0.071075</td>\n      <td>1.579794</td>\n      <td>672.0</td>\n    </tr>\n    <tr>\n      <th>23</th>\n      <td>0.013340</td>\n      <td>-0.039743</td>\n      <td>-0.812501</td>\n      <td>1003.0</td>\n    </tr>\n    <tr>\n      <th>45</th>\n      <td>0.011805</td>\n      <td>0.038220</td>\n      <td>0.841614</td>\n      <td>2124.0</td>\n    </tr>\n    <tr>\n      <th>81</th>\n      <td>0.009601</td>\n      <td>-0.066363</td>\n      <td>-0.729788</td>\n      <td>359.0</td>\n    </tr>\n    <tr>\n      <th>44</th>\n      <td>0.009155</td>\n      <td>-0.058699</td>\n      <td>-0.866075</td>\n      <td>3446.0</td>\n    </tr>\n    <tr>\n      <th>31</th>\n      <td>0.009049</td>\n      <td>-0.014411</td>\n      <td>-0.718986</td>\n      <td>5026.0</td>\n    </tr>\n    <tr>\n      <th>72</th>\n      <td>0.008812</td>\n      <td>0.053167</td>\n      <td>1.182324</td>\n      <td>1922.0</td>\n    </tr>\n    <tr>\n      <th>53</th>\n      <td>0.007438</td>\n      <td>-0.020935</td>\n      <td>-0.940590</td>\n      <td>2373.0</td>\n    </tr>\n    <tr>\n      <th>56</th>\n      <td>0.006794</td>\n      <td>-0.022429</td>\n      <td>-0.471768</td>\n      <td>2347.0</td>\n    </tr>\n    <tr>\n      <th>48</th>\n      <td>0.006098</td>\n      <td>0.211244</td>\n      <td>2.500050</td>\n      <td>3829.0</td>\n    </tr>\n    <tr>\n      <th>71</th>\n      <td>0.005642</td>\n      <td>-0.021679</td>\n      <td>-0.265745</td>\n      <td>554.0</td>\n    </tr>\n    <tr>\n      <th>21</th>\n      <td>0.005436</td>\n      <td>-0.003429</td>\n      <td>-0.075964</td>\n      <td>5961.0</td>\n    </tr>\n    <tr>\n      <th>22</th>\n      <td>0.005276</td>\n      <td>0.031724</td>\n      <td>1.229185</td>\n      <td>3990.0</td>\n    </tr>\n    <tr>\n      <th>62</th>\n      <td>0.005157</td>\n      <td>-0.038608</td>\n      <td>-0.494457</td>\n      <td>1544.0</td>\n    </tr>\n    <tr>\n      <th>54</th>\n      <td>0.005081</td>\n      <td>0.040478</td>\n      <td>0.510837</td>\n      <td>3881.0</td>\n    </tr>\n    <tr>\n      <th>42</th>\n      <td>0.004780</td>\n      <td>-0.041749</td>\n      <td>-1.060194</td>\n      <td>3905.0</td>\n    </tr>\n    <tr>\n      <th>52</th>\n      <td>0.003401</td>\n      <td>-0.016449</td>\n      <td>-0.768248</td>\n      <td>2099.0</td>\n    </tr>\n    <tr>\n      <th>51</th>\n      <td>0.002062</td>\n      <td>-0.011189</td>\n      <td>-0.475492</td>\n      <td>10142.0</td>\n    </tr>\n    <tr>\n      <th>32</th>\n      <td>0.001892</td>\n      <td>-0.063895</td>\n      <td>-2.739186</td>\n      <td>15971.0</td>\n    </tr>\n    <tr>\n      <th>33</th>\n      <td>0.001393</td>\n      <td>-0.060539</td>\n      <td>-2.351366</td>\n      <td>29339.0</td>\n    </tr>\n  </tbody>\n</table>\n</div>"
     },
     "execution_count": 37,
     "metadata": {},
     "output_type": "execute_result"
    }
   ],
   "source": [
    "rslt = {}\n",
    "reg2_params = ['DlyPrc', 'ShrOut', 'ACTQ', 'CEQQ','EPSPXQ', 'OIADPQ', 'IVCHY', 'REVTY', 'MKVALTQ','actqg', 'pb', 'roe', 'quarters', 'B_MKT']\n",
    "target = 'ret_1'\n",
    "reg2_formula = f\"{target}~\" + \"+\".join(reg1_params)\n",
    "for code in cstat['NAICS'].unique():\n",
    "    reg2 = smf.ols(reg1_formula,data=cstat[(cstat['NAICS']==code)]).fit()\n",
    "    rslt[code] = [reg2.rsquared,reg2.params['actqg'],reg2.tvalues['actqg'],reg2.nobs]\n",
    "rslt = pd.DataFrame(data=rslt).T\n",
    "rslt.columns = ['R^2','Coef_actqg','t_actqg','N']\n",
    "rslt.sort_values('R^2',ascending=False)"
   ]
  },
  {
   "cell_type": "markdown",
   "metadata": {
    "pycharm": {
     "name": "#%% md\n"
    }
   },
   "source": [
    "First, note that the indicies are the first two digits of the NAICS code.\n",
    "\n",
    "From this table, it seems like the returns for stocks belonging to some sectors are easier to forecast comparing to others. Although the number of observations are small for some sectors, we see section code 45 (Retail Trading) is has a considerable 2000+ datapoints with a R^2 of 0.01.\n",
    "\n",
    "One problem is, however, that the coefficient for our actqg and its corresponding t-statistics is highly variable, going from negative to positive from sector to sector. This might be due to the noise and price action of short term returns, since we are considering only one quarter returns. Next, we will try to do regressions conditioned both on sectors and number of periods. We hope doing regression with longer time span will diminish the effects of short-term price action and substantially decrease noise of our data."
   ]
  },
  {
   "cell_type": "markdown",
   "metadata": {
    "pycharm": {
     "name": "#%% md\n"
    }
   },
   "source": [
    "#### 2.2.3 Regression Conditioned on Time-span"
   ]
  },
  {
   "cell_type": "code",
   "execution_count": 38,
   "metadata": {
    "pycharm": {
     "name": "#%%\n"
    }
   },
   "outputs": [
    {
     "data": {
      "text/plain": "        R^2  Coef_actqg   t_actqg        N\n7  0.065012   -0.091477 -2.085779    124.0\n2  0.009559   -0.056218 -1.817304   5164.0\n0  0.002773   -0.026484 -0.524252   1125.0\n4  0.002531    0.006360  0.102304   1249.0\n6  0.002424    0.008585  0.542342   4467.0\n1  0.001614   -0.026496 -1.906850  80761.0\n5  0.001469   -0.015919 -0.595465   1835.0\n3  0.001071   -0.035980 -1.250323   5958.0",
      "text/html": "<div>\n<style scoped>\n    .dataframe tbody tr th:only-of-type {\n        vertical-align: middle;\n    }\n\n    .dataframe tbody tr th {\n        vertical-align: top;\n    }\n\n    .dataframe thead th {\n        text-align: right;\n    }\n</style>\n<table border=\"1\" class=\"dataframe\">\n  <thead>\n    <tr style=\"text-align: right;\">\n      <th></th>\n      <th>R^2</th>\n      <th>Coef_actqg</th>\n      <th>t_actqg</th>\n      <th>N</th>\n    </tr>\n  </thead>\n  <tbody>\n    <tr>\n      <th>7</th>\n      <td>0.065012</td>\n      <td>-0.091477</td>\n      <td>-2.085779</td>\n      <td>124.0</td>\n    </tr>\n    <tr>\n      <th>2</th>\n      <td>0.009559</td>\n      <td>-0.056218</td>\n      <td>-1.817304</td>\n      <td>5164.0</td>\n    </tr>\n    <tr>\n      <th>0</th>\n      <td>0.002773</td>\n      <td>-0.026484</td>\n      <td>-0.524252</td>\n      <td>1125.0</td>\n    </tr>\n    <tr>\n      <th>4</th>\n      <td>0.002531</td>\n      <td>0.006360</td>\n      <td>0.102304</td>\n      <td>1249.0</td>\n    </tr>\n    <tr>\n      <th>6</th>\n      <td>0.002424</td>\n      <td>0.008585</td>\n      <td>0.542342</td>\n      <td>4467.0</td>\n    </tr>\n    <tr>\n      <th>1</th>\n      <td>0.001614</td>\n      <td>-0.026496</td>\n      <td>-1.906850</td>\n      <td>80761.0</td>\n    </tr>\n    <tr>\n      <th>5</th>\n      <td>0.001469</td>\n      <td>-0.015919</td>\n      <td>-0.595465</td>\n      <td>1835.0</td>\n    </tr>\n    <tr>\n      <th>3</th>\n      <td>0.001071</td>\n      <td>-0.035980</td>\n      <td>-1.250323</td>\n      <td>5958.0</td>\n    </tr>\n  </tbody>\n</table>\n</div>"
     },
     "execution_count": 38,
     "metadata": {},
     "output_type": "execute_result"
    }
   ],
   "source": [
    "rslt = {}\n",
    "reg2_params = ['DlyPrc', 'ShrOut', 'CURCDQ', 'ACTQ', 'CEQQ','EPSPXQ', 'OIADPQ', 'IVCHY', 'REVTY', 'COSTAT', 'MKVALTQ','actqg', 'pb', 'roe', 'B_MKT']\n",
    "target = 'ret_1'\n",
    "reg2_formula = f\"{target}~\" + \"+\".join(reg1_params)\n",
    "for n in range(8):\n",
    "    reg2 = smf.ols(reg1_formula,data=cstat[(cstat['quarters']==n)]).fit()\n",
    "    rslt[n] = [reg2.rsquared,reg2.params['actqg'],reg2.tvalues['actqg'],reg2.nobs]\n",
    "rslt = pd.DataFrame(data=rslt).T\n",
    "rslt.columns = ['R^2','Coef_actqg','t_actqg','N']\n",
    "rslt.sort_values('R^2',ascending=False)"
   ]
  },
  {
   "cell_type": "markdown",
   "metadata": {
    "pycharm": {
     "name": "#%% md\n"
    }
   },
   "source": [
    "Here, observe that we have the highest R2 for the data with the smallest amount of observations. This is purely due to the fact that we don't have enough observations for 7 quarters ahead of returns. However, We do see predictability increase for observations with more than 1 quarter ahead. Another result of this regression is that we see the coefficients for the growth of assets are negative for nearly all years if we do not condition on sector. Furthermore, balancing the number of observations and R^2 it seems like two years ahead is a sweet spot."
   ]
  },
  {
   "cell_type": "markdown",
   "metadata": {
    "pycharm": {
     "name": "#%% md\n"
    }
   },
   "source": [
    "#### 2.2.3 Regression Conditioned on both Industry and Time-span"
   ]
  },
  {
   "cell_type": "code",
   "execution_count": 39,
   "metadata": {
    "pycharm": {
     "name": "#%%\n"
    }
   },
   "outputs": [
    {
     "data": {
      "text/plain": "                        R^2  Coef_actqg   t_actqg        N\nn_quarters sector                                         \n2          33      0.035442   -0.107790 -1.178579   1477.0\n1          61      0.026808    0.092316  1.617087    537.0\n2          51      0.025440   -0.119097 -0.968537    593.0\n1          45      0.017577   -0.065252 -0.930021   1605.0\n           22      0.016834   -0.002220 -0.166750   3247.0\n3          51      0.014556   -0.015672 -0.380101    596.0\n5          33      0.014021    0.186852  1.860802    539.0\n1          23      0.013176   -0.022622 -0.359257    800.0\n           31      0.011862    0.008678  0.298322   3930.0\n           44      0.011713   -0.043935 -0.517904   2559.0\n           72      0.008438    0.076762  1.254576   1541.0\n           53      0.007535    0.001944  0.075172   1906.0\n           48      0.007048    0.245656  2.173651   3069.0\n           56      0.006603   -0.021718 -0.310818   1870.0\n           21      0.006438   -0.012208 -0.192701   4821.0\n           62      0.006300   -0.088923 -0.724700   1255.0\n3          32      0.005724   -0.095430 -1.309645    978.0\n1          52      0.005003   -0.014323 -0.529197   1708.0\n           42      0.004774   -0.038029 -0.537802   3098.0\n2          32      0.003321   -0.030370 -0.655693    766.0\n1          54      0.003293    0.129581  1.199392   3125.0\n6          33      0.003074    0.024986  0.581600   1334.0\n1          32      0.002433   -0.075283 -2.391868  12908.0\n3          33      0.002114   -0.046416 -0.526134   1689.0\n6          32      0.001783    0.009555  0.298434    774.0\n1          51      0.001495   -0.016868 -0.586118   7880.0\n           33      0.001451   -0.089224 -2.558647  23468.0",
      "text/html": "<div>\n<style scoped>\n    .dataframe tbody tr th:only-of-type {\n        vertical-align: middle;\n    }\n\n    .dataframe tbody tr th {\n        vertical-align: top;\n    }\n\n    .dataframe thead th {\n        text-align: right;\n    }\n</style>\n<table border=\"1\" class=\"dataframe\">\n  <thead>\n    <tr style=\"text-align: right;\">\n      <th></th>\n      <th></th>\n      <th>R^2</th>\n      <th>Coef_actqg</th>\n      <th>t_actqg</th>\n      <th>N</th>\n    </tr>\n    <tr>\n      <th>n_quarters</th>\n      <th>sector</th>\n      <th></th>\n      <th></th>\n      <th></th>\n      <th></th>\n    </tr>\n  </thead>\n  <tbody>\n    <tr>\n      <th>2</th>\n      <th>33</th>\n      <td>0.035442</td>\n      <td>-0.107790</td>\n      <td>-1.178579</td>\n      <td>1477.0</td>\n    </tr>\n    <tr>\n      <th>1</th>\n      <th>61</th>\n      <td>0.026808</td>\n      <td>0.092316</td>\n      <td>1.617087</td>\n      <td>537.0</td>\n    </tr>\n    <tr>\n      <th>2</th>\n      <th>51</th>\n      <td>0.025440</td>\n      <td>-0.119097</td>\n      <td>-0.968537</td>\n      <td>593.0</td>\n    </tr>\n    <tr>\n      <th rowspan=\"2\" valign=\"top\">1</th>\n      <th>45</th>\n      <td>0.017577</td>\n      <td>-0.065252</td>\n      <td>-0.930021</td>\n      <td>1605.0</td>\n    </tr>\n    <tr>\n      <th>22</th>\n      <td>0.016834</td>\n      <td>-0.002220</td>\n      <td>-0.166750</td>\n      <td>3247.0</td>\n    </tr>\n    <tr>\n      <th>3</th>\n      <th>51</th>\n      <td>0.014556</td>\n      <td>-0.015672</td>\n      <td>-0.380101</td>\n      <td>596.0</td>\n    </tr>\n    <tr>\n      <th>5</th>\n      <th>33</th>\n      <td>0.014021</td>\n      <td>0.186852</td>\n      <td>1.860802</td>\n      <td>539.0</td>\n    </tr>\n    <tr>\n      <th rowspan=\"9\" valign=\"top\">1</th>\n      <th>23</th>\n      <td>0.013176</td>\n      <td>-0.022622</td>\n      <td>-0.359257</td>\n      <td>800.0</td>\n    </tr>\n    <tr>\n      <th>31</th>\n      <td>0.011862</td>\n      <td>0.008678</td>\n      <td>0.298322</td>\n      <td>3930.0</td>\n    </tr>\n    <tr>\n      <th>44</th>\n      <td>0.011713</td>\n      <td>-0.043935</td>\n      <td>-0.517904</td>\n      <td>2559.0</td>\n    </tr>\n    <tr>\n      <th>72</th>\n      <td>0.008438</td>\n      <td>0.076762</td>\n      <td>1.254576</td>\n      <td>1541.0</td>\n    </tr>\n    <tr>\n      <th>53</th>\n      <td>0.007535</td>\n      <td>0.001944</td>\n      <td>0.075172</td>\n      <td>1906.0</td>\n    </tr>\n    <tr>\n      <th>48</th>\n      <td>0.007048</td>\n      <td>0.245656</td>\n      <td>2.173651</td>\n      <td>3069.0</td>\n    </tr>\n    <tr>\n      <th>56</th>\n      <td>0.006603</td>\n      <td>-0.021718</td>\n      <td>-0.310818</td>\n      <td>1870.0</td>\n    </tr>\n    <tr>\n      <th>21</th>\n      <td>0.006438</td>\n      <td>-0.012208</td>\n      <td>-0.192701</td>\n      <td>4821.0</td>\n    </tr>\n    <tr>\n      <th>62</th>\n      <td>0.006300</td>\n      <td>-0.088923</td>\n      <td>-0.724700</td>\n      <td>1255.0</td>\n    </tr>\n    <tr>\n      <th>3</th>\n      <th>32</th>\n      <td>0.005724</td>\n      <td>-0.095430</td>\n      <td>-1.309645</td>\n      <td>978.0</td>\n    </tr>\n    <tr>\n      <th rowspan=\"2\" valign=\"top\">1</th>\n      <th>52</th>\n      <td>0.005003</td>\n      <td>-0.014323</td>\n      <td>-0.529197</td>\n      <td>1708.0</td>\n    </tr>\n    <tr>\n      <th>42</th>\n      <td>0.004774</td>\n      <td>-0.038029</td>\n      <td>-0.537802</td>\n      <td>3098.0</td>\n    </tr>\n    <tr>\n      <th>2</th>\n      <th>32</th>\n      <td>0.003321</td>\n      <td>-0.030370</td>\n      <td>-0.655693</td>\n      <td>766.0</td>\n    </tr>\n    <tr>\n      <th>1</th>\n      <th>54</th>\n      <td>0.003293</td>\n      <td>0.129581</td>\n      <td>1.199392</td>\n      <td>3125.0</td>\n    </tr>\n    <tr>\n      <th>6</th>\n      <th>33</th>\n      <td>0.003074</td>\n      <td>0.024986</td>\n      <td>0.581600</td>\n      <td>1334.0</td>\n    </tr>\n    <tr>\n      <th>1</th>\n      <th>32</th>\n      <td>0.002433</td>\n      <td>-0.075283</td>\n      <td>-2.391868</td>\n      <td>12908.0</td>\n    </tr>\n    <tr>\n      <th>3</th>\n      <th>33</th>\n      <td>0.002114</td>\n      <td>-0.046416</td>\n      <td>-0.526134</td>\n      <td>1689.0</td>\n    </tr>\n    <tr>\n      <th>6</th>\n      <th>32</th>\n      <td>0.001783</td>\n      <td>0.009555</td>\n      <td>0.298434</td>\n      <td>774.0</td>\n    </tr>\n    <tr>\n      <th rowspan=\"2\" valign=\"top\">1</th>\n      <th>51</th>\n      <td>0.001495</td>\n      <td>-0.016868</td>\n      <td>-0.586118</td>\n      <td>7880.0</td>\n    </tr>\n    <tr>\n      <th>33</th>\n      <td>0.001451</td>\n      <td>-0.089224</td>\n      <td>-2.558647</td>\n      <td>23468.0</td>\n    </tr>\n  </tbody>\n</table>\n</div>"
     },
     "execution_count": 39,
     "metadata": {},
     "output_type": "execute_result"
    }
   ],
   "source": [
    "rslt = {}\n",
    "reg2_params = ['DlyPrc', 'ShrOut', 'CURCDQ', 'ACTQ', 'CEQQ','EPSPXQ', 'OIADPQ', 'IVCHY', 'REVTY', 'COSTAT', 'MKVALTQ','actqg', 'pb', 'roe', 'quarters', 'B_MKT']\n",
    "target = 'ret_1'\n",
    "reg2_formula = f\"{target}~\" + \"+\".join(reg1_params)\n",
    "for quarter in range(7):\n",
    "    for code in cstat['NAICS'].unique():\n",
    "        curr_reg = cstat[(cstat['NAICS']==code) & (cstat['quarters']==quarter)]\n",
    "        if len(curr_reg) < 500:\n",
    "            continue\n",
    "        reg2 = smf.ols(reg1_formula,data=curr_reg).fit()\n",
    "        rslt[quarter,code] = [reg2.rsquared,reg2.params['actqg'],reg2.tvalues['actqg'],reg2.nobs]\n",
    "\n",
    "rslt = pd.DataFrame(data=rslt).T\n",
    "rslt.columns = ['R^2','Coef_actqg','t_actqg','N']\n",
    "rslt.index.names = ['n_quarters','sector']\n",
    "rslt.sort_values('R^2',ascending=False)"
   ]
  },
  {
   "cell_type": "markdown",
   "metadata": {
    "pycharm": {
     "name": "#%% md\n"
    }
   },
   "source": [
    "Balancing off the number of observations, it seems like two quarter forward sector 33 has a decent R^2 of 0.035 and with 1477 observations. Not the most exciting results, but definitely something we can work with. In the next section, we will try to perform a strategy on this regression as a comparison to the low asset growth portfolio we have previously discussed."
   ]
  },
  {
   "cell_type": "markdown",
   "metadata": {
    "pycharm": {
     "name": "#%% md\n"
    }
   },
   "source": [
    "## 3. Trading Strategy\n",
    "\n",
    "In this section, we will utilize the previously observed good predictability of manufacturing companies (NAICS Code 33) future returns to design a profitable trading strategy."
   ]
  },
  {
   "cell_type": "markdown",
   "metadata": {
    "pycharm": {
     "name": "#%% md\n"
    }
   },
   "source": [
    "### 3.1 Description of the Trading Strategy & Config"
   ]
  },
  {
   "cell_type": "code",
   "execution_count": 40,
   "metadata": {
    "pycharm": {
     "name": "#%%\n"
    }
   },
   "outputs": [],
   "source": [
    "split_point = '2015-01-01'\n",
    "startegy_params = ['DlyPrc', 'ShrOut', 'ACTQ', 'CEQQ','EPSPXQ', 'OIADPQ', 'IVCHY', 'REVTY', 'MKVALTQ','actqg', 'pb', 'roe', 'B_MKT']\n",
    "sector_code = 33\n",
    "n_quarters = 2"
   ]
  },
  {
   "cell_type": "markdown",
   "metadata": {
    "pycharm": {
     "name": "#%% md\n"
    }
   },
   "source": [
    "According to the previous regressions, we decided to trade sector 33 stocks with a holding period of one quarter (The holding period differs from the n_quarters = 2, where the n_quarter measures the frequency of our reports). More specifically, we create a long-short portfolio based on the prediction of our linear regression and assign weights accordingly. Naturally, we will rebalance our portfolio when the reports whenever the quarterly report for a company comes out."
   ]
  },
  {
   "cell_type": "markdown",
   "metadata": {
    "pycharm": {
     "name": "#%% md\n"
    }
   },
   "source": [
    "### 3.2 Train Test Split"
   ]
  },
  {
   "cell_type": "code",
   "execution_count": 41,
   "metadata": {
    "pycharm": {
     "name": "#%%\n"
    }
   },
   "outputs": [],
   "source": [
    "def winsorize_all(dfs):\n",
    "    rslt = []\n",
    "    for df in dfs:\n",
    "        rslt.append(df.apply(lambda col:winsorize(col)))\n",
    "    return rslt"
   ]
  },
  {
   "cell_type": "code",
   "execution_count": 42,
   "metadata": {
    "pycharm": {
     "name": "#%%\n"
    }
   },
   "outputs": [
    {
     "name": "stdout",
     "output_type": "stream",
     "text": [
      "Training Period: 2001-01-31 to 2014-12-31\n",
      "Testing Period: 2015-03-31 to 2021-09-30\n"
     ]
    }
   ],
   "source": [
    "mask = (cstat['NAICS'] == sector_code) & (cstat['quarters'] == n_quarters)\n",
    "# mask = (cstat['quarters'] == n_quarters)\n",
    "\n",
    "test_set = cstat[(cstat['DATE']>split_point) & mask].copy()\n",
    "train_set = cstat[(cstat['DATE']<=split_point) & mask]\n",
    "X_train = train_set[startegy_params]\n",
    "y_train = train_set['ret_1']\n",
    "X_test = test_set[startegy_params]\n",
    "y_test = test_set['ret_1']\n",
    "\n",
    "# Winsorize the data to remove outliers\n",
    "X_train,y_train = winsorize_all([X_train,y_train])\n",
    "\n",
    "print(f\"Training Period: {str(train_set['DATE'].min())[:10]} to {str(train_set['DATE'].max())[:10]}\")\n",
    "print(f\"Testing Period: {str(test_set['DATE'].min())[:10]} to {str(test_set['DATE'].max())[:10]}\")"
   ]
  },
  {
   "cell_type": "markdown",
   "metadata": {},
   "source": []
  },
  {
   "cell_type": "markdown",
   "metadata": {
    "pycharm": {
     "name": "#%% md\n"
    }
   },
   "source": [
    "### 3.3 Strategy Implementations"
   ]
  },
  {
   "cell_type": "markdown",
   "metadata": {},
   "source": [
    "### 3.3.1 Naive Buy and Hold Portfolio"
   ]
  },
  {
   "cell_type": "code",
   "execution_count": 43,
   "metadata": {
    "pycharm": {
     "name": "#%%\n"
    }
   },
   "outputs": [
    {
     "name": "stdout",
     "output_type": "stream",
     "text": [
      "[*********************100%***********************]  1 of 1 completed\n"
     ]
    }
   ],
   "source": [
    "spy = yf.download(\"SPY\")['Adj Close'].rename('SPY')\n",
    "spy_ret = spy[test_set['DATE'].unique()].pct_change()\n",
    "spy_ret[0] = 0\n",
    "spy_port = (spy_ret + 1).cumprod()"
   ]
  },
  {
   "cell_type": "markdown",
   "metadata": {},
   "source": [
    "Loads the SPY Index"
   ]
  },
  {
   "cell_type": "code",
   "execution_count": 44,
   "metadata": {
    "pycharm": {
     "name": "#%%\n"
    }
   },
   "outputs": [],
   "source": [
    "naive_df = test_set[['PERMNO', 'DATE', 'ret_1']].copy()\n",
    "# naive_df['ret_1'] = naive_df.groupby(['PERMNO'])['DlyPrc'].pct_change().shift(-2)\n",
    "naive_ret = naive_df.groupby(['DATE'])['ret_1'].mean()\n",
    "naive_port = (1 + naive_ret).cumprod().rename('Naive Buy and Hold')"
   ]
  },
  {
   "cell_type": "code",
   "execution_count": 45,
   "metadata": {
    "pycharm": {
     "name": "#%%\n"
    }
   },
   "outputs": [
    {
     "data": {
      "text/plain": "<Figure size 1008x288 with 2 Axes>",
      "image/png": "[encoded data removed]"
     },
     "metadata": {
      "needs_background": "light"
     },
     "output_type": "display_data"
    }
   ],
   "source": [
    "fig, axs = plt.subplots(1, 2, figsize=(2 * 7, 4))\n",
    "naive_port.plot(label='Naive Buy & Hold', ax=axs[0], legend=True)\n",
    "spy_port.plot(label='SPY', ax=axs[0], legend=True)\n",
    "naive_ret.plot(label='Naive Buy & Hold', ax=axs[1], legend=True)\n",
    "spy_ret.plot(label='SPY', ax=axs[1], legend=True)\n",
    "axs[0].set_title('Naive Portfolio')\n",
    "axs[1].set_title('Naive Returns')\n",
    "plt.show()"
   ]
  },
  {
   "cell_type": "markdown",
   "metadata": {
    "pycharm": {
     "name": "#%% md\n"
    }
   },
   "source": [
    "#### 3.3.2 Proposed Portfolio: Regression on Sector 22, 1 Quarter Holding"
   ]
  },
  {
   "cell_type": "code",
   "execution_count": 46,
   "metadata": {
    "pycharm": {
     "name": "#%%\n"
    }
   },
   "outputs": [
    {
     "name": "stdout",
     "output_type": "stream",
     "text": [
      "                            OLS Regression Results                            \n",
      "==============================================================================\n",
      "Dep. Variable:                  ret_1   R-squared:                       0.031\n",
      "Model:                            OLS   Adj. R-squared:                  0.015\n",
      "Method:                 Least Squares   F-statistic:                     1.998\n",
      "Date:                Sun, 04 Dec 2022   Prob (F-statistic):             0.0184\n",
      "Time:                        20:14:49   Log-Likelihood:                -1096.5\n",
      "No. Observations:                 831   AIC:                             2221.\n",
      "Df Residuals:                     817   BIC:                             2287.\n",
      "Df Model:                          13                                         \n",
      "Covariance Type:            nonrobust                                         \n",
      "==============================================================================\n",
      "                 coef    std err          t      P>|t|      [0.025      0.975]\n",
      "------------------------------------------------------------------------------\n",
      "Intercept      0.2473      0.073      3.378      0.001       0.104       0.391\n",
      "DlyPrc        -0.0029      0.002     -1.540      0.124      -0.007       0.001\n",
      "ShrOut      7.819e-08   1.65e-07      0.474      0.636   -2.46e-07    4.02e-07\n",
      "ACTQ       -6.441e-07   1.67e-05     -0.038      0.969   -3.35e-05    3.22e-05\n",
      "CEQQ       -2.156e-07   1.49e-05     -0.014      0.988   -2.94e-05     2.9e-05\n",
      "EPSPXQ        -0.0164      0.044     -0.374      0.709      -0.103       0.070\n",
      "OIADPQ        -0.0011      0.000     -3.945      0.000      -0.002      -0.001\n",
      "IVCHY       2.997e-06   1.05e-05      0.285      0.776   -1.77e-05    2.37e-05\n",
      "REVTY      -8.765e-07   6.49e-06     -0.135      0.893   -1.36e-05    1.19e-05\n",
      "MKVALTQ     4.086e-05   1.51e-05      2.712      0.007    1.13e-05    7.04e-05\n",
      "actqg         -0.0546      0.059     -0.926      0.355      -0.171       0.061\n",
      "pb            -0.0043      0.001     -3.195      0.001      -0.007      -0.002\n",
      "roe            0.1145      0.026      4.322      0.000       0.062       0.166\n",
      "B_MKT         -0.0041      0.037     -0.109      0.913      -0.077       0.069\n",
      "==============================================================================\n",
      "Omnibus:                     1412.964   Durbin-Watson:                   1.956\n",
      "Prob(Omnibus):                  0.000   Jarque-Bera (JB):          1052958.289\n",
      "Skew:                          10.699   Prob(JB):                         0.00\n",
      "Kurtosis:                     176.068   Cond. No.                     1.31e+06\n",
      "==============================================================================\n",
      "\n",
      "Notes:\n",
      "[1] Standard Errors assume that the covariance matrix of the errors is correctly specified.\n",
      "[2] The condition number is large, 1.31e+06. This might indicate that there are\n",
      "strong multicollinearity or other numerical problems.\n"
     ]
    }
   ],
   "source": [
    "target = 'ret_1'\n",
    "strategy_formula = f\"{target}~\" + \"+\".join(startegy_params)\n",
    "strategy = smf.ols(strategy_formula,data=train_set).fit()\n",
    "print(strategy.summary())"
   ]
  },
  {
   "cell_type": "code",
   "execution_count": 47,
   "metadata": {
    "pycharm": {
     "name": "#%%\n"
    }
   },
   "outputs": [],
   "source": [
    "reg_df = test_set[['PERMNO','DATE','ret_1']].copy()\n",
    "reg_df['ret_1_pred'] = strategy.predict(X_test).values\n",
    "pred_sum = pd.merge(reg_df,reg_df.groupby('DATE')['ret_1_pred'].apply(lambda x:x.abs().sum()).rename('weight_sum'),on='DATE')['weight_sum'].values\n",
    "reg_df['strategy_weight'] = reg_df['ret_1_pred'] /pred_sum"
   ]
  },
  {
   "cell_type": "code",
   "execution_count": 48,
   "metadata": {
    "pycharm": {
     "name": "#%%\n"
    }
   },
   "outputs": [],
   "source": [
    "reg_df['stock_ret'] = reg_df['strategy_weight'] * reg_df['ret_1']\n",
    "reg_rf = reg_df.groupby('DATE')['strategy_weight'].agg(lambda x:x.sum()-1) * (0.03/4)\n",
    "reg_ret = reg_df.groupby('DATE')['stock_ret'].mean() - reg_rf\n",
    "reg_port = (reg_ret + 1).cumprod()\n",
    "reg_port = reg_port / reg_port[0]"
   ]
  },
  {
   "cell_type": "code",
   "execution_count": 49,
   "metadata": {
    "pycharm": {
     "name": "#%%\n"
    }
   },
   "outputs": [
    {
     "data": {
      "text/plain": "<Figure size 1008x288 with 2 Axes>",
      "image/png": "[encoded data removed]"
     },
     "metadata": {
      "needs_background": "light"
     },
     "output_type": "display_data"
    }
   ],
   "source": [
    "fig,axs = plt.subplots(1,2,figsize=(2*7,4))\n",
    "reg_port.to_frame().rename({0:'Regression Strategy'},axis=1).join(naive_port).plot(legend=True,ax=axs[0])\n",
    "reg_ret.to_frame().rename({0:'Regression Strategy'},axis=1).join(naive_ret).plot(legend=True,ax=axs[1])\n",
    "axs[0].set_title('Strategy Portfolio')\n",
    "axs[1].set_title('Strategy Returns')\n",
    "plt.show()"
   ]
  },
  {
   "cell_type": "markdown",
   "metadata": {
    "pycharm": {
     "name": "#%% md\n"
    }
   },
   "source": [
    "#### 3.3.3 Short-Long Based on Asset Growth\n",
    "\n",
    "**Note:** The analysis in the section is not rigorous since we do not know the categories (qcuts) of the asset growth before observing the entire time series of asset growth. However, what we did can be a good approximation for the actual portfolio."
   ]
  },
  {
   "cell_type": "code",
   "execution_count": 50,
   "metadata": {
    "pycharm": {
     "name": "#%%\n"
    }
   },
   "outputs": [
    {
     "name": "stdout",
     "output_type": "stream",
     "text": [
      "Training Period: 2001-01-31 to 2014-12-31\n",
      "Testing Period: 2015-03-31 to 2021-09-30\n"
     ]
    }
   ],
   "source": [
    "mask = (cstat['NAICS'] == sector_code) & (cstat['quarters'] == 2)\n",
    "# mask = (cstat['quarters'] == n_quarters)\n",
    "\n",
    "test_set = cstat[(cstat['DATE']>split_point) & mask].copy()\n",
    "train_set = cstat[(cstat['DATE']<=split_point) & mask]\n",
    "X_train = train_set[startegy_params]\n",
    "y_train = train_set['ret_1']\n",
    "X_test = test_set[startegy_params]\n",
    "y_test = test_set['ret_1']\n",
    "\n",
    "# Winsorize the data to remove outliers\n",
    "X_train,y_train = winsorize_all([X_train,y_train])\n",
    "\n",
    "print(f\"Training Period: {str(train_set['DATE'].min())[:10]} to {str(train_set['DATE'].max())[:10]}\")\n",
    "print(f\"Testing Period: {str(test_set['DATE'].min())[:10]} to {str(test_set['DATE'].max())[:10]}\")"
   ]
  },
  {
   "cell_type": "code",
   "execution_count": 51,
   "metadata": {
    "pycharm": {
     "name": "#%%\n"
    }
   },
   "outputs": [],
   "source": [
    "actqg_df = test_set[['PERMNO','DATE','ret_1','actqg']].copy()\n",
    "actqg_df['actqgq'] = pd.qcut(test_set['actqg'],5,labels=list(range(1,6))).astype(np.int16)\n",
    "actqg_df = actqg_df[actqg_df['actqgq'] == 1]\n",
    "actqg_ret = actqg_df.groupby(['DATE'])['ret_1'].mean()\n",
    "acqtg_port = (1 + actqg_ret).cumprod().rename()"
   ]
  },
  {
   "cell_type": "code",
   "execution_count": 52,
   "metadata": {
    "pycharm": {
     "name": "#%%\n"
    }
   },
   "outputs": [
    {
     "data": {
      "text/plain": "<Figure size 1008x288 with 2 Axes>",
      "image/png": "[encoded data removed]"
     },
     "metadata": {
      "needs_background": "light"
     },
     "output_type": "display_data"
    }
   ],
   "source": [
    "fig,axs = plt.subplots(1,2,figsize=(2*7,4))\n",
    "\n",
    "port_plot = pd.concat([acqtg_port,naive_port,spy_port],axis=1)\n",
    "port_plot.columns = ['Asset Growth Rate Portfolio','Naive Buy and Hold','SPY']\n",
    "port_plot = port_plot.fillna(method='pad')\n",
    "port_plot.plot(legend=True,ax=axs[0],style='-')\n",
    "\n",
    "ret_plot = pd.concat([actqg_ret,naive_ret,spy_ret],axis=1)\n",
    "ret_plot = ret_plot.fillna(method='pad')\n",
    "ret_plot.columns = ['Asset Growth Rate Portfolio','Naive Buy and Hold','SPY']\n",
    "ret_plot.plot(legend=True,ax=axs[1])\n",
    "\n",
    "plt.show()"
   ]
  },
  {
   "cell_type": "markdown",
   "metadata": {
    "pycharm": {
     "name": "#%% md\n"
    }
   },
   "source": [
    "### 3.4 Analysis of Strategies"
   ]
  },
  {
   "cell_type": "code",
   "execution_count": 62,
   "metadata": {
    "pycharm": {
     "name": "#%%\n"
    }
   },
   "outputs": [],
   "source": [
    "def eval_portfolio(port_ret,spy_ret):\n",
    "    sharpe = (port_ret - 0.03 / 4).mean() / port_ret.std() * np.sqrt(4)\n",
    "    mean_ret = (port_ret + 1).prod() ** (1/7) - 1\n",
    "    beta = np.cov(port_ret,spy_ret)[0,1]/port_ret.var()\n",
    "    print(f\"Sharpe Ratio:{round(sharpe,4)}\")\n",
    "    print(f\"Mean Return:{round(mean_ret,4)}\")\n",
    "    print(f\"Market Beta:{round(beta,4)}\\n\")"
   ]
  },
  {
   "cell_type": "code",
   "execution_count": 63,
   "metadata": {
    "pycharm": {
     "name": "#%%\n"
    }
   },
   "outputs": [
    {
     "name": "stdout",
     "output_type": "stream",
     "text": [
      "---Strategy:Regression on Sector:33, 2 quarters holding period---\n",
      "Sharpe Ratio:-0.1052\n",
      "Mean Return:0.0222\n",
      "Market Beta:-2.2706\n",
      "\n",
      "---Strategy:Naive Buy and Hold\n",
      "Sharpe Ratio:0.4862\n",
      "Mean Return:0.1409\n",
      "Market Beta:-0.1223\n",
      "\n",
      "---Portfolio: SPY---\n",
      "Sharpe Ratio:0.3802\n",
      "Mean Return:0.0437\n",
      "Market Beta:1.0\n",
      "\n",
      "---Portfolio: actgq---\n",
      "Sharpe Ratio:1.0878\n",
      "Mean Return:0.2287\n",
      "Market Beta:-0.3901\n",
      "\n"
     ]
    }
   ],
   "source": [
    "print(f'---Strategy:Regression on Sector:{sector_code}, {n_quarters} quarters holding period---')\n",
    "eval_portfolio(reg_ret,spy_ret)\n",
    "\n",
    "print(f'---Strategy:Naive Buy and Hold')\n",
    "eval_portfolio(naive_ret,spy_ret)\n",
    "\n",
    "print(f'---Portfolio: SPY---')\n",
    "eval_portfolio(spy_ret,spy_ret)\n",
    "\n",
    "print(f'---Portfolio: actgq---')\n",
    "eval_portfolio(actqg_ret,spy_ret[actqg_ret.index])"
   ]
  }
 ],
 "metadata": {
  "kernelspec": {
   "display_name": "Python 3 (ipykernel)",
   "language": "python",
   "name": "python3"
  },
  "language_info": {
   "codemirror_mode": {
    "name": "ipython",
    "version": 3
   },
   "file_extension": ".py",
   "mimetype": "text/x-python",
   "name": "python",
   "nbconvert_exporter": "python",
   "pygments_lexer": "ipython3",
   "version": "3.9.12"
  }
 },
 "nbformat": 4,
 "nbformat_minor": 1
}
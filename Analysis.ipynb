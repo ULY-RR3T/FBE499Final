{
 "cells": [
  {
   "cell_type": "code",
   "execution_count": 530,
   "outputs": [],
   "source": [
    "import numpy as np\n",
    "import pandas as pd\n",
    "import matplotlib.pyplot as plt\n",
    "import seaborn as sns\n",
    "from pandas.tseries.offsets import MonthEnd\n",
    "import statsmodels.formula.api as smf\n",
    "import seaborn as sns\n",
    "import yfinance as yf\n",
    "from scipy.stats.mstats import winsorize\n"
   ],
   "metadata": {
    "collapsed": false,
    "pycharm": {
     "name": "#%%\n"
    }
   }
  },
  {
   "cell_type": "markdown",
   "source": [
    "## 1. Preprocess"
   ],
   "metadata": {
    "collapsed": false,
    "pycharm": {
     "name": "#%% md\n"
    }
   }
  },
  {
   "cell_type": "markdown",
   "source": [
    "### 1.1 COMPUSTAT Data"
   ],
   "metadata": {
    "collapsed": false,
    "pycharm": {
     "name": "#%% md\n"
    }
   }
  },
  {
   "cell_type": "markdown",
   "source": [
    "#### 1.1.1 Load Data"
   ],
   "metadata": {
    "collapsed": false,
    "pycharm": {
     "name": "#%% md\n"
    }
   }
  },
  {
   "cell_type": "code",
   "execution_count": 531,
   "outputs": [
    {
     "data": {
      "text/plain": "         index  PERMNO       DATE CURCDQ       ACTQ       CEQQ  EPSPXQ  \\\n0            0   10001 2000-06-30    USD     16.287     13.961   -0.06   \n1            1   10001 2000-09-30    USD     20.527     13.635   -0.24   \n2            2   10001 2000-12-31    USD     30.677     14.330    0.54   \n3            3   10001 2001-03-31    USD     32.211     16.759    1.04   \n4            4   10001 2001-06-30    USD     26.622     15.613   -0.22   \n...        ...     ...        ...    ...        ...        ...     ...   \n536577  538602   93436 2021-09-30    USD  25002.000  27053.000    1.62   \n536578  538603   93436 2021-12-31    USD  27100.000  30189.000    2.29   \n536579  538604   93436 2022-03-31    USD  29050.000  34085.000    3.20   \n536580  538605   93436 2022-06-30    USD  31222.000  36376.000    2.18   \n536581  538606   93436 2022-09-30    USD  35990.000  39851.000    1.05   \n\n          OIADPQ  IVCHY      REVTY COSTAT     MKVALTQ  NAICS  \n0         -0.145    NaN     72.196      I         NaN     22  \n1          0.184    0.0     16.419      I         NaN     22  \n2          1.976    0.0     44.947      I         NaN     22  \n3          4.634    0.0     84.935      I         NaN     22  \n4         -0.571    0.0    120.161      I         NaN     22  \n...          ...    ...        ...    ...         ...    ...  \n536577  2055.000    0.0  36104.000      A   778581.92     33  \n536578  2613.000    0.0  53823.000      A  1091653.74     33  \n536579  3603.000    0.0  18756.000      A  1116393.60     33  \n536580  2606.000    0.0  35690.000      A   701030.22     33  \n536581  3688.000    0.0  57144.000      A   837659.50     33  \n\n[536582 rows x 13 columns]",
      "text/html": "<div>\n<style scoped>\n    .dataframe tbody tr th:only-of-type {\n        vertical-align: middle;\n    }\n\n    .dataframe tbody tr th {\n        vertical-align: top;\n    }\n\n    .dataframe thead th {\n        text-align: right;\n    }\n</style>\n<table border=\"1\" class=\"dataframe\">\n  <thead>\n    <tr style=\"text-align: right;\">\n      <th></th>\n      <th>index</th>\n      <th>PERMNO</th>\n      <th>DATE</th>\n      <th>CURCDQ</th>\n      <th>ACTQ</th>\n      <th>CEQQ</th>\n      <th>EPSPXQ</th>\n      <th>OIADPQ</th>\n      <th>IVCHY</th>\n      <th>REVTY</th>\n      <th>COSTAT</th>\n      <th>MKVALTQ</th>\n      <th>NAICS</th>\n    </tr>\n  </thead>\n  <tbody>\n    <tr>\n      <th>0</th>\n      <td>0</td>\n      <td>10001</td>\n      <td>2000-06-30</td>\n      <td>USD</td>\n      <td>16.287</td>\n      <td>13.961</td>\n      <td>-0.06</td>\n      <td>-0.145</td>\n      <td>NaN</td>\n      <td>72.196</td>\n      <td>I</td>\n      <td>NaN</td>\n      <td>22</td>\n    </tr>\n    <tr>\n      <th>1</th>\n      <td>1</td>\n      <td>10001</td>\n      <td>2000-09-30</td>\n      <td>USD</td>\n      <td>20.527</td>\n      <td>13.635</td>\n      <td>-0.24</td>\n      <td>0.184</td>\n      <td>0.0</td>\n      <td>16.419</td>\n      <td>I</td>\n      <td>NaN</td>\n      <td>22</td>\n    </tr>\n    <tr>\n      <th>2</th>\n      <td>2</td>\n      <td>10001</td>\n      <td>2000-12-31</td>\n      <td>USD</td>\n      <td>30.677</td>\n      <td>14.330</td>\n      <td>0.54</td>\n      <td>1.976</td>\n      <td>0.0</td>\n      <td>44.947</td>\n      <td>I</td>\n      <td>NaN</td>\n      <td>22</td>\n    </tr>\n    <tr>\n      <th>3</th>\n      <td>3</td>\n      <td>10001</td>\n      <td>2001-03-31</td>\n      <td>USD</td>\n      <td>32.211</td>\n      <td>16.759</td>\n      <td>1.04</td>\n      <td>4.634</td>\n      <td>0.0</td>\n      <td>84.935</td>\n      <td>I</td>\n      <td>NaN</td>\n      <td>22</td>\n    </tr>\n    <tr>\n      <th>4</th>\n      <td>4</td>\n      <td>10001</td>\n      <td>2001-06-30</td>\n      <td>USD</td>\n      <td>26.622</td>\n      <td>15.613</td>\n      <td>-0.22</td>\n      <td>-0.571</td>\n      <td>0.0</td>\n      <td>120.161</td>\n      <td>I</td>\n      <td>NaN</td>\n      <td>22</td>\n    </tr>\n    <tr>\n      <th>...</th>\n      <td>...</td>\n      <td>...</td>\n      <td>...</td>\n      <td>...</td>\n      <td>...</td>\n      <td>...</td>\n      <td>...</td>\n      <td>...</td>\n      <td>...</td>\n      <td>...</td>\n      <td>...</td>\n      <td>...</td>\n      <td>...</td>\n    </tr>\n    <tr>\n      <th>536577</th>\n      <td>538602</td>\n      <td>93436</td>\n      <td>2021-09-30</td>\n      <td>USD</td>\n      <td>25002.000</td>\n      <td>27053.000</td>\n      <td>1.62</td>\n      <td>2055.000</td>\n      <td>0.0</td>\n      <td>36104.000</td>\n      <td>A</td>\n      <td>778581.92</td>\n      <td>33</td>\n    </tr>\n    <tr>\n      <th>536578</th>\n      <td>538603</td>\n      <td>93436</td>\n      <td>2021-12-31</td>\n      <td>USD</td>\n      <td>27100.000</td>\n      <td>30189.000</td>\n      <td>2.29</td>\n      <td>2613.000</td>\n      <td>0.0</td>\n      <td>53823.000</td>\n      <td>A</td>\n      <td>1091653.74</td>\n      <td>33</td>\n    </tr>\n    <tr>\n      <th>536579</th>\n      <td>538604</td>\n      <td>93436</td>\n      <td>2022-03-31</td>\n      <td>USD</td>\n      <td>29050.000</td>\n      <td>34085.000</td>\n      <td>3.20</td>\n      <td>3603.000</td>\n      <td>0.0</td>\n      <td>18756.000</td>\n      <td>A</td>\n      <td>1116393.60</td>\n      <td>33</td>\n    </tr>\n    <tr>\n      <th>536580</th>\n      <td>538605</td>\n      <td>93436</td>\n      <td>2022-06-30</td>\n      <td>USD</td>\n      <td>31222.000</td>\n      <td>36376.000</td>\n      <td>2.18</td>\n      <td>2606.000</td>\n      <td>0.0</td>\n      <td>35690.000</td>\n      <td>A</td>\n      <td>701030.22</td>\n      <td>33</td>\n    </tr>\n    <tr>\n      <th>536581</th>\n      <td>538606</td>\n      <td>93436</td>\n      <td>2022-09-30</td>\n      <td>USD</td>\n      <td>35990.000</td>\n      <td>39851.000</td>\n      <td>1.05</td>\n      <td>3688.000</td>\n      <td>0.0</td>\n      <td>57144.000</td>\n      <td>A</td>\n      <td>837659.50</td>\n      <td>33</td>\n    </tr>\n  </tbody>\n</table>\n<p>536582 rows × 13 columns</p>\n</div>"
     },
     "execution_count": 531,
     "metadata": {},
     "output_type": "execute_result"
    }
   ],
   "source": [
    "cstat = pd.read_feather('cstat.feather')\n",
    "cstat"
   ],
   "metadata": {
    "collapsed": false,
    "pycharm": {
     "name": "#%%\n"
    }
   }
  },
  {
   "cell_type": "markdown",
   "source": [
    "COMPUSTAT Reference Table:\n",
    "1. CURCDQ: Currency of the financial report.\n",
    "2. ACTQ: Total current assets.\n",
    "3. CEQQ: Total common equity.\n",
    "4. EPSPXQ: Earnings per share.\n",
    "5. OIADPQ: Operating income after depreciation.\n",
    "6. IVCHY: Increase in investments.\n",
    "7. REVTY: Total revenue.\n",
    "8. COSTAT: Active/Inactive company status.\n",
    "9. MKVALTQ: Total market value.\n",
    "10. NAICS: North American Industry Classification Code."
   ],
   "metadata": {
    "collapsed": false,
    "pycharm": {
     "name": "#%% md\n"
    }
   }
  },
  {
   "cell_type": "markdown",
   "source": [
    "#### 1.1.2 Clean Dataset"
   ],
   "metadata": {
    "collapsed": false,
    "pycharm": {
     "name": "#%% md\n"
    }
   }
  },
  {
   "cell_type": "code",
   "execution_count": 532,
   "outputs": [
    {
     "data": {
      "text/plain": "A    324201\nI    212381\nName: COSTAT, dtype: int64"
     },
     "execution_count": 532,
     "metadata": {},
     "output_type": "execute_result"
    }
   ],
   "source": [
    "cstat['COSTAT'].value_counts()"
   ],
   "metadata": {
    "collapsed": false,
    "pycharm": {
     "name": "#%%\n"
    }
   }
  },
  {
   "cell_type": "code",
   "execution_count": 533,
   "outputs": [],
   "source": [
    "cstat = cstat[cstat['COSTAT'] == 'A']"
   ],
   "metadata": {
    "collapsed": false,
    "pycharm": {
     "name": "#%%\n"
    }
   }
  },
  {
   "cell_type": "markdown",
   "source": [
    "As we can see here, there are more than 200,000 entries of inactive company reports. Naturally, we expect inactive companies to have different behaviors comparing to active companies. Thus, we will only look at companies whoose status is active."
   ],
   "metadata": {
    "collapsed": false,
    "pycharm": {
     "name": "#%% md\n"
    }
   }
  },
  {
   "cell_type": "code",
   "execution_count": 534,
   "outputs": [
    {
     "data": {
      "text/plain": "USD    318969\nCAD      5232\nName: CURCDQ, dtype: int64"
     },
     "execution_count": 534,
     "metadata": {},
     "output_type": "execute_result"
    }
   ],
   "source": [
    "cstat['CURCDQ'].value_counts()"
   ],
   "metadata": {
    "collapsed": false,
    "pycharm": {
     "name": "#%%\n"
    }
   }
  },
  {
   "cell_type": "code",
   "execution_count": 535,
   "outputs": [],
   "source": [
    "cstat = cstat[cstat['CURCDQ'] == 'USD']"
   ],
   "metadata": {
    "collapsed": false,
    "pycharm": {
     "name": "#%%\n"
    }
   }
  },
  {
   "cell_type": "markdown",
   "source": [
    "Similarly, to make our dataset more homogeneous, we will also remove the companies reporting in CAD instead of US dollars."
   ],
   "metadata": {
    "collapsed": false,
    "pycharm": {
     "name": "#%% md\n"
    }
   }
  },
  {
   "cell_type": "markdown",
   "source": [
    "#### 1.1.3 Handling Missing Values\n",
    "Since we would like to be rigorous in our treatment of values. We will choose to drop data if imputation is not resonable / feasible"
   ],
   "metadata": {
    "collapsed": false,
    "pycharm": {
     "name": "#%% md\n"
    }
   }
  },
  {
   "cell_type": "code",
   "execution_count": 536,
   "outputs": [
    {
     "name": "stdout",
     "output_type": "stream",
     "text": [
      "---Percentage of nan values---\n"
     ]
    },
    {
     "data": {
      "text/plain": "MKVALTQ    0.334384\nACTQ       0.297499\nIVCHY      0.187485\nREVTY      0.186626\nOIADPQ     0.115726\nCEQQ       0.109186\nEPSPXQ     0.104327\nindex      0.000000\nPERMNO     0.000000\nDATE       0.000000\nCURCDQ     0.000000\nCOSTAT     0.000000\nNAICS      0.000000\ndtype: float64"
     },
     "execution_count": 536,
     "metadata": {},
     "output_type": "execute_result"
    }
   ],
   "source": [
    "print('---Percentage of nan values---')\n",
    "(cstat.isna().sum() / len(cstat)).sort_values(ascending=False)"
   ],
   "metadata": {
    "collapsed": false,
    "pycharm": {
     "name": "#%%\n"
    }
   }
  },
  {
   "cell_type": "markdown",
   "source": [
    "As we see, the majority of missing values are from the columns MKVALTQ and ACTQ. For market value, we can easily fill in the nan value from the CRSP shares outstanding multiplied by price of the shares. For ACTQ and all other ones, however, we have to drop those."
   ],
   "metadata": {
    "collapsed": false,
    "pycharm": {
     "name": "#%% md\n"
    }
   }
  },
  {
   "cell_type": "code",
   "execution_count": 537,
   "outputs": [
    {
     "name": "stdout",
     "output_type": "stream",
     "text": [
      "---Cstat length after removing missing entries: 206221---\n"
     ]
    }
   ],
   "source": [
    "cstat = cstat[~cstat[cstat.columns.drop('MKVALTQ')].isna().any(axis=1)]\n",
    "print(f'---Cstat length after removing missing entries: {len(cstat)}---')"
   ],
   "metadata": {
    "collapsed": false,
    "pycharm": {
     "name": "#%%\n"
    }
   }
  },
  {
   "cell_type": "markdown",
   "source": [
    "### 1.2 CRSP Stock Data"
   ],
   "metadata": {
    "collapsed": false,
    "pycharm": {
     "name": "#%% md\n"
    }
   }
  },
  {
   "cell_type": "markdown",
   "source": [
    "#### 1.2.1 Load Data"
   ],
   "metadata": {
    "collapsed": false,
    "pycharm": {
     "name": "#%% md\n"
    }
   }
  },
  {
   "cell_type": "code",
   "execution_count": 538,
   "outputs": [
    {
     "data": {
      "text/plain": "          PERMNO Ticker       DATE    DlyPrc  DlyClose     ShrOut\n0          10001   EGAS 2000-01-03    8.5625    8.5625     2450.0\n1          10001   EGAS 2000-01-04    8.4375    8.4375     2450.0\n2          10001   EGAS 2000-01-05    8.5625    8.5625     2450.0\n3          10001   EGAS 2000-01-06    8.5000    8.5000     2450.0\n4          10001   EGAS 2000-01-07    8.4375    8.4375     2450.0\n...          ...    ...        ...       ...       ...        ...\n40543147   93436   TSLA 2022-02-23  764.0400  764.0400  1033508.0\n40543148   93436   TSLA 2022-02-24  800.7700  800.7700  1033508.0\n40543149   93436   TSLA 2022-02-25  809.8700  809.8700  1033508.0\n40543150   93436   TSLA 2022-02-28  870.4300  870.4300  1033508.0\n40543151   93436   TSLA 2022-03-01  864.3700  864.3700  1033508.0\n\n[40543152 rows x 6 columns]",
      "text/html": "<div>\n<style scoped>\n    .dataframe tbody tr th:only-of-type {\n        vertical-align: middle;\n    }\n\n    .dataframe tbody tr th {\n        vertical-align: top;\n    }\n\n    .dataframe thead th {\n        text-align: right;\n    }\n</style>\n<table border=\"1\" class=\"dataframe\">\n  <thead>\n    <tr style=\"text-align: right;\">\n      <th></th>\n      <th>PERMNO</th>\n      <th>Ticker</th>\n      <th>DATE</th>\n      <th>DlyPrc</th>\n      <th>DlyClose</th>\n      <th>ShrOut</th>\n    </tr>\n  </thead>\n  <tbody>\n    <tr>\n      <th>0</th>\n      <td>10001</td>\n      <td>EGAS</td>\n      <td>2000-01-03</td>\n      <td>8.5625</td>\n      <td>8.5625</td>\n      <td>2450.0</td>\n    </tr>\n    <tr>\n      <th>1</th>\n      <td>10001</td>\n      <td>EGAS</td>\n      <td>2000-01-04</td>\n      <td>8.4375</td>\n      <td>8.4375</td>\n      <td>2450.0</td>\n    </tr>\n    <tr>\n      <th>2</th>\n      <td>10001</td>\n      <td>EGAS</td>\n      <td>2000-01-05</td>\n      <td>8.5625</td>\n      <td>8.5625</td>\n      <td>2450.0</td>\n    </tr>\n    <tr>\n      <th>3</th>\n      <td>10001</td>\n      <td>EGAS</td>\n      <td>2000-01-06</td>\n      <td>8.5000</td>\n      <td>8.5000</td>\n      <td>2450.0</td>\n    </tr>\n    <tr>\n      <th>4</th>\n      <td>10001</td>\n      <td>EGAS</td>\n      <td>2000-01-07</td>\n      <td>8.4375</td>\n      <td>8.4375</td>\n      <td>2450.0</td>\n    </tr>\n    <tr>\n      <th>...</th>\n      <td>...</td>\n      <td>...</td>\n      <td>...</td>\n      <td>...</td>\n      <td>...</td>\n      <td>...</td>\n    </tr>\n    <tr>\n      <th>40543147</th>\n      <td>93436</td>\n      <td>TSLA</td>\n      <td>2022-02-23</td>\n      <td>764.0400</td>\n      <td>764.0400</td>\n      <td>1033508.0</td>\n    </tr>\n    <tr>\n      <th>40543148</th>\n      <td>93436</td>\n      <td>TSLA</td>\n      <td>2022-02-24</td>\n      <td>800.7700</td>\n      <td>800.7700</td>\n      <td>1033508.0</td>\n    </tr>\n    <tr>\n      <th>40543149</th>\n      <td>93436</td>\n      <td>TSLA</td>\n      <td>2022-02-25</td>\n      <td>809.8700</td>\n      <td>809.8700</td>\n      <td>1033508.0</td>\n    </tr>\n    <tr>\n      <th>40543150</th>\n      <td>93436</td>\n      <td>TSLA</td>\n      <td>2022-02-28</td>\n      <td>870.4300</td>\n      <td>870.4300</td>\n      <td>1033508.0</td>\n    </tr>\n    <tr>\n      <th>40543151</th>\n      <td>93436</td>\n      <td>TSLA</td>\n      <td>2022-03-01</td>\n      <td>864.3700</td>\n      <td>864.3700</td>\n      <td>1033508.0</td>\n    </tr>\n  </tbody>\n</table>\n<p>40543152 rows × 6 columns</p>\n</div>"
     },
     "execution_count": 538,
     "metadata": {},
     "output_type": "execute_result"
    }
   ],
   "source": [
    "stocks = pd.read_feather('crsp.feather')\n",
    "stocks"
   ],
   "metadata": {
    "collapsed": false,
    "pycharm": {
     "name": "#%%\n"
    }
   }
  },
  {
   "cell_type": "code",
   "execution_count": 539,
   "outputs": [
    {
     "data": {
      "text/plain": "True     39940121\nFalse      603031\nName: DlyPrc, dtype: int64"
     },
     "execution_count": 539,
     "metadata": {},
     "output_type": "execute_result"
    }
   ],
   "source": [
    "(stocks['DlyPrc'] > 0).value_counts()"
   ],
   "metadata": {
    "collapsed": false,
    "pycharm": {
     "name": "#%%\n"
    }
   }
  },
  {
   "cell_type": "code",
   "execution_count": 540,
   "outputs": [],
   "source": [
    "stocks['DlyPrc'] = np.abs(stocks['DlyPrc'])"
   ],
   "metadata": {
    "collapsed": false,
    "pycharm": {
     "name": "#%%\n"
    }
   }
  },
  {
   "cell_type": "markdown",
   "source": [
    "Now, observe that some of our prices are negative. According to CRSP's documentation, negative prices indicates they are not the realized prices at closing, but rather the middle of the bid-ask spread at close. Hence, we can safely convert all these values to positive numbers."
   ],
   "metadata": {
    "collapsed": false,
    "pycharm": {
     "name": "#%% md\n"
    }
   }
  },
  {
   "cell_type": "markdown",
   "source": [
    "#### 1.2.2 Stock Missing Values"
   ],
   "metadata": {
    "collapsed": false,
    "pycharm": {
     "name": "#%% md\n"
    }
   }
  },
  {
   "cell_type": "code",
   "execution_count": 541,
   "outputs": [
    {
     "data": {
      "text/plain": "PERMNO            0\nTicker          240\nDATE              0\nDlyPrc       594105\nDlyClose    1972179\nShrOut        12697\ndtype: int64"
     },
     "execution_count": 541,
     "metadata": {},
     "output_type": "execute_result"
    }
   ],
   "source": [
    "stocks.isna().sum(axis=0)"
   ],
   "metadata": {
    "collapsed": false,
    "pycharm": {
     "name": "#%%\n"
    }
   }
  },
  {
   "cell_type": "markdown",
   "source": [
    "It seems like there are a lot more missing values for daily closing prices, so we will use DlyPrc only and drop those closing prices. Also, all other missing entries are subsequently dropped."
   ],
   "metadata": {
    "collapsed": false,
    "pycharm": {
     "name": "#%% md\n"
    }
   }
  },
  {
   "cell_type": "code",
   "execution_count": 542,
   "outputs": [],
   "source": [
    "stocks = stocks.dropna().drop(['Ticker','DlyClose'],axis=1)"
   ],
   "metadata": {
    "collapsed": false,
    "pycharm": {
     "name": "#%%\n"
    }
   }
  },
  {
   "cell_type": "markdown",
   "source": [
    "### 1.3 Merge CRSP and COMPUSTAT"
   ],
   "metadata": {
    "collapsed": false,
    "pycharm": {
     "name": "#%% md\n"
    }
   }
  },
  {
   "cell_type": "code",
   "execution_count": 543,
   "outputs": [],
   "source": [
    "cstat = pd.merge(stocks,cstat,how='inner',on=['PERMNO','DATE'])"
   ],
   "metadata": {
    "collapsed": false,
    "pycharm": {
     "name": "#%%\n"
    }
   }
  },
  {
   "cell_type": "code",
   "execution_count": 544,
   "outputs": [],
   "source": [
    "mv = cstat['ShrOut'] * cstat['DlyPrc']\n",
    "cstat['MKVALTQ'] = round(cstat['MKVALTQ'].fillna(mv/1000))\n",
    "cstat = cstat.dropna()"
   ],
   "metadata": {
    "collapsed": false,
    "pycharm": {
     "name": "#%%\n"
    }
   }
  },
  {
   "cell_type": "markdown",
   "source": [
    "Fills in the previoulsy mentioned missing features of market cap data."
   ],
   "metadata": {
    "collapsed": false,
    "pycharm": {
     "name": "#%% md\n"
    }
   }
  },
  {
   "cell_type": "markdown",
   "source": [
    "#### 1.3.1 Computing Required Factors\n",
    "\n",
    "We will add the following factors (Note that all generated factors are lower case while the original columns are in upper case).\n",
    "1. actqg: Asset growth rate. atg = current period ACTQ / previous period actq\n",
    "2. pb: Price to Book ratio. pb = market value / total common equity\n",
    "3. roe: Return on Equity. roe = Income (We use opearting income) / total common equity\n",
    "4. beta: the market beta of the period from our previous observation to the next observation.\n",
    "5. ret_1: The lead return on the stock from the current time stamp to the next time stamp.\n",
    "\n",
    "* Now, we have every component of the Fama-French 5 factor model in our dataset. SMB is proxied by market cap, HML is proxied by PB ratio, RMW is proxied by roe, CMA is proxied by increase in investments (IVCHY)"
   ],
   "metadata": {
    "collapsed": false,
    "pycharm": {
     "name": "#%% md\n"
    }
   }
  },
  {
   "cell_type": "code",
   "execution_count": 545,
   "outputs": [],
   "source": [
    "cstat = cstat.set_index(['PERMNO','DATE'])"
   ],
   "metadata": {
    "collapsed": false,
    "pycharm": {
     "name": "#%%\n"
    }
   }
  },
  {
   "cell_type": "code",
   "execution_count": 546,
   "outputs": [
    {
     "data": {
      "text/plain": "                    DlyPrc    ShrOut   index CURCDQ       ACTQ       CEQQ  \\\nPERMNO DATE                                                                 \n10026  2001-12-31    24.45    8654.0     221    USD     60.182    147.584   \n       2002-09-30    36.85    8903.0     224    USD     75.367    168.709   \n       2002-12-31    35.71    8905.0     225    USD     74.749    169.881   \n       2003-03-31    30.32    8742.0     226    USD     80.996    167.484   \n       2003-06-30    31.40    8868.0     227    USD     90.863    173.262   \n...                    ...       ...     ...    ...        ...        ...   \n93436  2020-06-30  1079.81  186000.0  538597    USD  15336.000   9855.000   \n       2020-09-30   429.01  948000.0  538598    USD  21744.000  16031.000   \n       2020-12-31   705.67  959854.0  538599    USD  26717.000  22225.000   \n       2021-03-31   667.93  963000.0  538600    USD  24705.000  23017.000   \n       2021-06-30   679.70  984003.0  538601    USD  24693.000  24804.000   \n\n                   EPSPXQ    OIADPQ  IVCHY      REVTY COSTAT   MKVALTQ NAICS  \\\nPERMNO DATE                                                                    \n10026  2001-12-31    0.10     1.480    0.0     74.797      A     212.0    31   \n       2002-09-30    0.84    11.539    0.0    353.187      A     328.0    31   \n       2002-12-31    0.14     1.810    0.0     77.244      A     318.0    31   \n       2003-03-31    0.34     4.623    0.0    158.652      A     265.0    31   \n       2003-06-30    0.91    12.157    0.0    261.181      A     278.0    31   \n...                   ...       ...    ...        ...    ...       ...   ...   \n93436  2020-06-30    0.56   536.000    0.0  12021.000      A  200845.0    33   \n       2020-09-30    0.32   766.000    0.0  20792.000      A  406701.0    33   \n       2020-12-31    0.28   575.000    0.0  31536.000      A  677443.0    33   \n       2021-03-31    0.46   493.000    0.0  10389.000      A  643217.0    33   \n       2021-06-30    1.18  1335.000    0.0  22347.000      A  668825.0    33   \n\n                      actqg       pb       roe     ret_1  quarters  \nPERMNO DATE                                                         \n10026  2001-12-31 -0.013555     2.12   0.01480 -0.030936       6.0  \n       2002-09-30  0.252318     3.28   0.11539 -0.150938       3.0  \n       2002-12-31 -0.008200     3.18   0.01810  0.035620       1.0  \n       2003-03-31  0.083573     2.65   0.04623  0.139490       1.0  \n       2003-06-30  0.121821     2.78   0.12157  0.055338       1.0  \n...                     ...      ...       ...       ...       ...  \n93436  2020-06-30  0.029746  2008.45   5.36000  0.644880       1.0  \n       2020-09-30  0.417840  4067.01   7.66000 -0.053481       1.0  \n       2020-12-31  0.228707  6774.43   5.75000  0.017622       1.0  \n       2021-03-31 -0.075308  6432.17   4.93000  0.140915       1.0  \n       2021-06-30 -0.000486  6688.25  13.35000  0.362743       1.0  \n\n[124607 rows x 18 columns]",
      "text/html": "<div>\n<style scoped>\n    .dataframe tbody tr th:only-of-type {\n        vertical-align: middle;\n    }\n\n    .dataframe tbody tr th {\n        vertical-align: top;\n    }\n\n    .dataframe thead th {\n        text-align: right;\n    }\n</style>\n<table border=\"1\" class=\"dataframe\">\n  <thead>\n    <tr style=\"text-align: right;\">\n      <th></th>\n      <th></th>\n      <th>DlyPrc</th>\n      <th>ShrOut</th>\n      <th>index</th>\n      <th>CURCDQ</th>\n      <th>ACTQ</th>\n      <th>CEQQ</th>\n      <th>EPSPXQ</th>\n      <th>OIADPQ</th>\n      <th>IVCHY</th>\n      <th>REVTY</th>\n      <th>COSTAT</th>\n      <th>MKVALTQ</th>\n      <th>NAICS</th>\n      <th>actqg</th>\n      <th>pb</th>\n      <th>roe</th>\n      <th>ret_1</th>\n      <th>quarters</th>\n    </tr>\n    <tr>\n      <th>PERMNO</th>\n      <th>DATE</th>\n      <th></th>\n      <th></th>\n      <th></th>\n      <th></th>\n      <th></th>\n      <th></th>\n      <th></th>\n      <th></th>\n      <th></th>\n      <th></th>\n      <th></th>\n      <th></th>\n      <th></th>\n      <th></th>\n      <th></th>\n      <th></th>\n      <th></th>\n      <th></th>\n    </tr>\n  </thead>\n  <tbody>\n    <tr>\n      <th rowspan=\"5\" valign=\"top\">10026</th>\n      <th>2001-12-31</th>\n      <td>24.45</td>\n      <td>8654.0</td>\n      <td>221</td>\n      <td>USD</td>\n      <td>60.182</td>\n      <td>147.584</td>\n      <td>0.10</td>\n      <td>1.480</td>\n      <td>0.0</td>\n      <td>74.797</td>\n      <td>A</td>\n      <td>212.0</td>\n      <td>31</td>\n      <td>-0.013555</td>\n      <td>2.12</td>\n      <td>0.01480</td>\n      <td>-0.030936</td>\n      <td>6.0</td>\n    </tr>\n    <tr>\n      <th>2002-09-30</th>\n      <td>36.85</td>\n      <td>8903.0</td>\n      <td>224</td>\n      <td>USD</td>\n      <td>75.367</td>\n      <td>168.709</td>\n      <td>0.84</td>\n      <td>11.539</td>\n      <td>0.0</td>\n      <td>353.187</td>\n      <td>A</td>\n      <td>328.0</td>\n      <td>31</td>\n      <td>0.252318</td>\n      <td>3.28</td>\n      <td>0.11539</td>\n      <td>-0.150938</td>\n      <td>3.0</td>\n    </tr>\n    <tr>\n      <th>2002-12-31</th>\n      <td>35.71</td>\n      <td>8905.0</td>\n      <td>225</td>\n      <td>USD</td>\n      <td>74.749</td>\n      <td>169.881</td>\n      <td>0.14</td>\n      <td>1.810</td>\n      <td>0.0</td>\n      <td>77.244</td>\n      <td>A</td>\n      <td>318.0</td>\n      <td>31</td>\n      <td>-0.008200</td>\n      <td>3.18</td>\n      <td>0.01810</td>\n      <td>0.035620</td>\n      <td>1.0</td>\n    </tr>\n    <tr>\n      <th>2003-03-31</th>\n      <td>30.32</td>\n      <td>8742.0</td>\n      <td>226</td>\n      <td>USD</td>\n      <td>80.996</td>\n      <td>167.484</td>\n      <td>0.34</td>\n      <td>4.623</td>\n      <td>0.0</td>\n      <td>158.652</td>\n      <td>A</td>\n      <td>265.0</td>\n      <td>31</td>\n      <td>0.083573</td>\n      <td>2.65</td>\n      <td>0.04623</td>\n      <td>0.139490</td>\n      <td>1.0</td>\n    </tr>\n    <tr>\n      <th>2003-06-30</th>\n      <td>31.40</td>\n      <td>8868.0</td>\n      <td>227</td>\n      <td>USD</td>\n      <td>90.863</td>\n      <td>173.262</td>\n      <td>0.91</td>\n      <td>12.157</td>\n      <td>0.0</td>\n      <td>261.181</td>\n      <td>A</td>\n      <td>278.0</td>\n      <td>31</td>\n      <td>0.121821</td>\n      <td>2.78</td>\n      <td>0.12157</td>\n      <td>0.055338</td>\n      <td>1.0</td>\n    </tr>\n    <tr>\n      <th>...</th>\n      <th>...</th>\n      <td>...</td>\n      <td>...</td>\n      <td>...</td>\n      <td>...</td>\n      <td>...</td>\n      <td>...</td>\n      <td>...</td>\n      <td>...</td>\n      <td>...</td>\n      <td>...</td>\n      <td>...</td>\n      <td>...</td>\n      <td>...</td>\n      <td>...</td>\n      <td>...</td>\n      <td>...</td>\n      <td>...</td>\n      <td>...</td>\n    </tr>\n    <tr>\n      <th rowspan=\"5\" valign=\"top\">93436</th>\n      <th>2020-06-30</th>\n      <td>1079.81</td>\n      <td>186000.0</td>\n      <td>538597</td>\n      <td>USD</td>\n      <td>15336.000</td>\n      <td>9855.000</td>\n      <td>0.56</td>\n      <td>536.000</td>\n      <td>0.0</td>\n      <td>12021.000</td>\n      <td>A</td>\n      <td>200845.0</td>\n      <td>33</td>\n      <td>0.029746</td>\n      <td>2008.45</td>\n      <td>5.36000</td>\n      <td>0.644880</td>\n      <td>1.0</td>\n    </tr>\n    <tr>\n      <th>2020-09-30</th>\n      <td>429.01</td>\n      <td>948000.0</td>\n      <td>538598</td>\n      <td>USD</td>\n      <td>21744.000</td>\n      <td>16031.000</td>\n      <td>0.32</td>\n      <td>766.000</td>\n      <td>0.0</td>\n      <td>20792.000</td>\n      <td>A</td>\n      <td>406701.0</td>\n      <td>33</td>\n      <td>0.417840</td>\n      <td>4067.01</td>\n      <td>7.66000</td>\n      <td>-0.053481</td>\n      <td>1.0</td>\n    </tr>\n    <tr>\n      <th>2020-12-31</th>\n      <td>705.67</td>\n      <td>959854.0</td>\n      <td>538599</td>\n      <td>USD</td>\n      <td>26717.000</td>\n      <td>22225.000</td>\n      <td>0.28</td>\n      <td>575.000</td>\n      <td>0.0</td>\n      <td>31536.000</td>\n      <td>A</td>\n      <td>677443.0</td>\n      <td>33</td>\n      <td>0.228707</td>\n      <td>6774.43</td>\n      <td>5.75000</td>\n      <td>0.017622</td>\n      <td>1.0</td>\n    </tr>\n    <tr>\n      <th>2021-03-31</th>\n      <td>667.93</td>\n      <td>963000.0</td>\n      <td>538600</td>\n      <td>USD</td>\n      <td>24705.000</td>\n      <td>23017.000</td>\n      <td>0.46</td>\n      <td>493.000</td>\n      <td>0.0</td>\n      <td>10389.000</td>\n      <td>A</td>\n      <td>643217.0</td>\n      <td>33</td>\n      <td>-0.075308</td>\n      <td>6432.17</td>\n      <td>4.93000</td>\n      <td>0.140915</td>\n      <td>1.0</td>\n    </tr>\n    <tr>\n      <th>2021-06-30</th>\n      <td>679.70</td>\n      <td>984003.0</td>\n      <td>538601</td>\n      <td>USD</td>\n      <td>24693.000</td>\n      <td>24804.000</td>\n      <td>1.18</td>\n      <td>1335.000</td>\n      <td>0.0</td>\n      <td>22347.000</td>\n      <td>A</td>\n      <td>668825.0</td>\n      <td>33</td>\n      <td>-0.000486</td>\n      <td>6688.25</td>\n      <td>13.35000</td>\n      <td>0.362743</td>\n      <td>1.0</td>\n    </tr>\n  </tbody>\n</table>\n<p>124607 rows × 18 columns</p>\n</div>"
     },
     "execution_count": 546,
     "metadata": {},
     "output_type": "execute_result"
    }
   ],
   "source": [
    "grouped = cstat.groupby(['PERMNO'])\n",
    "cstat['actqg'] = grouped['ACTQ'].pct_change().clip(-10,10)\n",
    "# cstat['actqg'] = grouped['ACTQ'].pct_change().clip(-10,10)\n",
    "cstat['pb'] = cstat['MKVALTQ']/cstat['CEQQ'].clip(-100,100)\n",
    "cstat['roe'] = cstat['OIADPQ']/cstat['CEQQ'].clip(-100,100)\n",
    "cstat['ret_1'] = grouped['DlyPrc'].pct_change().shift(-2)\n",
    "\n",
    "cstat['NAICS'] = cstat['NAICS'].astype('category')\n",
    "cstat['quarters'] = np.floor(cstat.reset_index().groupby(['PERMNO'])['DATE'].diff().dt.days / 90).values\n",
    "# cstat = cstat.drop(['DlyPrc','ShrOut','index','CURCDQ','COSTAT'],axis=1).dropna()\n",
    "\n",
    "cstat.dropna(inplace=True)\n",
    "cstat"
   ],
   "metadata": {
    "collapsed": false,
    "pycharm": {
     "name": "#%%\n"
    }
   }
  },
  {
   "cell_type": "markdown",
   "source": [
    "#### 1.3.2 Load Stock Beta"
   ],
   "metadata": {
    "collapsed": false,
    "pycharm": {
     "name": "#%% md\n"
    }
   }
  },
  {
   "cell_type": "code",
   "execution_count": 547,
   "outputs": [
    {
     "data": {
      "text/plain": "        PERMNO       DATE   DlyPrc    ShrOut   index CURCDQ       ACTQ  \\\n0        10026 2001-12-31    24.45    8654.0     221    USD     60.182   \n1        10026 2002-09-30    36.85    8903.0     224    USD     75.367   \n2        10026 2002-12-31    35.71    8905.0     225    USD     74.749   \n3        10026 2003-03-31    30.32    8742.0     226    USD     80.996   \n4        10026 2003-06-30    31.40    8868.0     227    USD     90.863   \n...        ...        ...      ...       ...     ...    ...        ...   \n101324   93436 2020-06-30  1079.81  186000.0  538597    USD  15336.000   \n101325   93436 2020-09-30   429.01  948000.0  538598    USD  21744.000   \n101326   93436 2020-12-31   705.67  959854.0  538599    USD  26717.000   \n101327   93436 2021-03-31   667.93  963000.0  538600    USD  24705.000   \n101328   93436 2021-06-30   679.70  984003.0  538601    USD  24693.000   \n\n             CEQQ  EPSPXQ    OIADPQ  ...      REVTY  COSTAT   MKVALTQ  NAICS  \\\n0         147.584    0.10     1.480  ...     74.797       A     212.0     31   \n1         168.709    0.84    11.539  ...    353.187       A     328.0     31   \n2         169.881    0.14     1.810  ...     77.244       A     318.0     31   \n3         167.484    0.34     4.623  ...    158.652       A     265.0     31   \n4         173.262    0.91    12.157  ...    261.181       A     278.0     31   \n...           ...     ...       ...  ...        ...     ...       ...    ...   \n101324   9855.000    0.56   536.000  ...  12021.000       A  200845.0     33   \n101325  16031.000    0.32   766.000  ...  20792.000       A  406701.0     33   \n101326  22225.000    0.28   575.000  ...  31536.000       A  677443.0     33   \n101327  23017.000    0.46   493.000  ...  10389.000       A  643217.0     33   \n101328  24804.000    1.18  1335.000  ...  22347.000       A  668825.0     33   \n\n           actqg       pb       roe     ret_1  quarters   B_MKT  \n0      -0.013555     2.12   0.01480 -0.030936       6.0  0.9372  \n1       0.252318     3.28   0.11539 -0.150938       3.0  0.7866  \n2      -0.008200     3.18   0.01810  0.035620       1.0  0.6919  \n3       0.083573     2.65   0.04623  0.139490       1.0  0.7413  \n4       0.121821     2.78   0.12157  0.055338       1.0  0.7071  \n...          ...      ...       ...       ...       ...     ...  \n101324  0.029746  2008.45   5.36000  0.644880       1.0  1.2631  \n101325  0.417840  4067.01   7.66000 -0.053481       1.0  1.6488  \n101326  0.228707  6774.43   5.75000  0.017622       1.0  1.7767  \n101327 -0.075308  6432.17   4.93000  0.140915       1.0  1.7609  \n101328 -0.000486  6688.25  13.35000  0.362743       1.0  1.8350  \n\n[101329 rows x 21 columns]",
      "text/html": "<div>\n<style scoped>\n    .dataframe tbody tr th:only-of-type {\n        vertical-align: middle;\n    }\n\n    .dataframe tbody tr th {\n        vertical-align: top;\n    }\n\n    .dataframe thead th {\n        text-align: right;\n    }\n</style>\n<table border=\"1\" class=\"dataframe\">\n  <thead>\n    <tr style=\"text-align: right;\">\n      <th></th>\n      <th>PERMNO</th>\n      <th>DATE</th>\n      <th>DlyPrc</th>\n      <th>ShrOut</th>\n      <th>index</th>\n      <th>CURCDQ</th>\n      <th>ACTQ</th>\n      <th>CEQQ</th>\n      <th>EPSPXQ</th>\n      <th>OIADPQ</th>\n      <th>...</th>\n      <th>REVTY</th>\n      <th>COSTAT</th>\n      <th>MKVALTQ</th>\n      <th>NAICS</th>\n      <th>actqg</th>\n      <th>pb</th>\n      <th>roe</th>\n      <th>ret_1</th>\n      <th>quarters</th>\n      <th>B_MKT</th>\n    </tr>\n  </thead>\n  <tbody>\n    <tr>\n      <th>0</th>\n      <td>10026</td>\n      <td>2001-12-31</td>\n      <td>24.45</td>\n      <td>8654.0</td>\n      <td>221</td>\n      <td>USD</td>\n      <td>60.182</td>\n      <td>147.584</td>\n      <td>0.10</td>\n      <td>1.480</td>\n      <td>...</td>\n      <td>74.797</td>\n      <td>A</td>\n      <td>212.0</td>\n      <td>31</td>\n      <td>-0.013555</td>\n      <td>2.12</td>\n      <td>0.01480</td>\n      <td>-0.030936</td>\n      <td>6.0</td>\n      <td>0.9372</td>\n    </tr>\n    <tr>\n      <th>1</th>\n      <td>10026</td>\n      <td>2002-09-30</td>\n      <td>36.85</td>\n      <td>8903.0</td>\n      <td>224</td>\n      <td>USD</td>\n      <td>75.367</td>\n      <td>168.709</td>\n      <td>0.84</td>\n      <td>11.539</td>\n      <td>...</td>\n      <td>353.187</td>\n      <td>A</td>\n      <td>328.0</td>\n      <td>31</td>\n      <td>0.252318</td>\n      <td>3.28</td>\n      <td>0.11539</td>\n      <td>-0.150938</td>\n      <td>3.0</td>\n      <td>0.7866</td>\n    </tr>\n    <tr>\n      <th>2</th>\n      <td>10026</td>\n      <td>2002-12-31</td>\n      <td>35.71</td>\n      <td>8905.0</td>\n      <td>225</td>\n      <td>USD</td>\n      <td>74.749</td>\n      <td>169.881</td>\n      <td>0.14</td>\n      <td>1.810</td>\n      <td>...</td>\n      <td>77.244</td>\n      <td>A</td>\n      <td>318.0</td>\n      <td>31</td>\n      <td>-0.008200</td>\n      <td>3.18</td>\n      <td>0.01810</td>\n      <td>0.035620</td>\n      <td>1.0</td>\n      <td>0.6919</td>\n    </tr>\n    <tr>\n      <th>3</th>\n      <td>10026</td>\n      <td>2003-03-31</td>\n      <td>30.32</td>\n      <td>8742.0</td>\n      <td>226</td>\n      <td>USD</td>\n      <td>80.996</td>\n      <td>167.484</td>\n      <td>0.34</td>\n      <td>4.623</td>\n      <td>...</td>\n      <td>158.652</td>\n      <td>A</td>\n      <td>265.0</td>\n      <td>31</td>\n      <td>0.083573</td>\n      <td>2.65</td>\n      <td>0.04623</td>\n      <td>0.139490</td>\n      <td>1.0</td>\n      <td>0.7413</td>\n    </tr>\n    <tr>\n      <th>4</th>\n      <td>10026</td>\n      <td>2003-06-30</td>\n      <td>31.40</td>\n      <td>8868.0</td>\n      <td>227</td>\n      <td>USD</td>\n      <td>90.863</td>\n      <td>173.262</td>\n      <td>0.91</td>\n      <td>12.157</td>\n      <td>...</td>\n      <td>261.181</td>\n      <td>A</td>\n      <td>278.0</td>\n      <td>31</td>\n      <td>0.121821</td>\n      <td>2.78</td>\n      <td>0.12157</td>\n      <td>0.055338</td>\n      <td>1.0</td>\n      <td>0.7071</td>\n    </tr>\n    <tr>\n      <th>...</th>\n      <td>...</td>\n      <td>...</td>\n      <td>...</td>\n      <td>...</td>\n      <td>...</td>\n      <td>...</td>\n      <td>...</td>\n      <td>...</td>\n      <td>...</td>\n      <td>...</td>\n      <td>...</td>\n      <td>...</td>\n      <td>...</td>\n      <td>...</td>\n      <td>...</td>\n      <td>...</td>\n      <td>...</td>\n      <td>...</td>\n      <td>...</td>\n      <td>...</td>\n      <td>...</td>\n    </tr>\n    <tr>\n      <th>101324</th>\n      <td>93436</td>\n      <td>2020-06-30</td>\n      <td>1079.81</td>\n      <td>186000.0</td>\n      <td>538597</td>\n      <td>USD</td>\n      <td>15336.000</td>\n      <td>9855.000</td>\n      <td>0.56</td>\n      <td>536.000</td>\n      <td>...</td>\n      <td>12021.000</td>\n      <td>A</td>\n      <td>200845.0</td>\n      <td>33</td>\n      <td>0.029746</td>\n      <td>2008.45</td>\n      <td>5.36000</td>\n      <td>0.644880</td>\n      <td>1.0</td>\n      <td>1.2631</td>\n    </tr>\n    <tr>\n      <th>101325</th>\n      <td>93436</td>\n      <td>2020-09-30</td>\n      <td>429.01</td>\n      <td>948000.0</td>\n      <td>538598</td>\n      <td>USD</td>\n      <td>21744.000</td>\n      <td>16031.000</td>\n      <td>0.32</td>\n      <td>766.000</td>\n      <td>...</td>\n      <td>20792.000</td>\n      <td>A</td>\n      <td>406701.0</td>\n      <td>33</td>\n      <td>0.417840</td>\n      <td>4067.01</td>\n      <td>7.66000</td>\n      <td>-0.053481</td>\n      <td>1.0</td>\n      <td>1.6488</td>\n    </tr>\n    <tr>\n      <th>101326</th>\n      <td>93436</td>\n      <td>2020-12-31</td>\n      <td>705.67</td>\n      <td>959854.0</td>\n      <td>538599</td>\n      <td>USD</td>\n      <td>26717.000</td>\n      <td>22225.000</td>\n      <td>0.28</td>\n      <td>575.000</td>\n      <td>...</td>\n      <td>31536.000</td>\n      <td>A</td>\n      <td>677443.0</td>\n      <td>33</td>\n      <td>0.228707</td>\n      <td>6774.43</td>\n      <td>5.75000</td>\n      <td>0.017622</td>\n      <td>1.0</td>\n      <td>1.7767</td>\n    </tr>\n    <tr>\n      <th>101327</th>\n      <td>93436</td>\n      <td>2021-03-31</td>\n      <td>667.93</td>\n      <td>963000.0</td>\n      <td>538600</td>\n      <td>USD</td>\n      <td>24705.000</td>\n      <td>23017.000</td>\n      <td>0.46</td>\n      <td>493.000</td>\n      <td>...</td>\n      <td>10389.000</td>\n      <td>A</td>\n      <td>643217.0</td>\n      <td>33</td>\n      <td>-0.075308</td>\n      <td>6432.17</td>\n      <td>4.93000</td>\n      <td>0.140915</td>\n      <td>1.0</td>\n      <td>1.7609</td>\n    </tr>\n    <tr>\n      <th>101328</th>\n      <td>93436</td>\n      <td>2021-06-30</td>\n      <td>679.70</td>\n      <td>984003.0</td>\n      <td>538601</td>\n      <td>USD</td>\n      <td>24693.000</td>\n      <td>24804.000</td>\n      <td>1.18</td>\n      <td>1335.000</td>\n      <td>...</td>\n      <td>22347.000</td>\n      <td>A</td>\n      <td>668825.0</td>\n      <td>33</td>\n      <td>-0.000486</td>\n      <td>6688.25</td>\n      <td>13.35000</td>\n      <td>0.362743</td>\n      <td>1.0</td>\n      <td>1.8350</td>\n    </tr>\n  </tbody>\n</table>\n<p>101329 rows × 21 columns</p>\n</div>"
     },
     "execution_count": 547,
     "metadata": {},
     "output_type": "execute_result"
    }
   ],
   "source": [
    "beta = pd.read_feather('beta.feather')[['PERMNO','DATE','B_MKT']]\n",
    "cstat = pd.merge(cstat,beta,how='inner',on=['PERMNO','DATE'])\n",
    "cstat"
   ],
   "metadata": {
    "collapsed": false,
    "pycharm": {
     "name": "#%%\n"
    }
   }
  },
  {
   "cell_type": "markdown",
   "source": [
    "#### 1.3.3 Constructing Factor Portfolios (Quantiles)"
   ],
   "metadata": {
    "collapsed": false,
    "pycharm": {
     "name": "#%% md\n"
    }
   }
  },
  {
   "cell_type": "code",
   "execution_count": 548,
   "outputs": [],
   "source": [
    "# # For every quarter, generate qcut from cross-section values\n",
    "# cstat[['actqgq','pbq','roeq','mkvaltqq']] = cstat.groupby(['DATE'])[['actqg','pb','roe','MKVALTQ']].transform(lambda x: pd.qcut(x, 5, labels=range(1,6)))"
   ],
   "metadata": {
    "collapsed": false,
    "pycharm": {
     "name": "#%%\n"
    }
   }
  },
  {
   "cell_type": "markdown",
   "source": [
    "## 2. Analysis"
   ],
   "metadata": {
    "collapsed": false,
    "pycharm": {
     "name": "#%% md\n"
    }
   }
  },
  {
   "cell_type": "markdown",
   "source": [
    "### 2.1 Visualization & Exporation of Data"
   ],
   "metadata": {
    "collapsed": false,
    "pycharm": {
     "name": "#%% md\n"
    }
   }
  },
  {
   "cell_type": "markdown",
   "source": [
    "#### 2.1.1 Visualizing Correlation\n",
    "Since we would like to prove the growth of asset is a completely new factor independent of the previously explored factors, we will plot the correlationship between every factor and see if growth of asset is highly correlated to the other factors."
   ],
   "metadata": {
    "collapsed": false,
    "pycharm": {
     "name": "#%% md\n"
    }
   }
  },
  {
   "cell_type": "code",
   "execution_count": 549,
   "outputs": [
    {
     "data": {
      "text/plain": "<AxesSubplot:>"
     },
     "execution_count": 549,
     "metadata": {},
     "output_type": "execute_result"
    },
    {
     "data": {
      "text/plain": "<Figure size 432x288 with 2 Axes>",
      "image/png": "[encoded data removed]"
     },
     "metadata": {
      "needs_background": "light"
     },
     "output_type": "display_data"
    }
   ],
   "source": [
    "import seaborn as sns\n",
    "sns.heatmap(cstat.corr())"
   ],
   "metadata": {
    "collapsed": false,
    "pycharm": {
     "name": "#%%\n"
    }
   }
  },
  {
   "cell_type": "markdown",
   "source": [
    "According to this heatmap, We see that the actqg row is nearly orthogonal to every other variables! Although the ACTQ itself has a lot of correlationship with other number in the financial reports, we do not observe the same effect for the growth in asset. It seems like the growth of asset behaves independently! Another interesting not is return is also almost completely orthogonal to asset growth. Just for fun, we will find the correlation between future and future asset growth."
   ],
   "metadata": {
    "collapsed": false,
    "pycharm": {
     "name": "#%% md\n"
    }
   }
  },
  {
   "cell_type": "markdown",
   "source": [
    "#### 2.1.2 Further Exploring Correlations"
   ],
   "metadata": {
    "collapsed": false,
    "pycharm": {
     "name": "#%% md\n"
    }
   }
  },
  {
   "cell_type": "code",
   "execution_count": 550,
   "outputs": [
    {
     "data": {
      "text/plain": "          0         1\n0  1.000000  0.033873\n1  0.033873  1.000000",
      "text/html": "<div>\n<style scoped>\n    .dataframe tbody tr th:only-of-type {\n        vertical-align: middle;\n    }\n\n    .dataframe tbody tr th {\n        vertical-align: top;\n    }\n\n    .dataframe thead th {\n        text-align: right;\n    }\n</style>\n<table border=\"1\" class=\"dataframe\">\n  <thead>\n    <tr style=\"text-align: right;\">\n      <th></th>\n      <th>0</th>\n      <th>1</th>\n    </tr>\n  </thead>\n  <tbody>\n    <tr>\n      <th>0</th>\n      <td>1.000000</td>\n      <td>0.033873</td>\n    </tr>\n    <tr>\n      <th>1</th>\n      <td>0.033873</td>\n      <td>1.000000</td>\n    </tr>\n  </tbody>\n</table>\n</div>"
     },
     "execution_count": 550,
     "metadata": {},
     "output_type": "execute_result"
    }
   ],
   "source": [
    "pd.DataFrame(data=[cstat['ret_1'].values,cstat['B_MKT'].shift(-1).values]).T.corr()"
   ],
   "metadata": {
    "collapsed": false,
    "pycharm": {
     "name": "#%%\n"
    }
   }
  },
  {
   "cell_type": "markdown",
   "source": [
    "This is odd. For cross-sectional data, it seems like market beta only explains 3 percent of the variations in returns."
   ],
   "metadata": {
    "collapsed": false,
    "pycharm": {
     "name": "#%% md\n"
    }
   }
  },
  {
   "cell_type": "code",
   "execution_count": 551,
   "outputs": [
    {
     "data": {
      "text/plain": "          0         1\n0  1.000000 -0.006165\n1 -0.006165  1.000000",
      "text/html": "<div>\n<style scoped>\n    .dataframe tbody tr th:only-of-type {\n        vertical-align: middle;\n    }\n\n    .dataframe tbody tr th {\n        vertical-align: top;\n    }\n\n    .dataframe thead th {\n        text-align: right;\n    }\n</style>\n<table border=\"1\" class=\"dataframe\">\n  <thead>\n    <tr style=\"text-align: right;\">\n      <th></th>\n      <th>0</th>\n      <th>1</th>\n    </tr>\n  </thead>\n  <tbody>\n    <tr>\n      <th>0</th>\n      <td>1.000000</td>\n      <td>-0.006165</td>\n    </tr>\n    <tr>\n      <th>1</th>\n      <td>-0.006165</td>\n      <td>1.000000</td>\n    </tr>\n  </tbody>\n</table>\n</div>"
     },
     "execution_count": 551,
     "metadata": {},
     "output_type": "execute_result"
    }
   ],
   "source": [
    "pd.DataFrame(data=[cstat['ret_1'].values,cstat['actqg'].values]).T.corr()"
   ],
   "metadata": {
    "collapsed": false,
    "pycharm": {
     "name": "#%%\n"
    }
   }
  },
  {
   "cell_type": "markdown",
   "source": [
    "It seems like there is only a little correlation between future asset returns and future returns on the stocks. Is this true for common equity as well?"
   ],
   "metadata": {
    "collapsed": false,
    "pycharm": {
     "name": "#%% md\n"
    }
   }
  },
  {
   "cell_type": "code",
   "execution_count": 552,
   "outputs": [
    {
     "data": {
      "text/plain": "          0         1\n0  1.000000 -0.000344\n1 -0.000344  1.000000",
      "text/html": "<div>\n<style scoped>\n    .dataframe tbody tr th:only-of-type {\n        vertical-align: middle;\n    }\n\n    .dataframe tbody tr th {\n        vertical-align: top;\n    }\n\n    .dataframe thead th {\n        text-align: right;\n    }\n</style>\n<table border=\"1\" class=\"dataframe\">\n  <thead>\n    <tr style=\"text-align: right;\">\n      <th></th>\n      <th>0</th>\n      <th>1</th>\n    </tr>\n  </thead>\n  <tbody>\n    <tr>\n      <th>0</th>\n      <td>1.000000</td>\n      <td>-0.000344</td>\n    </tr>\n    <tr>\n      <th>1</th>\n      <td>-0.000344</td>\n      <td>1.000000</td>\n    </tr>\n  </tbody>\n</table>\n</div>"
     },
     "execution_count": 552,
     "metadata": {},
     "output_type": "execute_result"
    }
   ],
   "source": [
    "pd.DataFrame(data=[cstat['ret_1'].values,cstat['CEQQ'].pct_change().shift(-1).values]).T.corr()"
   ],
   "metadata": {
    "collapsed": false,
    "pycharm": {
     "name": "#%%\n"
    }
   }
  },
  {
   "cell_type": "markdown",
   "source": [
    "This relationship becomes even smaller (almost non existant) for the growth in common equtiy of the company."
   ],
   "metadata": {
    "collapsed": false,
    "pycharm": {
     "name": "#%% md\n"
    }
   }
  },
  {
   "cell_type": "markdown",
   "source": [
    "#### 2.1.3 Exploring Asset Growth"
   ],
   "metadata": {
    "collapsed": false,
    "pycharm": {
     "name": "#%% md\n"
    }
   }
  },
  {
   "cell_type": "code",
   "execution_count": 553,
   "outputs": [
    {
     "data": {
      "text/plain": "count    101329.000000\nmean          0.065838\nstd           0.444674\nmin          -1.000000\n25%          -0.061638\n50%           0.013019\n75%           0.091637\nmax          10.000000\nName: actqg, dtype: float64"
     },
     "execution_count": 553,
     "metadata": {},
     "output_type": "execute_result"
    }
   ],
   "source": [
    "cstat['actqg'].describe()"
   ],
   "metadata": {
    "collapsed": false,
    "pycharm": {
     "name": "#%%\n"
    }
   }
  },
  {
   "cell_type": "markdown",
   "source": [
    "From this column, we see the mean growth in asset for each company is around 0.06 quarterly, which exceeds the average risk premium! Of course, this result is highly influenced by the outliers (new, rising companies). The median provides a much more reasonable result: 1.3% quarterly growth, which becomes 5.3% annual growth, higher than the risk-free rate but lower than the market risk premium."
   ],
   "metadata": {
    "collapsed": false,
    "pycharm": {
     "name": "#%% md\n"
    }
   }
  },
  {
   "cell_type": "code",
   "execution_count": 554,
   "outputs": [],
   "source": [
    "# cstat.groupby(['NAICS','actqgq'])['ret_1'].mean()"
   ],
   "metadata": {
    "collapsed": false,
    "pycharm": {
     "name": "#%%\n"
    }
   }
  },
  {
   "cell_type": "markdown",
   "source": [
    "### 2.2 Cross-Sectional Regression"
   ],
   "metadata": {
    "collapsed": false,
    "pycharm": {
     "name": "#%% md\n"
    }
   }
  },
  {
   "cell_type": "markdown",
   "source": [
    "After preprocessing, let's explore how well does our proposed variables explains the cross-sectional returns. Intuitively, since after dropping for nan values, we have some consecutive reports that are more than one quarter apart, we will use these observation to evaluate the long-term predictability of returns.\n",
    "\n",
    "Intuitively, since shorter time horizon results are a lot more prone to short-term price actions and is highly subjected to noise, we expect to have longer-term regression performing better. Let's explore if that is really the case.\n",
    "\n",
    "Also, since different industries will behave differently, we expect return predictability to be higher for some industries and lower for others."
   ],
   "metadata": {
    "collapsed": false,
    "pycharm": {
     "name": "#%% md\n"
    }
   }
  },
  {
   "cell_type": "markdown",
   "source": [
    "#### 2.2.1 Unconditional Regressions"
   ],
   "metadata": {
    "collapsed": false,
    "pycharm": {
     "name": "#%% md\n"
    }
   }
  },
  {
   "cell_type": "code",
   "execution_count": 555,
   "outputs": [
    {
     "name": "stdout",
     "output_type": "stream",
     "text": [
      "                            OLS Regression Results                            \n",
      "==============================================================================\n",
      "Dep. Variable:                  ret_1   R-squared:                       0.001\n",
      "Model:                            OLS   Adj. R-squared:                  0.001\n",
      "Method:                 Least Squares   F-statistic:                     12.13\n",
      "Date:                Sun, 04 Dec 2022   Prob (F-statistic):           3.63e-23\n",
      "Time:                        00:37:06   Log-Likelihood:            -1.8026e+05\n",
      "No. Observations:              101329   AIC:                         3.605e+05\n",
      "Df Residuals:                  101317   BIC:                         3.607e+05\n",
      "Df Model:                          11                                         \n",
      "Covariance Type:            nonrobust                                         \n",
      "==============================================================================\n",
      "                 coef    std err          t      P>|t|      [0.025      0.975]\n",
      "------------------------------------------------------------------------------\n",
      "Intercept      0.0361      0.009      4.042      0.000       0.019       0.054\n",
      "ACTQ       -3.774e-07   1.12e-06     -0.336      0.737   -2.58e-06    1.83e-06\n",
      "CEQQ       -8.594e-07   7.42e-07     -1.158      0.247   -2.31e-06    5.95e-07\n",
      "EPSPXQ        -0.0003      0.000     -0.931      0.352      -0.001       0.000\n",
      "OIADPQ     -1.381e-05   9.44e-06     -1.462      0.144   -3.23e-05     4.7e-06\n",
      "IVCHY       1.284e-06   1.59e-06      0.806      0.420   -1.84e-06    4.41e-06\n",
      "REVTY       1.554e-07   4.28e-07      0.363      0.716   -6.83e-07    9.94e-07\n",
      "MKVALTQ     4.323e-08    1.8e-07      0.240      0.811    -3.1e-07    3.97e-07\n",
      "actqg         -0.0216      0.010     -2.137      0.033      -0.042      -0.002\n",
      "pb         -4.074e-07   7.31e-06     -0.056      0.956   -1.47e-05    1.39e-05\n",
      "roe         9.277e-08   3.07e-06      0.030      0.976   -5.92e-06    6.11e-06\n",
      "B_MKT          0.0625      0.006     10.249      0.000       0.051       0.075\n",
      "==============================================================================\n",
      "Omnibus:                   343750.477   Durbin-Watson:                   2.023\n",
      "Prob(Omnibus):                  0.000   Jarque-Bera (JB):     147404470347.724\n",
      "Skew:                          61.979   Prob(JB):                         0.00\n",
      "Kurtosis:                    5910.429   Cond. No.                     9.70e+04\n",
      "==============================================================================\n",
      "\n",
      "Notes:\n",
      "[1] Standard Errors assume that the covariance matrix of the errors is correctly specified.\n",
      "[2] The condition number is large, 9.7e+04. This might indicate that there are\n",
      "strong multicollinearity or other numerical problems.\n"
     ]
    }
   ],
   "source": [
    "reg1_params = ['ACTQ','CEQQ','EPSPXQ','OIADPQ','IVCHY','REVTY','MKVALTQ','actqg','pb','roe','B_MKT']\n",
    "target = 'ret_1'\n",
    "reg1_formula = f\"{target}~\" + \"+\".join(reg1_params)\n",
    "print(smf.ols(reg1_formula,data=cstat).fit().summary())"
   ],
   "metadata": {
    "collapsed": false,
    "pycharm": {
     "name": "#%%\n"
    }
   }
  },
  {
   "cell_type": "markdown",
   "source": [
    "Oh No!!! The effect of asset growth on short-term returns is almost 0. However, this serves as a sanity check that we got our market betas correct, because the coefficient for market beta is around 0.657, which is approximately the annual market return. As a result, when we are desigining our trading strategies, it might not be a good idea to enter/exit our portfolios on a quarterly basis."
   ],
   "metadata": {
    "collapsed": false,
    "pycharm": {
     "name": "#%% md\n"
    }
   }
  },
  {
   "cell_type": "markdown",
   "source": [
    "#### 2.2.2 Regression Conditioned on Industry\n",
    "\n",
    "To explore the differences and find sectors with potential higher predictability of returns, we condition these regressions on industry via the NAICS code. Note that these codes are preprocessed such that we do not care about the detailed category (dropping the sub-code after the first two digits)."
   ],
   "metadata": {
    "collapsed": false,
    "pycharm": {
     "name": "#%% md\n"
    }
   }
  },
  {
   "cell_type": "code",
   "execution_count": 556,
   "outputs": [
    {
     "name": "stdout",
     "output_type": "stream",
     "text": [
      "                            OLS Regression Results                            \n",
      "==============================================================================\n",
      "Dep. Variable:                  ret_1   R-squared:                       0.035\n",
      "Model:                            OLS   Adj. R-squared:                  0.028\n",
      "Method:                 Least Squares   F-statistic:                     5.283\n",
      "Date:                Sun, 04 Dec 2022   Prob (F-statistic):           1.12e-07\n",
      "Time:                        00:37:06   Log-Likelihood:                -2774.6\n",
      "No. Observations:                1477   AIC:                             5571.\n",
      "Df Residuals:                    1466   BIC:                             5629.\n",
      "Df Model:                          10                                         \n",
      "Covariance Type:            nonrobust                                         \n",
      "===============================================================================\n",
      "                  coef    std err          t      P>|t|      [0.025      0.975]\n",
      "-------------------------------------------------------------------------------\n",
      "Intercept       0.0873      0.023      3.829      0.000       0.043       0.132\n",
      "NAICS[T.21]  3.282e-14   9.53e-15      3.444      0.001    1.41e-14    5.15e-14\n",
      "NAICS[T.22] -2.975e-14   7.94e-15     -3.745      0.000   -4.53e-14   -1.42e-14\n",
      "NAICS[T.23]  3.778e-15   2.33e-15      1.618      0.106   -8.01e-16    8.36e-15\n",
      "NAICS[T.31] -9.503e-16   7.25e-16     -1.310      0.190   -2.37e-15    4.72e-16\n",
      "NAICS[T.32]  1.157e-15   4.56e-16      2.540      0.011    2.64e-16    2.05e-15\n",
      "NAICS[T.33]     0.0873      0.023      3.829      0.000       0.043       0.132\n",
      "NAICS[T.42] -1.987e-16   6.83e-17     -2.907      0.004   -3.33e-16   -6.46e-17\n",
      "NAICS[T.44] -7.348e-18   2.87e-18     -2.559      0.011    -1.3e-17   -1.72e-18\n",
      "NAICS[T.45]  6.968e-18   7.92e-18      0.880      0.379   -8.56e-18    2.25e-17\n",
      "NAICS[T.48]  1.833e-17   1.53e-17      1.202      0.230   -1.16e-17    4.82e-17\n",
      "NAICS[T.49]          0          0        nan        nan           0           0\n",
      "NAICS[T.51]          0          0        nan        nan           0           0\n",
      "NAICS[T.52]          0          0        nan        nan           0           0\n",
      "NAICS[T.53]          0          0        nan        nan           0           0\n",
      "NAICS[T.54]          0          0        nan        nan           0           0\n",
      "NAICS[T.56]          0          0        nan        nan           0           0\n",
      "NAICS[T.61]          0          0        nan        nan           0           0\n",
      "NAICS[T.62]          0          0        nan        nan           0           0\n",
      "NAICS[T.71]          0          0        nan        nan           0           0\n",
      "NAICS[T.72]          0          0        nan        nan           0           0\n",
      "NAICS[T.81]          0          0        nan        nan           0           0\n",
      "NAICS[T.92]          0          0        nan        nan           0           0\n",
      "NAICS[T.99]          0          0        nan        nan           0           0\n",
      "ACTQ         1.064e-06   1.15e-05      0.092      0.926   -2.15e-05    2.36e-05\n",
      "CEQQ        -7.974e-06   1.26e-05     -0.635      0.525   -3.26e-05    1.67e-05\n",
      "EPSPXQ         -0.0424      0.042     -1.007      0.314      -0.125       0.040\n",
      "OIADPQ         -0.0025      0.000     -6.544      0.000      -0.003      -0.002\n",
      "IVCHY        3.282e-06   1.18e-05      0.278      0.781   -1.99e-05    2.64e-05\n",
      "REVTY        2.215e-06   7.87e-06      0.281      0.778   -1.32e-05    1.77e-05\n",
      "MKVALTQ      2.376e-05   5.13e-06      4.634      0.000    1.37e-05    3.38e-05\n",
      "actqg          -0.1058      0.091     -1.157      0.248      -0.285       0.074\n",
      "pb             -0.0023      0.000     -5.231      0.000      -0.003      -0.001\n",
      "roe             0.2453      0.035      7.013      0.000       0.177       0.314\n",
      "==============================================================================\n",
      "Omnibus:                     3486.864   Durbin-Watson:                   2.045\n",
      "Prob(Omnibus):                  0.000   Jarque-Bera (JB):         25736170.404\n",
      "Skew:                          22.521   Prob(JB):                         0.00\n",
      "Kurtosis:                     648.106   Cond. No.                     3.14e+17\n",
      "==============================================================================\n",
      "\n",
      "Notes:\n",
      "[1] Standard Errors assume that the covariance matrix of the errors is correctly specified.\n",
      "[2] The smallest eigenvalue is 1.22e-23. This might indicate that there are\n",
      "strong multicollinearity problems or that the design matrix is singular.\n"
     ]
    }
   ],
   "source": [
    "reg1_params = ['ACTQ','CEQQ','EPSPXQ','OIADPQ','IVCHY','REVTY','MKVALTQ','NAICS','actqg','pb','roe']\n",
    "target = 'ret_1'\n",
    "reg1_formula = f\"{target}~\" + \"+\".join(reg1_params)\n",
    "print(smf.ols(reg1_formula,data=cstat[(cstat['quarters']==2) & (cstat['NAICS']==33)]).fit().summary())"
   ],
   "metadata": {
    "collapsed": false,
    "pycharm": {
     "name": "#%%\n"
    }
   }
  },
  {
   "cell_type": "code",
   "execution_count": 557,
   "outputs": [
    {
     "data": {
      "text/plain": "         R^2  Coef_actqg   t_actqg        N\n99  0.132963   -0.004526 -0.091202    371.0\n49  0.104042   -0.409046 -2.174394    162.0\n11  0.027030   -0.055828 -1.699838    309.0\n61  0.019768    0.071230  1.587198    672.0\n45  0.010440    0.038482  0.847021   2124.0\n23  0.010220   -0.049766 -1.023189   1003.0\n44  0.008906   -0.061423 -0.907135   3446.0\n81  0.008073   -0.068644 -0.755817    359.0\n56  0.006185   -0.023357 -0.491309   2347.0\n71  0.005627   -0.022021 -0.270478    554.0\n31  0.005403   -0.013535 -0.674167   5026.0\n54  0.004991    0.041167  0.519642   3881.0\n22  0.004443    0.030698  1.189366   3990.0\n62  0.003364   -0.037102 -0.474927   1544.0\n42  0.003172   -0.042760 -1.085191   3905.0\n52  0.003138   -0.016026 -0.748863   2099.0\n48  0.002931    0.205248  2.426046   3829.0\n21  0.002740   -0.006179 -0.136745   5961.0\n53  0.002396   -0.020773 -0.931156   2373.0\n72  0.001697    0.044823  0.994721   1922.0\n33  0.001186   -0.058999 -2.292052  29339.0\n32  0.001120   -0.061233 -2.625524  15971.0\n51  0.000541   -0.007519 -0.319548  10142.0",
      "text/html": "<div>\n<style scoped>\n    .dataframe tbody tr th:only-of-type {\n        vertical-align: middle;\n    }\n\n    .dataframe tbody tr th {\n        vertical-align: top;\n    }\n\n    .dataframe thead th {\n        text-align: right;\n    }\n</style>\n<table border=\"1\" class=\"dataframe\">\n  <thead>\n    <tr style=\"text-align: right;\">\n      <th></th>\n      <th>R^2</th>\n      <th>Coef_actqg</th>\n      <th>t_actqg</th>\n      <th>N</th>\n    </tr>\n  </thead>\n  <tbody>\n    <tr>\n      <th>99</th>\n      <td>0.132963</td>\n      <td>-0.004526</td>\n      <td>-0.091202</td>\n      <td>371.0</td>\n    </tr>\n    <tr>\n      <th>49</th>\n      <td>0.104042</td>\n      <td>-0.409046</td>\n      <td>-2.174394</td>\n      <td>162.0</td>\n    </tr>\n    <tr>\n      <th>11</th>\n      <td>0.027030</td>\n      <td>-0.055828</td>\n      <td>-1.699838</td>\n      <td>309.0</td>\n    </tr>\n    <tr>\n      <th>61</th>\n      <td>0.019768</td>\n      <td>0.071230</td>\n      <td>1.587198</td>\n      <td>672.0</td>\n    </tr>\n    <tr>\n      <th>45</th>\n      <td>0.010440</td>\n      <td>0.038482</td>\n      <td>0.847021</td>\n      <td>2124.0</td>\n    </tr>\n    <tr>\n      <th>23</th>\n      <td>0.010220</td>\n      <td>-0.049766</td>\n      <td>-1.023189</td>\n      <td>1003.0</td>\n    </tr>\n    <tr>\n      <th>44</th>\n      <td>0.008906</td>\n      <td>-0.061423</td>\n      <td>-0.907135</td>\n      <td>3446.0</td>\n    </tr>\n    <tr>\n      <th>81</th>\n      <td>0.008073</td>\n      <td>-0.068644</td>\n      <td>-0.755817</td>\n      <td>359.0</td>\n    </tr>\n    <tr>\n      <th>56</th>\n      <td>0.006185</td>\n      <td>-0.023357</td>\n      <td>-0.491309</td>\n      <td>2347.0</td>\n    </tr>\n    <tr>\n      <th>71</th>\n      <td>0.005627</td>\n      <td>-0.022021</td>\n      <td>-0.270478</td>\n      <td>554.0</td>\n    </tr>\n    <tr>\n      <th>31</th>\n      <td>0.005403</td>\n      <td>-0.013535</td>\n      <td>-0.674167</td>\n      <td>5026.0</td>\n    </tr>\n    <tr>\n      <th>54</th>\n      <td>0.004991</td>\n      <td>0.041167</td>\n      <td>0.519642</td>\n      <td>3881.0</td>\n    </tr>\n    <tr>\n      <th>22</th>\n      <td>0.004443</td>\n      <td>0.030698</td>\n      <td>1.189366</td>\n      <td>3990.0</td>\n    </tr>\n    <tr>\n      <th>62</th>\n      <td>0.003364</td>\n      <td>-0.037102</td>\n      <td>-0.474927</td>\n      <td>1544.0</td>\n    </tr>\n    <tr>\n      <th>42</th>\n      <td>0.003172</td>\n      <td>-0.042760</td>\n      <td>-1.085191</td>\n      <td>3905.0</td>\n    </tr>\n    <tr>\n      <th>52</th>\n      <td>0.003138</td>\n      <td>-0.016026</td>\n      <td>-0.748863</td>\n      <td>2099.0</td>\n    </tr>\n    <tr>\n      <th>48</th>\n      <td>0.002931</td>\n      <td>0.205248</td>\n      <td>2.426046</td>\n      <td>3829.0</td>\n    </tr>\n    <tr>\n      <th>21</th>\n      <td>0.002740</td>\n      <td>-0.006179</td>\n      <td>-0.136745</td>\n      <td>5961.0</td>\n    </tr>\n    <tr>\n      <th>53</th>\n      <td>0.002396</td>\n      <td>-0.020773</td>\n      <td>-0.931156</td>\n      <td>2373.0</td>\n    </tr>\n    <tr>\n      <th>72</th>\n      <td>0.001697</td>\n      <td>0.044823</td>\n      <td>0.994721</td>\n      <td>1922.0</td>\n    </tr>\n    <tr>\n      <th>33</th>\n      <td>0.001186</td>\n      <td>-0.058999</td>\n      <td>-2.292052</td>\n      <td>29339.0</td>\n    </tr>\n    <tr>\n      <th>32</th>\n      <td>0.001120</td>\n      <td>-0.061233</td>\n      <td>-2.625524</td>\n      <td>15971.0</td>\n    </tr>\n    <tr>\n      <th>51</th>\n      <td>0.000541</td>\n      <td>-0.007519</td>\n      <td>-0.319548</td>\n      <td>10142.0</td>\n    </tr>\n  </tbody>\n</table>\n</div>"
     },
     "execution_count": 557,
     "metadata": {},
     "output_type": "execute_result"
    }
   ],
   "source": [
    "rslt = {}\n",
    "reg2_params = ['DlyPrc', 'ShrOut', 'CURCDQ', 'ACTQ', 'CEQQ','EPSPXQ', 'OIADPQ', 'IVCHY', 'REVTY', 'COSTAT', 'MKVALTQ','actqg', 'pb', 'roe', 'quarters', 'B_MKT']\n",
    "target = 'ret_1'\n",
    "reg2_formula = f\"{target}~\" + \"+\".join(reg1_params)\n",
    "for code in cstat['NAICS'].unique():\n",
    "    reg2 = smf.ols(reg1_formula,data=cstat[(cstat['NAICS']==code)]).fit()\n",
    "    rslt[code] = [reg2.rsquared,reg2.params['actqg'],reg2.tvalues['actqg'],reg2.nobs]\n",
    "rslt = pd.DataFrame(data=rslt).T\n",
    "rslt.columns = ['R^2','Coef_actqg','t_actqg','N']\n",
    "rslt.sort_values('R^2',ascending=False)"
   ],
   "metadata": {
    "collapsed": false,
    "pycharm": {
     "name": "#%%\n"
    }
   }
  },
  {
   "cell_type": "markdown",
   "source": [
    "From this table, it seems like the returns for stocks belonging to some sectors are easier to forecast comparing to others. Although the number of observations are small for some sectors, we see section code 22 (Utilities) is has a considerable 4000+ datapoints with a R^2 of 0.036.\n",
    "\n",
    "One problem is, however, that the coefficient for our actqg and its corresponding t-statistics is highly variable, going from negative to positive from sector to sector. This might be due to the noise and price action of short term returns. Next, we will try to do regressions conditioned both on sectors and number of periods. We hope doing regression with longer time span will diminish the effects of short-term price action and substantially decrease noise of our data."
   ],
   "metadata": {
    "collapsed": false,
    "pycharm": {
     "name": "#%% md\n"
    }
   }
  },
  {
   "cell_type": "markdown",
   "source": [
    "#### 2.2.3 Regression Conditioned on Time-span"
   ],
   "metadata": {
    "collapsed": false,
    "pycharm": {
     "name": "#%% md\n"
    }
   }
  },
  {
   "cell_type": "code",
   "execution_count": 558,
   "outputs": [
    {
     "data": {
      "text/plain": "        R^2  Coef_actqg   t_actqg        N\n7  0.177080   -0.124028 -2.366068    124.0\n5  0.012707   -0.016537 -0.611575   1835.0\n0  0.012329   -0.022245 -0.423954   1125.0\n2  0.010517   -0.059640 -1.917717   5164.0\n4  0.010141   -0.001325 -0.020955   1249.0\n6  0.005946    0.010488  0.657379   4467.0\n3  0.005200   -0.037780 -1.310973   5958.0\n1  0.001106   -0.029328 -2.106231  80761.0",
      "text/html": "<div>\n<style scoped>\n    .dataframe tbody tr th:only-of-type {\n        vertical-align: middle;\n    }\n\n    .dataframe tbody tr th {\n        vertical-align: top;\n    }\n\n    .dataframe thead th {\n        text-align: right;\n    }\n</style>\n<table border=\"1\" class=\"dataframe\">\n  <thead>\n    <tr style=\"text-align: right;\">\n      <th></th>\n      <th>R^2</th>\n      <th>Coef_actqg</th>\n      <th>t_actqg</th>\n      <th>N</th>\n    </tr>\n  </thead>\n  <tbody>\n    <tr>\n      <th>7</th>\n      <td>0.177080</td>\n      <td>-0.124028</td>\n      <td>-2.366068</td>\n      <td>124.0</td>\n    </tr>\n    <tr>\n      <th>5</th>\n      <td>0.012707</td>\n      <td>-0.016537</td>\n      <td>-0.611575</td>\n      <td>1835.0</td>\n    </tr>\n    <tr>\n      <th>0</th>\n      <td>0.012329</td>\n      <td>-0.022245</td>\n      <td>-0.423954</td>\n      <td>1125.0</td>\n    </tr>\n    <tr>\n      <th>2</th>\n      <td>0.010517</td>\n      <td>-0.059640</td>\n      <td>-1.917717</td>\n      <td>5164.0</td>\n    </tr>\n    <tr>\n      <th>4</th>\n      <td>0.010141</td>\n      <td>-0.001325</td>\n      <td>-0.020955</td>\n      <td>1249.0</td>\n    </tr>\n    <tr>\n      <th>6</th>\n      <td>0.005946</td>\n      <td>0.010488</td>\n      <td>0.657379</td>\n      <td>4467.0</td>\n    </tr>\n    <tr>\n      <th>3</th>\n      <td>0.005200</td>\n      <td>-0.037780</td>\n      <td>-1.310973</td>\n      <td>5958.0</td>\n    </tr>\n    <tr>\n      <th>1</th>\n      <td>0.001106</td>\n      <td>-0.029328</td>\n      <td>-2.106231</td>\n      <td>80761.0</td>\n    </tr>\n  </tbody>\n</table>\n</div>"
     },
     "execution_count": 558,
     "metadata": {},
     "output_type": "execute_result"
    }
   ],
   "source": [
    "rslt = {}\n",
    "reg2_params = ['DlyPrc', 'ShrOut', 'CURCDQ', 'ACTQ', 'CEQQ','EPSPXQ', 'OIADPQ', 'IVCHY', 'REVTY', 'COSTAT', 'MKVALTQ','actqg', 'pb', 'roe', 'B_MKT']\n",
    "target = 'ret_1'\n",
    "reg2_formula = f\"{target}~\" + \"+\".join(reg1_params)\n",
    "for n in range(8):\n",
    "    reg2 = smf.ols(reg1_formula,data=cstat[(cstat['quarters']==n)]).fit()\n",
    "    rslt[n] = [reg2.rsquared,reg2.params['actqg'],reg2.tvalues['actqg'],reg2.nobs]\n",
    "rslt = pd.DataFrame(data=rslt).T\n",
    "rslt.columns = ['R^2','Coef_actqg','t_actqg','N']\n",
    "rslt.sort_values('R^2',ascending=False)"
   ],
   "metadata": {
    "collapsed": false,
    "pycharm": {
     "name": "#%%\n"
    }
   }
  },
  {
   "cell_type": "markdown",
   "source": [
    "Here, observe that we have the highest R^2 for the data with the smallest amount of observations. This is purely due to the fact that we don't have enough observations for 7 quarters ahead of returns. However, Wedo see predictability increase for observations with more than 1 quarter ahead. Another result of this regression is that we see the coefficients for the growth of asset becomes negative after two year and is somewhat consistant. That is, for any 1% increase in asset of the current quarter, we expect to see a decrease in return in the short term but this return eventually reverses in the long run."
   ],
   "metadata": {
    "collapsed": false,
    "pycharm": {
     "name": "#%% md\n"
    }
   }
  },
  {
   "cell_type": "markdown",
   "source": [
    "#### 2.2.3 Regression Conditioned on both Industry and Time-span"
   ],
   "metadata": {
    "collapsed": false,
    "pycharm": {
     "name": "#%% md\n"
    }
   }
  },
  {
   "cell_type": "code",
   "execution_count": 559,
   "outputs": [
    {
     "data": {
      "text/plain": "                        R^2  Coef_actqg   t_actqg        N\nn_quarters sector                                         \n2          33      0.034782   -0.105777 -1.156847   1477.0\n1          61      0.026807    0.092312  1.618564    537.0\n2          51      0.016407   -0.112264 -0.909811    593.0\n1          45      0.013534   -0.065585 -0.933140   1605.0\n5          33      0.012978    0.186360  1.856720    539.0\n1          22      0.012689   -0.004606 -0.345688   3247.0\n           23      0.011978   -0.027780 -0.442737    800.0\n           44      0.011553   -0.047597 -0.562409   2559.0\n           31      0.005880    0.009066  0.310780   3930.0\n           56      0.005858   -0.024041 -0.344167   1870.0\n           52      0.004774   -0.014158 -0.523249   1708.0\n           62      0.004236   -0.083668 -0.681680   1255.0\n3          51      0.003760   -0.011592 -0.280072    596.0\n           32      0.003519   -0.095186 -1.305536    978.0\n1          53      0.003469    0.003222  0.124384   1906.0\n           54      0.003264    0.130075  1.204272   3125.0\n           21      0.003129   -0.016333 -0.257439   4821.0\n2          32      0.003127   -0.030349 -0.655615    766.0\n1          48      0.003104    0.237378  2.097054   3069.0\n6          33      0.003022    0.026186  0.613221   1334.0\n1          42      0.002540   -0.044035 -0.622456   3098.0\n           72      0.002321    0.068717  1.121044   1541.0\n3          33      0.002005   -0.044738 -0.507737   1689.0\n6          32      0.001568    0.007869  0.247988    774.0\n1          33      0.001254   -0.087602 -2.512510  23468.0\n           32      0.001119   -0.071580 -2.273745  12908.0\n           51      0.000604   -0.012967 -0.450990   7880.0",
      "text/html": "<div>\n<style scoped>\n    .dataframe tbody tr th:only-of-type {\n        vertical-align: middle;\n    }\n\n    .dataframe tbody tr th {\n        vertical-align: top;\n    }\n\n    .dataframe thead th {\n        text-align: right;\n    }\n</style>\n<table border=\"1\" class=\"dataframe\">\n  <thead>\n    <tr style=\"text-align: right;\">\n      <th></th>\n      <th></th>\n      <th>R^2</th>\n      <th>Coef_actqg</th>\n      <th>t_actqg</th>\n      <th>N</th>\n    </tr>\n    <tr>\n      <th>n_quarters</th>\n      <th>sector</th>\n      <th></th>\n      <th></th>\n      <th></th>\n      <th></th>\n    </tr>\n  </thead>\n  <tbody>\n    <tr>\n      <th>2</th>\n      <th>33</th>\n      <td>0.034782</td>\n      <td>-0.105777</td>\n      <td>-1.156847</td>\n      <td>1477.0</td>\n    </tr>\n    <tr>\n      <th>1</th>\n      <th>61</th>\n      <td>0.026807</td>\n      <td>0.092312</td>\n      <td>1.618564</td>\n      <td>537.0</td>\n    </tr>\n    <tr>\n      <th>2</th>\n      <th>51</th>\n      <td>0.016407</td>\n      <td>-0.112264</td>\n      <td>-0.909811</td>\n      <td>593.0</td>\n    </tr>\n    <tr>\n      <th>1</th>\n      <th>45</th>\n      <td>0.013534</td>\n      <td>-0.065585</td>\n      <td>-0.933140</td>\n      <td>1605.0</td>\n    </tr>\n    <tr>\n      <th>5</th>\n      <th>33</th>\n      <td>0.012978</td>\n      <td>0.186360</td>\n      <td>1.856720</td>\n      <td>539.0</td>\n    </tr>\n    <tr>\n      <th rowspan=\"7\" valign=\"top\">1</th>\n      <th>22</th>\n      <td>0.012689</td>\n      <td>-0.004606</td>\n      <td>-0.345688</td>\n      <td>3247.0</td>\n    </tr>\n    <tr>\n      <th>23</th>\n      <td>0.011978</td>\n      <td>-0.027780</td>\n      <td>-0.442737</td>\n      <td>800.0</td>\n    </tr>\n    <tr>\n      <th>44</th>\n      <td>0.011553</td>\n      <td>-0.047597</td>\n      <td>-0.562409</td>\n      <td>2559.0</td>\n    </tr>\n    <tr>\n      <th>31</th>\n      <td>0.005880</td>\n      <td>0.009066</td>\n      <td>0.310780</td>\n      <td>3930.0</td>\n    </tr>\n    <tr>\n      <th>56</th>\n      <td>0.005858</td>\n      <td>-0.024041</td>\n      <td>-0.344167</td>\n      <td>1870.0</td>\n    </tr>\n    <tr>\n      <th>52</th>\n      <td>0.004774</td>\n      <td>-0.014158</td>\n      <td>-0.523249</td>\n      <td>1708.0</td>\n    </tr>\n    <tr>\n      <th>62</th>\n      <td>0.004236</td>\n      <td>-0.083668</td>\n      <td>-0.681680</td>\n      <td>1255.0</td>\n    </tr>\n    <tr>\n      <th rowspan=\"2\" valign=\"top\">3</th>\n      <th>51</th>\n      <td>0.003760</td>\n      <td>-0.011592</td>\n      <td>-0.280072</td>\n      <td>596.0</td>\n    </tr>\n    <tr>\n      <th>32</th>\n      <td>0.003519</td>\n      <td>-0.095186</td>\n      <td>-1.305536</td>\n      <td>978.0</td>\n    </tr>\n    <tr>\n      <th rowspan=\"3\" valign=\"top\">1</th>\n      <th>53</th>\n      <td>0.003469</td>\n      <td>0.003222</td>\n      <td>0.124384</td>\n      <td>1906.0</td>\n    </tr>\n    <tr>\n      <th>54</th>\n      <td>0.003264</td>\n      <td>0.130075</td>\n      <td>1.204272</td>\n      <td>3125.0</td>\n    </tr>\n    <tr>\n      <th>21</th>\n      <td>0.003129</td>\n      <td>-0.016333</td>\n      <td>-0.257439</td>\n      <td>4821.0</td>\n    </tr>\n    <tr>\n      <th>2</th>\n      <th>32</th>\n      <td>0.003127</td>\n      <td>-0.030349</td>\n      <td>-0.655615</td>\n      <td>766.0</td>\n    </tr>\n    <tr>\n      <th>1</th>\n      <th>48</th>\n      <td>0.003104</td>\n      <td>0.237378</td>\n      <td>2.097054</td>\n      <td>3069.0</td>\n    </tr>\n    <tr>\n      <th>6</th>\n      <th>33</th>\n      <td>0.003022</td>\n      <td>0.026186</td>\n      <td>0.613221</td>\n      <td>1334.0</td>\n    </tr>\n    <tr>\n      <th rowspan=\"2\" valign=\"top\">1</th>\n      <th>42</th>\n      <td>0.002540</td>\n      <td>-0.044035</td>\n      <td>-0.622456</td>\n      <td>3098.0</td>\n    </tr>\n    <tr>\n      <th>72</th>\n      <td>0.002321</td>\n      <td>0.068717</td>\n      <td>1.121044</td>\n      <td>1541.0</td>\n    </tr>\n    <tr>\n      <th>3</th>\n      <th>33</th>\n      <td>0.002005</td>\n      <td>-0.044738</td>\n      <td>-0.507737</td>\n      <td>1689.0</td>\n    </tr>\n    <tr>\n      <th>6</th>\n      <th>32</th>\n      <td>0.001568</td>\n      <td>0.007869</td>\n      <td>0.247988</td>\n      <td>774.0</td>\n    </tr>\n    <tr>\n      <th rowspan=\"3\" valign=\"top\">1</th>\n      <th>33</th>\n      <td>0.001254</td>\n      <td>-0.087602</td>\n      <td>-2.512510</td>\n      <td>23468.0</td>\n    </tr>\n    <tr>\n      <th>32</th>\n      <td>0.001119</td>\n      <td>-0.071580</td>\n      <td>-2.273745</td>\n      <td>12908.0</td>\n    </tr>\n    <tr>\n      <th>51</th>\n      <td>0.000604</td>\n      <td>-0.012967</td>\n      <td>-0.450990</td>\n      <td>7880.0</td>\n    </tr>\n  </tbody>\n</table>\n</div>"
     },
     "execution_count": 559,
     "metadata": {},
     "output_type": "execute_result"
    }
   ],
   "source": [
    "rslt = {}\n",
    "reg2_params = ['DlyPrc', 'ShrOut', 'CURCDQ', 'ACTQ', 'CEQQ','EPSPXQ', 'OIADPQ', 'IVCHY', 'REVTY', 'COSTAT', 'MKVALTQ','actqg', 'pb', 'roe', 'quarters', 'B_MKT']\n",
    "target = 'ret_1'\n",
    "reg2_formula = f\"{target}~\" + \"+\".join(reg1_params)\n",
    "for quarter in range(7):\n",
    "    for code in cstat['NAICS'].unique():\n",
    "        curr_reg = cstat[(cstat['NAICS']==code) & (cstat['quarters']==quarter)]\n",
    "        if len(curr_reg) < 500:\n",
    "            continue\n",
    "        reg2 = smf.ols(reg1_formula,data=curr_reg).fit()\n",
    "        rslt[quarter,code] = [reg2.rsquared,reg2.params['actqg'],reg2.tvalues['actqg'],reg2.nobs]\n",
    "\n",
    "rslt = pd.DataFrame(data=rslt).T\n",
    "rslt.columns = ['R^2','Coef_actqg','t_actqg','N']\n",
    "rslt.index.names = ['n_quarters','sector']\n",
    "rslt.sort_values('R^2',ascending=False)"
   ],
   "metadata": {
    "collapsed": false,
    "pycharm": {
     "name": "#%%\n"
    }
   }
  },
  {
   "cell_type": "markdown",
   "source": [
    "Again, 1 quarter ahead for sector 22 (Utilites) score the highest R^2 with substantial amount of observations (3322). Thus, we can extra this model and devise a trading strategy based on this regression. Let's see how it works."
   ],
   "metadata": {
    "collapsed": false,
    "pycharm": {
     "name": "#%% md\n"
    }
   }
  },
  {
   "cell_type": "markdown",
   "source": [
    "## 3. Trading Strategy\n",
    "\n",
    "In this section, we will utilize the previously observed good predictability of utilites companies future returns to design a profitable trading strategy."
   ],
   "metadata": {
    "collapsed": false,
    "pycharm": {
     "name": "#%% md\n"
    }
   }
  },
  {
   "cell_type": "markdown",
   "source": [
    "### 3.1 Description of the Trading Strategy & Config"
   ],
   "metadata": {
    "collapsed": false,
    "pycharm": {
     "name": "#%% md\n"
    }
   }
  },
  {
   "cell_type": "code",
   "execution_count": 812,
   "outputs": [],
   "source": [
    "split_point = '2015-01-01'\n",
    "startegy_params = ['DlyPrc', 'ShrOut', 'ACTQ', 'CEQQ','EPSPXQ', 'OIADPQ', 'IVCHY', 'REVTY', 'MKVALTQ','actqg', 'pb', 'roe', 'B_MKT']\n",
    "sector_code = 33\n",
    "n_quarters = 1"
   ],
   "metadata": {
    "collapsed": false,
    "pycharm": {
     "name": "#%%\n"
    }
   }
  },
  {
   "cell_type": "markdown",
   "source": [
    "According to the previous regressions, we decided to trade sector 22 stocks with a holding period of one quarter. More specifically, we create a long-short portfolio based on the prediction of our linear regression and assign weights accordingly. Naturally, we will rebalance our portfolio when the reports whenever the quarterly report for a company comes out."
   ],
   "metadata": {
    "collapsed": false,
    "pycharm": {
     "name": "#%% md\n"
    }
   }
  },
  {
   "cell_type": "markdown",
   "source": [
    "### 3.2 Train Test Split"
   ],
   "metadata": {
    "collapsed": false,
    "pycharm": {
     "name": "#%% md\n"
    }
   }
  },
  {
   "cell_type": "code",
   "execution_count": 813,
   "outputs": [],
   "source": [
    "def winsorize_all(dfs):\n",
    "    rslt = []\n",
    "    for df in dfs:\n",
    "        rslt.append(df.apply(lambda col:winsorize(col)))\n",
    "    return rslt"
   ],
   "metadata": {
    "collapsed": false,
    "pycharm": {
     "name": "#%%\n"
    }
   }
  },
  {
   "cell_type": "code",
   "execution_count": 814,
   "outputs": [
    {
     "name": "stdout",
     "output_type": "stream",
     "text": [
      "Training Period: 2000-10-31 to 2014-12-31\n",
      "Testing Period: 2015-03-31 to 2021-09-30\n"
     ]
    }
   ],
   "source": [
    "mask = (cstat['NAICS'] == sector_code) & (cstat['quarters'] == n_quarters)\n",
    "# mask = (cstat['quarters'] == n_quarters)\n",
    "\n",
    "test_set = cstat[(cstat['DATE']>split_point) & mask].copy()\n",
    "train_set = cstat[(cstat['DATE']<=split_point) & mask]\n",
    "X_train = train_set[startegy_params]\n",
    "y_train = train_set['ret_1']\n",
    "X_test = test_set[startegy_params]\n",
    "y_test = test_set['ret_1']\n",
    "\n",
    "X_train,y_train = winsorize_all([X_train,y_train])\n",
    "\n",
    "print(f\"Training Period: {str(train_set['DATE'].min())[:10]} to {str(train_set['DATE'].max())[:10]}\")\n",
    "print(f\"Testing Period: {str(test_set['DATE'].min())[:10]} to {str(test_set['DATE'].max())[:10]}\")"
   ],
   "metadata": {
    "collapsed": false,
    "pycharm": {
     "name": "#%%\n"
    }
   }
  },
  {
   "cell_type": "markdown",
   "source": [
    "### 3.3 Strategy Implementations"
   ],
   "metadata": {
    "collapsed": false,
    "pycharm": {
     "name": "#%% md\n"
    }
   }
  },
  {
   "cell_type": "markdown",
   "source": [
    "### 3.3.1 Naive Buy and Hold Portfolio"
   ],
   "metadata": {
    "collapsed": false
   }
  },
  {
   "cell_type": "code",
   "execution_count": 815,
   "outputs": [
    {
     "name": "stdout",
     "output_type": "stream",
     "text": [
      "[*********************100%***********************]  1 of 1 completed\n"
     ]
    }
   ],
   "source": [
    "spy = yf.download(\"SPY\")['Adj Close'].rename('SPY')\n",
    "spy_ret = spy[test_set['DATE'].unique()].pct_change()\n",
    "spy_ret[0] = 0\n",
    "spy_index = (spy_ret + 1).cumprod()"
   ],
   "metadata": {
    "collapsed": false,
    "pycharm": {
     "name": "#%%\n"
    }
   }
  },
  {
   "cell_type": "code",
   "execution_count": 816,
   "outputs": [],
   "source": [
    "naive_df = test_set[['PERMNO', 'DATE', 'ret_1']].copy()\n",
    "naive_df = pd.merge(1 / naive_df.groupby('DATE')['ret_1'].count().rename('strat_weight'), naive_df, on='DATE')\n",
    "naive_df['stock_ret'] = naive_df['strat_weight'] * naive_df['ret_1']\n",
    "naive_ret = naive_df.groupby(['DATE'])['stock_ret'].mean()\n",
    "naive_port = (1 + naive_ret).cumprod().rename('Naive Buy and Hold')"
   ],
   "metadata": {
    "collapsed": false,
    "pycharm": {
     "name": "#%%\n"
    }
   }
  },
  {
   "cell_type": "code",
   "execution_count": 817,
   "outputs": [
    {
     "data": {
      "text/plain": "<Figure size 1008x288 with 2 Axes>",
      "image/png": "[encoded data removed]"
     },
     "metadata": {
      "needs_background": "light"
     },
     "output_type": "display_data"
    }
   ],
   "source": [
    "fig, axs = plt.subplots(1, 2, figsize=(2 * 7, 4))\n",
    "naive_port.plot(label='Naive Buy & Hold', ax=axs[0], legend=True)\n",
    "spy_index.plot(label='SPY', ax=axs[0], legend=True)\n",
    "naive_ret.plot(label='Naive Buy & Hold', ax=axs[1], legend=True)\n",
    "spy_ret.plot(label='SPY', ax=axs[1], legend=True)\n",
    "axs[0].set_title('Naive Portfolio')\n",
    "axs[1].set_title('Naive Returns')\n",
    "plt.show()"
   ],
   "metadata": {
    "collapsed": false,
    "pycharm": {
     "name": "#%%\n"
    }
   }
  },
  {
   "cell_type": "markdown",
   "source": [
    "#### 3.3.2 Proposed Portfolio: Regression on Sector 22, 1 Quarter Holding"
   ],
   "metadata": {
    "collapsed": false,
    "pycharm": {
     "name": "#%% md\n"
    }
   }
  },
  {
   "cell_type": "code",
   "execution_count": 818,
   "outputs": [
    {
     "name": "stdout",
     "output_type": "stream",
     "text": [
      "                            OLS Regression Results                            \n",
      "==============================================================================\n",
      "Dep. Variable:                  ret_1   R-squared:                       0.002\n",
      "Model:                            OLS   Adj. R-squared:                  0.001\n",
      "Method:                 Least Squares   F-statistic:                     2.675\n",
      "Date:                Sun, 04 Dec 2022   Prob (F-statistic):           0.000925\n",
      "Time:                        01:20:28   Log-Likelihood:                -29364.\n",
      "No. Observations:               14930   AIC:                         5.876e+04\n",
      "Df Residuals:                   14916   BIC:                         5.886e+04\n",
      "Df Model:                          13                                         \n",
      "Covariance Type:            nonrobust                                         \n",
      "==============================================================================\n",
      "                 coef    std err          t      P>|t|      [0.025      0.975]\n",
      "------------------------------------------------------------------------------\n",
      "Intercept      0.1001      0.034      2.934      0.003       0.033       0.167\n",
      "DlyPrc        -0.0008      0.001     -1.206      0.228      -0.002       0.000\n",
      "ShrOut     -1.787e-08    5.3e-08     -0.337      0.736   -1.22e-07     8.6e-08\n",
      "ACTQ        2.042e-06   5.37e-06      0.380      0.704   -8.49e-06    1.26e-05\n",
      "CEQQ       -6.241e-06   5.58e-06     -1.119      0.263   -1.72e-05     4.7e-06\n",
      "EPSPXQ        -0.0702      0.022     -3.158      0.002      -0.114      -0.027\n",
      "OIADPQ      2.822e-05    6.9e-05      0.409      0.683      -0.000       0.000\n",
      "IVCHY       1.408e-06   4.88e-06      0.289      0.773   -8.15e-06     1.1e-05\n",
      "REVTY       1.969e-06    3.1e-06      0.636      0.525    -4.1e-06    8.04e-06\n",
      "MKVALTQ    -1.059e-07   2.58e-06     -0.041      0.967   -5.16e-06    4.95e-06\n",
      "actqg         -0.1597      0.061     -2.604      0.009      -0.280      -0.039\n",
      "pb          4.436e-05      0.000      0.272      0.785      -0.000       0.000\n",
      "roe            0.0003      0.003      0.088      0.930      -0.006       0.007\n",
      "B_MKT          0.0165      0.019      0.875      0.382      -0.020       0.053\n",
      "==============================================================================\n",
      "Omnibus:                    56101.909   Durbin-Watson:                   2.015\n",
      "Prob(Omnibus):                  0.000   Jarque-Bera (JB):      40072546214.831\n",
      "Skew:                          83.959   Prob(JB):                         0.00\n",
      "Kurtosis:                    8027.244   Cond. No.                     2.09e+06\n",
      "==============================================================================\n",
      "\n",
      "Notes:\n",
      "[1] Standard Errors assume that the covariance matrix of the errors is correctly specified.\n",
      "[2] The condition number is large, 2.09e+06. This might indicate that there are\n",
      "strong multicollinearity or other numerical problems.\n"
     ]
    }
   ],
   "source": [
    "target = 'ret_1'\n",
    "strategy_formula = f\"{target}~\" + \"+\".join(startegy_params)\n",
    "strategy = smf.ols(strategy_formula,data=train_set).fit()\n",
    "print(strategy.summary())"
   ],
   "metadata": {
    "collapsed": false,
    "pycharm": {
     "name": "#%%\n"
    }
   }
  },
  {
   "cell_type": "code",
   "execution_count": 819,
   "outputs": [],
   "source": [
    "reg_df = test_set[['PERMNO','DATE','ret_1']].copy()\n",
    "reg_df['ret_1_pred'] = strategy.predict(X_test).values\n",
    "pred_sum = pd.merge(reg_df,reg_df.groupby('DATE')['ret_1_pred'].apply(lambda x:x.abs().sum()).rename('weight_sum'),on='DATE')['weight_sum'].values\n",
    "reg_df['strategy_weight'] = reg_df['ret_1_pred'] /pred_sum"
   ],
   "metadata": {
    "collapsed": false,
    "pycharm": {
     "name": "#%%\n"
    }
   }
  },
  {
   "cell_type": "code",
   "execution_count": 820,
   "outputs": [],
   "source": [
    "reg_df['stock_ret'] = reg_df['strategy_weight'] * reg_df['ret_1']\n",
    "reg_rf = reg_df.groupby('DATE')['strategy_weight'].agg(lambda x:x.sum()-1) * (0.03/4)\n",
    "reg_ret = reg_df.groupby('DATE')['stock_ret'].mean() - reg_rf\n",
    "reg_port = (reg_ret + 1).cumprod()\n",
    "reg_port = reg_port / reg_port[0]"
   ],
   "metadata": {
    "collapsed": false,
    "pycharm": {
     "name": "#%%\n"
    }
   }
  },
  {
   "cell_type": "code",
   "execution_count": 821,
   "outputs": [
    {
     "data": {
      "text/plain": "<Figure size 1008x288 with 2 Axes>",
      "image/png": "[encoded data removed]"
     },
     "metadata": {
      "needs_background": "light"
     },
     "output_type": "display_data"
    }
   ],
   "source": [
    "fig,axs = plt.subplots(1,2,figsize=(2*7,4))\n",
    "reg_port.to_frame().rename({0:'Regression Strategy'},axis=1).join(naive_port).plot(legend=True,ax=axs[0])\n",
    "reg_ret.to_frame().rename({0:'Regression Strategy'},axis=1).join(naive_ret).plot(legend=True,ax=axs[1])\n",
    "axs[0].set_title('Strategy Portfolio')\n",
    "axs[1].set_title('Strategy Returns')\n",
    "plt.show()"
   ],
   "metadata": {
    "collapsed": false,
    "pycharm": {
     "name": "#%%\n"
    }
   }
  },
  {
   "cell_type": "markdown",
   "source": [
    "#### 3.3.3 Short-Long Based on Asset Growth\n",
    "\n",
    "**Note:** The analysis in the section is not rigorous since we do not know the categories (qcuts) of the asset growth before observing the entire time series of asset growth. However, what we did can be a good approximation for the actual portfolio."
   ],
   "metadata": {
    "collapsed": false,
    "pycharm": {
     "name": "#%% md\n"
    }
   }
  },
  {
   "cell_type": "code",
   "execution_count": 822,
   "outputs": [],
   "source": [
    "actqg_df = test_set[['PERMNO','DATE','ret_1','actqg']].copy()\n",
    "actqg_df['actqgq'] = pd.qcut(test_set['actqg'],5,labels=list(range(1,6))).astype(np.int16)\n",
    "actqg_df = actqg_df[actqg_df['actqgq'] == 1]\n",
    "actqg_df = pd.merge(1 / actqg_df.groupby('DATE')['ret_1'].count().rename('strat_weight'), actqg_df, on='DATE')\n",
    "actqg_df['stock_ret'] = actqg_df['strat_weight'] * actqg_df['ret_1']\n",
    "actqg_ret = actqg_df.groupby(['DATE'])['stock_ret'].mean()\n",
    "actqg_port = (1 + actqg_ret).cumprod().rename()"
   ],
   "metadata": {
    "collapsed": false,
    "pycharm": {
     "name": "#%%\n"
    }
   }
  },
  {
   "cell_type": "code",
   "execution_count": 823,
   "outputs": [
    {
     "data": {
      "text/plain": "<Figure size 1008x288 with 2 Axes>",
      "image/png": "[encoded data removed]"
     },
     "metadata": {
      "needs_background": "light"
     },
     "output_type": "display_data"
    }
   ],
   "source": [
    "fig,axs = plt.subplots(1,2,figsize=(2*7,4))\n",
    "\n",
    "port_plot = pd.concat([actqg_port,naive_port,reg_port],axis=1)\n",
    "port_plot.columns = ['Asset Growth Rate Portfolio','Naive Buy and Hold','Regression']\n",
    "port_plot.plot(legend=True,ax=axs[0])\n",
    "\n",
    "ret_plot = pd.concat([actqg_ret,naive_ret,reg_ret],axis=1)\n",
    "ret_plot.columns = ['Asset Growth Rate Portfolio','Naive Buy and Hold','Regression']\n",
    "ret_plot.plot(legend=True,ax=axs[1])\n",
    "\n",
    "plt.show()"
   ],
   "metadata": {
    "collapsed": false,
    "pycharm": {
     "name": "#%%\n"
    }
   }
  },
  {
   "cell_type": "markdown",
   "source": [
    "### 3.4 Analysis of Strategies"
   ],
   "metadata": {
    "collapsed": false,
    "pycharm": {
     "name": "#%% md\n"
    }
   }
  },
  {
   "cell_type": "code",
   "execution_count": 824,
   "outputs": [],
   "source": [
    "def eval_portfolio(port_ret,spy_ret):\n",
    "    sharpe = (port_ret - 0.03 / 4).mean() / port_ret.std() * np.sqrt(4)\n",
    "    mean_ret = (1 + port_ret.mean()) ** 4 - 1\n",
    "    beta = np.cov(port_ret,spy_ret)[0,1]/port_ret.var()\n",
    "    print(f\"Sharpe Ratio:{round(sharpe,4)}\")\n",
    "    print(f\"Mean Return:{round(mean_ret,4)}\")\n",
    "    print(f\"Market Beta:{round(beta,4)}\\n\")"
   ],
   "metadata": {
    "collapsed": false,
    "pycharm": {
     "name": "#%%\n"
    }
   }
  },
  {
   "cell_type": "code",
   "execution_count": 825,
   "outputs": [
    {
     "name": "stdout",
     "output_type": "stream",
     "text": [
      "---Strategy:Regression on Sector:33, 1 quarters holding period---\n",
      "Sharpe Ratio:-0.9727\n",
      "Mean Return:0.016\n",
      "Market Beta:-0.7728\n",
      "\n",
      "---Strategy:Naive Buy and Hold\n",
      "Sharpe Ratio:-2.2422\n",
      "Mean Return:0.0039\n",
      "Market Beta:-6.4349\n",
      "\n",
      "---Portfolio: SPY---\n",
      "Sharpe Ratio:0.344\n",
      "Mean Return:0.1436\n",
      "Market Beta:1.0\n",
      "\n",
      "---Portfolio: actgq---\n",
      "Sharpe Ratio:0.5179\n",
      "Mean Return:0.1232\n",
      "Market Beta:-0.7579\n",
      "\n"
     ]
    }
   ],
   "source": [
    "print(f'---Strategy:Regression on Sector:{sector_code}, {n_quarters} quarters holding period---')\n",
    "eval_portfolio(reg_ret,spy_ret)\n",
    "\n",
    "print(f'---Strategy:Naive Buy and Hold')\n",
    "eval_portfolio(naive_ret,spy_ret)\n",
    "\n",
    "print(f'---Portfolio: SPY---')\n",
    "eval_portfolio(spy_ret,spy_ret)\n",
    "\n",
    "print(f'---Portfolio: actgq---')\n",
    "eval_portfolio(actqg_ret,spy_ret[actqg_ret.index])"
   ],
   "metadata": {
    "collapsed": false,
    "pycharm": {
     "name": "#%%\n"
    }
   }
  }
 ],
 "metadata": {
  "kernelspec": {
   "display_name": "Python 3",
   "language": "python",
   "name": "python3"
  },
  "language_info": {
   "codemirror_mode": {
    "name": "ipython",
    "version": 2
   },
   "file_extension": ".py",
   "mimetype": "text/x-python",
   "name": "python",
   "nbconvert_exporter": "python",
   "pygments_lexer": "ipython2",
   "version": "2.7.6"
  }
 },
 "nbformat": 4,
 "nbformat_minor": 0
}